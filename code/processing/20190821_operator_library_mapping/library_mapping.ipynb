{
 "cells": [
  {
   "cell_type": "markdown",
   "metadata": {},
   "source": [
    "# 20190821 operator-barcode library mapping"
   ]
  },
  {
   "cell_type": "markdown",
   "metadata": {},
   "source": [
    "(c) 2019 Manuel Razo. This work is licensed under a [Creative Commons Attribution License CC-BY 4.0](https://creativecommons.org/licenses/by/4.0/). All code contained herein is licensed under an [MIT license](https://opensource.org/licenses/MIT)."
   ]
  },
  {
   "cell_type": "code",
   "execution_count": 78,
   "metadata": {},
   "outputs": [],
   "source": [
    "import os\n",
    "import glob\n",
    "import itertools\n",
    "import re\n",
    "import numpy as np\n",
    "import pandas as pd\n",
    "from joblib import Parallel, delayed\n",
    "import skbio"
   ]
  },
  {
   "cell_type": "markdown",
   "metadata": {},
   "source": [
    "## Objective"
   ]
  },
  {
   "cell_type": "markdown",
   "metadata": {},
   "source": [
    "The objective of this notebook is to process the sequences generated on `20190818` to map the `O1`, `O2`, and `O3` libraries with their corresponding random 20mer barcodes.\n",
    "\n",
    "For this dataset we have two technical replicas given by two different barcodes. In principle these libraries should be exactly the same since they were generated from the same library and only on the last PCRs the different index were added. Let's first find these files."
   ]
  },
  {
   "cell_type": "code",
   "execution_count": 18,
   "metadata": {},
   "outputs": [
    {
     "data": {
      "text/plain": [
       "['../../../data/processed_sequencing/20190821_operator_library_mapping/index1_merged.fastq.gz',\n",
       " '../../../data/processed_sequencing/20190821_operator_library_mapping/index2_merged.fastq.gz']"
      ]
     },
     "execution_count": 18,
     "metadata": {},
     "output_type": "execute_result"
    }
   ],
   "source": [
    "# Define data directory\n",
    "datadir = '../../../data/processed_sequencing/' +\\\n",
    "          '20190821_operator_library_mapping/'\n",
    "\n",
    "# List all fastq.gz files\n",
    "fastq_files = glob.glob(f'{datadir}*.fastq.gz')\n",
    "\n",
    "fastq_files"
   ]
  },
  {
   "cell_type": "markdown",
   "metadata": {},
   "source": [
    "Ok. We now have a list of the files, now we can begin manipulating them. To get a feeling for the data let's partially read one of them into memory."
   ]
  },
  {
   "cell_type": "code",
   "execution_count": 45,
   "metadata": {},
   "outputs": [
    {
     "data": {
      "text/html": [
       "<div>\n",
       "<style scoped>\n",
       "    .dataframe tbody tr th:only-of-type {\n",
       "        vertical-align: middle;\n",
       "    }\n",
       "\n",
       "    .dataframe tbody tr th {\n",
       "        vertical-align: top;\n",
       "    }\n",
       "\n",
       "    .dataframe thead th {\n",
       "        text-align: right;\n",
       "    }\n",
       "</style>\n",
       "<table border=\"1\" class=\"dataframe\">\n",
       "  <thead>\n",
       "    <tr style=\"text-align: right;\">\n",
       "      <th></th>\n",
       "      <th>id</th>\n",
       "      <th>index</th>\n",
       "      <th>sequence</th>\n",
       "      <th>seq_len</th>\n",
       "    </tr>\n",
       "  </thead>\n",
       "  <tbody>\n",
       "    <tr>\n",
       "      <td>0</td>\n",
       "      <td>M05340:171:000000000-D6YGV:1:1101:16708:1702</td>\n",
       "      <td>index1</td>\n",
       "      <td>TCTTGACCATTTAGGTTTGGGCATGTGAGACCGGATGCTAACTAAA...</td>\n",
       "      <td>113</td>\n",
       "    </tr>\n",
       "    <tr>\n",
       "      <td>1</td>\n",
       "      <td>M05340:171:000000000-D6YGV:1:1101:16708:1702</td>\n",
       "      <td>index1</td>\n",
       "      <td>TTTACACTTTATTCTTCCTGCTCGTCTCCTTTTTTGAAATGTGATC...</td>\n",
       "      <td>113</td>\n",
       "    </tr>\n",
       "    <tr>\n",
       "      <td>2</td>\n",
       "      <td>M05340:171:000000000-D6YGV:1:1101:13854:1711</td>\n",
       "      <td>index1</td>\n",
       "      <td>TTATCATGGGTTGTTAAGAGGCATGTGAGACCGGATGCTAACTAAA...</td>\n",
       "      <td>113</td>\n",
       "    </tr>\n",
       "    <tr>\n",
       "      <td>3</td>\n",
       "      <td>M05340:171:000000000-D6YGV:1:1101:13854:1711</td>\n",
       "      <td>index1</td>\n",
       "      <td>TTTACACTTTCTGCTTCCTGCTCGTATCCTTTTTTTAATTGTGCTC...</td>\n",
       "      <td>113</td>\n",
       "    </tr>\n",
       "    <tr>\n",
       "      <td>4</td>\n",
       "      <td>M05340:171:000000000-D6YGV:1:1101:15932:1711</td>\n",
       "      <td>index1</td>\n",
       "      <td>TACCTGAAGGCTATTTCCCTGCATGTGAGACCGGATGCTAACTAAA...</td>\n",
       "      <td>113</td>\n",
       "    </tr>\n",
       "  </tbody>\n",
       "</table>\n",
       "</div>"
      ],
      "text/plain": [
       "                                             id   index  \\\n",
       "0  M05340:171:000000000-D6YGV:1:1101:16708:1702  index1   \n",
       "1  M05340:171:000000000-D6YGV:1:1101:16708:1702  index1   \n",
       "2  M05340:171:000000000-D6YGV:1:1101:13854:1711  index1   \n",
       "3  M05340:171:000000000-D6YGV:1:1101:13854:1711  index1   \n",
       "4  M05340:171:000000000-D6YGV:1:1101:15932:1711  index1   \n",
       "\n",
       "                                            sequence  seq_len  \n",
       "0  TCTTGACCATTTAGGTTTGGGCATGTGAGACCGGATGCTAACTAAA...      113  \n",
       "1  TTTACACTTTATTCTTCCTGCTCGTCTCCTTTTTTGAAATGTGATC...      113  \n",
       "2  TTATCATGGGTTGTTAAGAGGCATGTGAGACCGGATGCTAACTAAA...      113  \n",
       "3  TTTACACTTTCTGCTTCCTGCTCGTATCCTTTTTTTAATTGTGCTC...      113  \n",
       "4  TACCTGAAGGCTATTTCCCTGCATGTGAGACCGGATGCTAACTAAA...      113  "
      ]
     },
     "execution_count": 45,
     "metadata": {},
     "output_type": "execute_result"
    }
   ],
   "source": [
    "# Use skbio to have a generator to iterate over fastq\n",
    "seqs = skbio.io.read(datadir + fastq_files[0],\n",
    "                     format='fastq',\n",
    "                     verify='false',\n",
    "                     variant='illumina1.8')\n",
    "\n",
    "# Define number of samples\n",
    "n_samples = 10000\n",
    "\n",
    "# Initialize dataframe to save sequences\n",
    "names = ['id', 'index', 'sequence']\n",
    "df_seq = pd.DataFrame(columns=names)\n",
    "\n",
    "# Iterate over sequences\n",
    "for seq in itertools.islice(seqs, n_samples):\n",
    "    # Add DNA sample to corresponding list\n",
    "    df_seq = df_seq.append({'id': seq.metadata['id'],\n",
    "                            'index' : 'index1',\n",
    "                            'sequence' : str(skbio.DNA(sequence=seq, \n",
    "                                                       validate=False))},\n",
    "                           ignore_index=True)\n",
    "\n",
    "df_seq['seq_len'] =  df_seq.sequence.apply(len)\n",
    "df_seq.head()"
   ]
  },
  {
   "cell_type": "markdown",
   "metadata": {},
   "source": [
    "Now let's define the 3 sequences for the operators. We will reverse complement them since the reads start from the barcode and then go through the reverse complement of the operators."
   ]
  },
  {
   "cell_type": "code",
   "execution_count": 46,
   "metadata": {},
   "outputs": [
    {
     "data": {
      "text/plain": [
       "{'O1': 'AATTGTTATCCGCTCACAATT',\n",
       " 'O2': 'GGTTGTTACTCGCTCACATTT',\n",
       " 'O3': 'AATTGCGTTGCGCTCACTGCC'}"
      ]
     },
     "execution_count": 46,
     "metadata": {},
     "output_type": "execute_result"
    }
   ],
   "source": [
    "O1 = skbio.DNA('aattgtgagcggataacaatt'.upper()).reverse_complement()\n",
    "O2 = skbio.DNA('aaatgtgagcgagtaacaacc'.upper()).reverse_complement()\n",
    "O3 = skbio.DNA('ggcagtgagcgcaacgcaatt'.upper()).reverse_complement()\n",
    "operators = {'O1': str(O1),\n",
    "             'O2': str(O2),\n",
    "             'O3': str(O3)}\n",
    "operators"
   ]
  },
  {
   "cell_type": "markdown",
   "metadata": {},
   "source": [
    "Now we define a function to find which operator is found in each of the sequences and apply it to all sequences."
   ]
  },
  {
   "cell_type": "code",
   "execution_count": 47,
   "metadata": {},
   "outputs": [
    {
     "data": {
      "text/html": [
       "<div>\n",
       "<style scoped>\n",
       "    .dataframe tbody tr th:only-of-type {\n",
       "        vertical-align: middle;\n",
       "    }\n",
       "\n",
       "    .dataframe tbody tr th {\n",
       "        vertical-align: top;\n",
       "    }\n",
       "\n",
       "    .dataframe thead th {\n",
       "        text-align: right;\n",
       "    }\n",
       "</style>\n",
       "<table border=\"1\" class=\"dataframe\">\n",
       "  <thead>\n",
       "    <tr style=\"text-align: right;\">\n",
       "      <th></th>\n",
       "      <th>id</th>\n",
       "      <th>index</th>\n",
       "      <th>sequence</th>\n",
       "      <th>seq_len</th>\n",
       "      <th>operator</th>\n",
       "      <th>op_begin</th>\n",
       "      <th>op_end</th>\n",
       "    </tr>\n",
       "  </thead>\n",
       "  <tbody>\n",
       "    <tr>\n",
       "      <td>0</td>\n",
       "      <td>M05340:171:000000000-D6YGV:1:1101:16708:1702</td>\n",
       "      <td>index1</td>\n",
       "      <td>TCTTGACCATTTAGGTTTGGGCATGTGAGACCGGATGCTAACTAAA...</td>\n",
       "      <td>113</td>\n",
       "      <td>O2</td>\n",
       "      <td>56</td>\n",
       "      <td>77</td>\n",
       "    </tr>\n",
       "    <tr>\n",
       "      <td>1</td>\n",
       "      <td>M05340:171:000000000-D6YGV:1:1101:16708:1702</td>\n",
       "      <td>index1</td>\n",
       "      <td>TTTACACTTTATTCTTCCTGCTCGTCTCCTTTTTTGAAATGTGATC...</td>\n",
       "      <td>113</td>\n",
       "      <td>None</td>\n",
       "      <td>0</td>\n",
       "      <td>0</td>\n",
       "    </tr>\n",
       "    <tr>\n",
       "      <td>2</td>\n",
       "      <td>M05340:171:000000000-D6YGV:1:1101:13854:1711</td>\n",
       "      <td>index1</td>\n",
       "      <td>TTATCATGGGTTGTTAAGAGGCATGTGAGACCGGATGCTAACTAAA...</td>\n",
       "      <td>113</td>\n",
       "      <td>O2</td>\n",
       "      <td>56</td>\n",
       "      <td>77</td>\n",
       "    </tr>\n",
       "    <tr>\n",
       "      <td>3</td>\n",
       "      <td>M05340:171:000000000-D6YGV:1:1101:13854:1711</td>\n",
       "      <td>index1</td>\n",
       "      <td>TTTACACTTTCTGCTTCCTGCTCGTATCCTTTTTTTAATTGTGCTC...</td>\n",
       "      <td>113</td>\n",
       "      <td>None</td>\n",
       "      <td>0</td>\n",
       "      <td>0</td>\n",
       "    </tr>\n",
       "    <tr>\n",
       "      <td>4</td>\n",
       "      <td>M05340:171:000000000-D6YGV:1:1101:15932:1711</td>\n",
       "      <td>index1</td>\n",
       "      <td>TACCTGAAGGCTATTTCCCTGCATGTGAGACCGGATGCTAACTAAA...</td>\n",
       "      <td>113</td>\n",
       "      <td>O1</td>\n",
       "      <td>56</td>\n",
       "      <td>77</td>\n",
       "    </tr>\n",
       "    <tr>\n",
       "      <td>5</td>\n",
       "      <td>M05340:171:000000000-D6YGV:1:1101:15932:1711</td>\n",
       "      <td>index1</td>\n",
       "      <td>TTTCCACTTTCTTCTTCCTTCTCGTCTCCTTTTTTTATTTTTGCTC...</td>\n",
       "      <td>113</td>\n",
       "      <td>None</td>\n",
       "      <td>0</td>\n",
       "      <td>0</td>\n",
       "    </tr>\n",
       "    <tr>\n",
       "      <td>6</td>\n",
       "      <td>M05340:171:000000000-D6YGV:1:1101:16589:1721</td>\n",
       "      <td>index1</td>\n",
       "      <td>TATGCTGTACTGGGTTATTCGCATGTGAGACCGGTTGCTAACTAAC...</td>\n",
       "      <td>113</td>\n",
       "      <td>None</td>\n",
       "      <td>0</td>\n",
       "      <td>0</td>\n",
       "    </tr>\n",
       "    <tr>\n",
       "      <td>7</td>\n",
       "      <td>M05340:171:000000000-D6YGV:1:1101:16589:1721</td>\n",
       "      <td>index1</td>\n",
       "      <td>TTTCCCCTTTCTTCTTCCTTCTCTTCTCCTTTTTTTCTTTTTTCTC...</td>\n",
       "      <td>113</td>\n",
       "      <td>None</td>\n",
       "      <td>0</td>\n",
       "      <td>0</td>\n",
       "    </tr>\n",
       "    <tr>\n",
       "      <td>8</td>\n",
       "      <td>M05340:171:000000000-D6YGV:1:1101:14894:1735</td>\n",
       "      <td>index1</td>\n",
       "      <td>TTCTTCTGTGTATTAGACTTGCATGTGAGACCGGATGCTAACTAAA...</td>\n",
       "      <td>113</td>\n",
       "      <td>O1</td>\n",
       "      <td>56</td>\n",
       "      <td>77</td>\n",
       "    </tr>\n",
       "    <tr>\n",
       "      <td>9</td>\n",
       "      <td>M05340:171:000000000-D6YGV:1:1101:14894:1735</td>\n",
       "      <td>index1</td>\n",
       "      <td>TTTCCACTTTATTCTTCCTTCTCGTCTCCTTTTTTTAATTGTGCTC...</td>\n",
       "      <td>113</td>\n",
       "      <td>None</td>\n",
       "      <td>0</td>\n",
       "      <td>0</td>\n",
       "    </tr>\n",
       "  </tbody>\n",
       "</table>\n",
       "</div>"
      ],
      "text/plain": [
       "                                             id   index  \\\n",
       "0  M05340:171:000000000-D6YGV:1:1101:16708:1702  index1   \n",
       "1  M05340:171:000000000-D6YGV:1:1101:16708:1702  index1   \n",
       "2  M05340:171:000000000-D6YGV:1:1101:13854:1711  index1   \n",
       "3  M05340:171:000000000-D6YGV:1:1101:13854:1711  index1   \n",
       "4  M05340:171:000000000-D6YGV:1:1101:15932:1711  index1   \n",
       "5  M05340:171:000000000-D6YGV:1:1101:15932:1711  index1   \n",
       "6  M05340:171:000000000-D6YGV:1:1101:16589:1721  index1   \n",
       "7  M05340:171:000000000-D6YGV:1:1101:16589:1721  index1   \n",
       "8  M05340:171:000000000-D6YGV:1:1101:14894:1735  index1   \n",
       "9  M05340:171:000000000-D6YGV:1:1101:14894:1735  index1   \n",
       "\n",
       "                                            sequence  seq_len operator  \\\n",
       "0  TCTTGACCATTTAGGTTTGGGCATGTGAGACCGGATGCTAACTAAA...      113       O2   \n",
       "1  TTTACACTTTATTCTTCCTGCTCGTCTCCTTTTTTGAAATGTGATC...      113     None   \n",
       "2  TTATCATGGGTTGTTAAGAGGCATGTGAGACCGGATGCTAACTAAA...      113       O2   \n",
       "3  TTTACACTTTCTGCTTCCTGCTCGTATCCTTTTTTTAATTGTGCTC...      113     None   \n",
       "4  TACCTGAAGGCTATTTCCCTGCATGTGAGACCGGATGCTAACTAAA...      113       O1   \n",
       "5  TTTCCACTTTCTTCTTCCTTCTCGTCTCCTTTTTTTATTTTTGCTC...      113     None   \n",
       "6  TATGCTGTACTGGGTTATTCGCATGTGAGACCGGTTGCTAACTAAC...      113     None   \n",
       "7  TTTCCCCTTTCTTCTTCCTTCTCTTCTCCTTTTTTTCTTTTTTCTC...      113     None   \n",
       "8  TTCTTCTGTGTATTAGACTTGCATGTGAGACCGGATGCTAACTAAA...      113       O1   \n",
       "9  TTTCCACTTTATTCTTCCTTCTCGTCTCCTTTTTTTAATTGTGCTC...      113     None   \n",
       "\n",
       "   op_begin  op_end  \n",
       "0        56      77  \n",
       "1         0       0  \n",
       "2        56      77  \n",
       "3         0       0  \n",
       "4        56      77  \n",
       "5         0       0  \n",
       "6         0       0  \n",
       "7         0       0  \n",
       "8        56      77  \n",
       "9         0       0  "
      ]
     },
     "execution_count": 47,
     "metadata": {},
     "output_type": "execute_result"
    }
   ],
   "source": [
    "# Define function to find operator\n",
    "def op_match(seq):\n",
    "    '''\n",
    "    Function to match the operator sequences\n",
    "    '''\n",
    "    # Loop through operators\n",
    "    for key, item in operators.items():\n",
    "        # Find operator and return boolean if found\n",
    "        op_pos = re.search(item, seq)\n",
    "        # If found return the operator and break loop\n",
    "        if bool(op_pos):\n",
    "            return [key] + [*op_pos.span()]\n",
    "            break\n",
    "\n",
    "    # If none match, return none\n",
    "    if not bool(op_pos):\n",
    "        return ['None', 0, 0]\n",
    "    \n",
    "op_map = list()\n",
    "# Loop through rows\n",
    "for seq in df_seq.sequence:\n",
    "     op_map.append(op_match(seq))\n",
    "\n",
    "df_seq = pd.concat([df_seq,\n",
    "                    pd.DataFrame.from_records(op_map,\n",
    "                                              columns=['operator',\n",
    "                                                       'op_begin',\n",
    "                                                       'op_end'])],\n",
    "                   axis=1)\n",
    "df_seq.head(10)"
   ]
  },
  {
   "cell_type": "markdown",
   "metadata": {},
   "source": [
    "Let's look at a summary table of each operator count."
   ]
  },
  {
   "cell_type": "code",
   "execution_count": 48,
   "metadata": {},
   "outputs": [
    {
     "data": {
      "text/plain": [
       "O3      3045\n",
       "O2      2787\n",
       "O1      2659\n",
       "None    1509\n",
       "Name: operator, dtype: int64"
      ]
     },
     "execution_count": 48,
     "metadata": {},
     "output_type": "execute_result"
    }
   ],
   "source": [
    "df_seq.operator.value_counts()"
   ]
  },
  {
   "cell_type": "markdown",
   "metadata": {},
   "source": [
    "There are a lot of `None` entries which means that the algorithm didn't find any of the operators. We'll come back to those later.\n",
    "\n",
    "First thing, let's count how many unique sequences he have for each operator. We will be very stringent with our filtering of the barcodes. We know that the operator should be located exactly at position 56 of the sequences. So we will only keep the ones that satisfy this condition."
   ]
  },
  {
   "cell_type": "code",
   "execution_count": 59,
   "metadata": {},
   "outputs": [
    {
     "data": {
      "text/plain": [
       "operator\n",
       "O1    1500\n",
       "O2    1275\n",
       "O3    1044\n",
       "Name: sequence, dtype: int64"
      ]
     },
     "execution_count": 59,
     "metadata": {},
     "output_type": "execute_result"
    }
   ],
   "source": [
    "# Remove sequences that didn't map to an operator.\n",
    "df = df_seq[(df_seq.operator != 'None') &\n",
    "            (df_seq.seq_len == 113) &\n",
    "            (df_seq.op_begin == 56)]\n",
    "df.groupby('operator')['sequence'].nunique()"
   ]
  },
  {
   "cell_type": "markdown",
   "metadata": {},
   "source": [
    "So about half of the sequences are unique. Let's now build a table with the sequences that passed the filter with the number of counts for each of them. We will also extract the first 20 bp of the sequence that we know must correspond to the barcode."
   ]
  },
  {
   "cell_type": "code",
   "execution_count": 76,
   "metadata": {},
   "outputs": [
    {
     "data": {
      "text/html": [
       "<div>\n",
       "<style scoped>\n",
       "    .dataframe tbody tr th:only-of-type {\n",
       "        vertical-align: middle;\n",
       "    }\n",
       "\n",
       "    .dataframe tbody tr th {\n",
       "        vertical-align: top;\n",
       "    }\n",
       "\n",
       "    .dataframe thead th {\n",
       "        text-align: right;\n",
       "    }\n",
       "</style>\n",
       "<table border=\"1\" class=\"dataframe\">\n",
       "  <thead>\n",
       "    <tr style=\"text-align: right;\">\n",
       "      <th></th>\n",
       "      <th>operator</th>\n",
       "      <th>sequence</th>\n",
       "      <th>barcode</th>\n",
       "      <th>counts</th>\n",
       "    </tr>\n",
       "  </thead>\n",
       "  <tbody>\n",
       "    <tr>\n",
       "      <td>0</td>\n",
       "      <td>O1</td>\n",
       "      <td>GCAGTAGTATCTTGTGCTGTGCATGTGAGACCGGATGCTAACTAAA...</td>\n",
       "      <td>GCAGTAGTATCTTGTGCTGT</td>\n",
       "      <td>8</td>\n",
       "    </tr>\n",
       "    <tr>\n",
       "      <td>1</td>\n",
       "      <td>O1</td>\n",
       "      <td>CGGAGTTCGTTGCTGGGAGCGCATGTGAGACCGGATGCTAACTAAA...</td>\n",
       "      <td>CGGAGTTCGTTGCTGGGAGC</td>\n",
       "      <td>7</td>\n",
       "    </tr>\n",
       "    <tr>\n",
       "      <td>2</td>\n",
       "      <td>O1</td>\n",
       "      <td>TAGCCTCTTCTTTACGATTGGCATGTGAGACCGGATGCTAACTAAA...</td>\n",
       "      <td>TAGCCTCTTCTTTACGATTG</td>\n",
       "      <td>6</td>\n",
       "    </tr>\n",
       "    <tr>\n",
       "      <td>3</td>\n",
       "      <td>O1</td>\n",
       "      <td>CCTTTCTTGGCACTCACCATGCATGTGAGACCGGATGCTAACTAAA...</td>\n",
       "      <td>CCTTTCTTGGCACTCACCAT</td>\n",
       "      <td>6</td>\n",
       "    </tr>\n",
       "    <tr>\n",
       "      <td>4</td>\n",
       "      <td>O1</td>\n",
       "      <td>CCACCGTTGACGTCGGCTCTGCATGTGAGACCGGATGCTAACTAAA...</td>\n",
       "      <td>CCACCGTTGACGTCGGCTCT</td>\n",
       "      <td>6</td>\n",
       "    </tr>\n",
       "  </tbody>\n",
       "</table>\n",
       "</div>"
      ],
      "text/plain": [
       "  operator                                           sequence  \\\n",
       "0       O1  GCAGTAGTATCTTGTGCTGTGCATGTGAGACCGGATGCTAACTAAA...   \n",
       "1       O1  CGGAGTTCGTTGCTGGGAGCGCATGTGAGACCGGATGCTAACTAAA...   \n",
       "2       O1  TAGCCTCTTCTTTACGATTGGCATGTGAGACCGGATGCTAACTAAA...   \n",
       "3       O1  CCTTTCTTGGCACTCACCATGCATGTGAGACCGGATGCTAACTAAA...   \n",
       "4       O1  CCACCGTTGACGTCGGCTCTGCATGTGAGACCGGATGCTAACTAAA...   \n",
       "\n",
       "                barcode counts  \n",
       "0  GCAGTAGTATCTTGTGCTGT      8  \n",
       "1  CGGAGTTCGTTGCTGGGAGC      7  \n",
       "2  TAGCCTCTTCTTTACGATTG      6  \n",
       "3  CCTTTCTTGGCACTCACCAT      6  \n",
       "4  CCACCGTTGACGTCGGCTCT      6  "
      ]
     },
     "execution_count": 76,
     "metadata": {},
     "output_type": "execute_result"
    }
   ],
   "source": [
    "# Group by operator\n",
    "df_group = df.groupby('operator')\n",
    "\n",
    "# Initialize dataframe to save outcome\n",
    "names = ['operator', 'sequence', 'barcode', 'counts']\n",
    "df_counts = pd.DataFrame(columns=names)\n",
    "\n",
    "# Loop thorough operators\n",
    "for group, data in df_group:\n",
    "    # Count unique barcodes and turn it into a DataFrame\n",
    "    df_op = data['sequence'].value_counts()\\\n",
    "                            .rename_axis('sequence')\\\n",
    "                            .reset_index(name='counts')\n",
    "    # Add a column that contains operator\n",
    "    df_op['operator'] = [group] * len(df_op)\n",
    "    # Extract barcodes\n",
    "    df_op['barcode'] = df_op['sequence'].apply(lambda x: x[0:20])\n",
    "    # Append to dataframe\n",
    "    df_counts = df_counts.append(df_op,\n",
    "                                 ignore_index=True,\n",
    "                                 sort=False)\n",
    "\n",
    "df_counts.head()"
   ]
  },
  {
   "cell_type": "markdown",
   "metadata": {},
   "source": [
    "Excellent! Now we have a working pipeline to process the sequences. The analysis for the full dataset is performed with the script `library_mapping.py`."
   ]
  },
  {
   "cell_type": "code",
   "execution_count": null,
   "metadata": {},
   "outputs": [],
   "source": []
  }
 ],
 "metadata": {
  "kernelspec": {
   "display_name": "Python 3",
   "language": "python",
   "name": "python3"
  },
  "language_info": {
   "codemirror_mode": {
    "name": "ipython",
    "version": 3
   },
   "file_extension": ".py",
   "mimetype": "text/x-python",
   "name": "python",
   "nbconvert_exporter": "python",
   "pygments_lexer": "ipython3",
   "version": "3.7.4"
  }
 },
 "nbformat": 4,
 "nbformat_minor": 4
}
