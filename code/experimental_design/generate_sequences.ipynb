{
 "cells": [
  {
   "cell_type": "markdown",
   "metadata": {},
   "source": [
    "# Generating LacI operator constructs"
   ]
  },
  {
   "cell_type": "markdown",
   "metadata": {},
   "source": [
    "(c) 2021 Tom Röschinger. This work is licensed under a [Creative Commons Attribution License CC-BY 4.0](https://creativecommons.org/licenses/by/4.0/). All code contained herein is licensed under an [MIT license](https://opensource.org/licenses/MIT)."
   ]
  },
  {
   "cell_type": "markdown",
   "metadata": {},
   "source": [
    "***"
   ]
  },
  {
   "cell_type": "markdown",
   "metadata": {},
   "source": [
    "In this notebook we create mutants from the O1-sequence, which is a strong binding site for lacI. The goal is to explore the accuracy of RNA-seq and compare predicted binding energies with the ones obtained from these mutants in RNA-seq. Also, we can easily include plenty of sequences with many mutations and can test the limits of linear binding energy matrices, i.e., for how many mutations can the energy matrix accurately predict the energy (given that RNA-seq is precise for small number of mutations)."
   ]
  },
  {
   "cell_type": "markdown",
   "metadata": {},
   "source": [
    "To achieve reproducibility, we set the random seed. Be sure to run this cell before any other. In subsequent cells using random number generators are used multiple times, the results will vary. "
   ]
  },
  {
   "cell_type": "code",
   "execution_count": 2,
   "metadata": {},
   "outputs": [
    {
     "data": {
      "text/html": [
       "\n",
       "    <div class=\"bk-root\">\n",
       "        <a href=\"https://bokeh.org\" target=\"_blank\" class=\"bk-logo bk-logo-small bk-logo-notebook\"></a>\n",
       "        <span id=\"1002\">Loading BokehJS ...</span>\n",
       "    </div>"
      ]
     },
     "metadata": {},
     "output_type": "display_data"
    },
    {
     "data": {
      "application/javascript": [
       "\n",
       "(function(root) {\n",
       "  function now() {\n",
       "    return new Date();\n",
       "  }\n",
       "\n",
       "  var force = true;\n",
       "\n",
       "  if (typeof root._bokeh_onload_callbacks === \"undefined\" || force === true) {\n",
       "    root._bokeh_onload_callbacks = [];\n",
       "    root._bokeh_is_loading = undefined;\n",
       "  }\n",
       "\n",
       "  var JS_MIME_TYPE = 'application/javascript';\n",
       "  var HTML_MIME_TYPE = 'text/html';\n",
       "  var EXEC_MIME_TYPE = 'application/vnd.bokehjs_exec.v0+json';\n",
       "  var CLASS_NAME = 'output_bokeh rendered_html';\n",
       "\n",
       "  /**\n",
       "   * Render data to the DOM node\n",
       "   */\n",
       "  function render(props, node) {\n",
       "    var script = document.createElement(\"script\");\n",
       "    node.appendChild(script);\n",
       "  }\n",
       "\n",
       "  /**\n",
       "   * Handle when an output is cleared or removed\n",
       "   */\n",
       "  function handleClearOutput(event, handle) {\n",
       "    var cell = handle.cell;\n",
       "\n",
       "    var id = cell.output_area._bokeh_element_id;\n",
       "    var server_id = cell.output_area._bokeh_server_id;\n",
       "    // Clean up Bokeh references\n",
       "    if (id != null && id in Bokeh.index) {\n",
       "      Bokeh.index[id].model.document.clear();\n",
       "      delete Bokeh.index[id];\n",
       "    }\n",
       "\n",
       "    if (server_id !== undefined) {\n",
       "      // Clean up Bokeh references\n",
       "      var cmd = \"from bokeh.io.state import curstate; print(curstate().uuid_to_server['\" + server_id + \"'].get_sessions()[0].document.roots[0]._id)\";\n",
       "      cell.notebook.kernel.execute(cmd, {\n",
       "        iopub: {\n",
       "          output: function(msg) {\n",
       "            var id = msg.content.text.trim();\n",
       "            if (id in Bokeh.index) {\n",
       "              Bokeh.index[id].model.document.clear();\n",
       "              delete Bokeh.index[id];\n",
       "            }\n",
       "          }\n",
       "        }\n",
       "      });\n",
       "      // Destroy server and session\n",
       "      var cmd = \"import bokeh.io.notebook as ion; ion.destroy_server('\" + server_id + \"')\";\n",
       "      cell.notebook.kernel.execute(cmd);\n",
       "    }\n",
       "  }\n",
       "\n",
       "  /**\n",
       "   * Handle when a new output is added\n",
       "   */\n",
       "  function handleAddOutput(event, handle) {\n",
       "    var output_area = handle.output_area;\n",
       "    var output = handle.output;\n",
       "\n",
       "    // limit handleAddOutput to display_data with EXEC_MIME_TYPE content only\n",
       "    if ((output.output_type != \"display_data\") || (!Object.prototype.hasOwnProperty.call(output.data, EXEC_MIME_TYPE))) {\n",
       "      return\n",
       "    }\n",
       "\n",
       "    var toinsert = output_area.element.find(\".\" + CLASS_NAME.split(' ')[0]);\n",
       "\n",
       "    if (output.metadata[EXEC_MIME_TYPE][\"id\"] !== undefined) {\n",
       "      toinsert[toinsert.length - 1].firstChild.textContent = output.data[JS_MIME_TYPE];\n",
       "      // store reference to embed id on output_area\n",
       "      output_area._bokeh_element_id = output.metadata[EXEC_MIME_TYPE][\"id\"];\n",
       "    }\n",
       "    if (output.metadata[EXEC_MIME_TYPE][\"server_id\"] !== undefined) {\n",
       "      var bk_div = document.createElement(\"div\");\n",
       "      bk_div.innerHTML = output.data[HTML_MIME_TYPE];\n",
       "      var script_attrs = bk_div.children[0].attributes;\n",
       "      for (var i = 0; i < script_attrs.length; i++) {\n",
       "        toinsert[toinsert.length - 1].firstChild.setAttribute(script_attrs[i].name, script_attrs[i].value);\n",
       "        toinsert[toinsert.length - 1].firstChild.textContent = bk_div.children[0].textContent\n",
       "      }\n",
       "      // store reference to server id on output_area\n",
       "      output_area._bokeh_server_id = output.metadata[EXEC_MIME_TYPE][\"server_id\"];\n",
       "    }\n",
       "  }\n",
       "\n",
       "  function register_renderer(events, OutputArea) {\n",
       "\n",
       "    function append_mime(data, metadata, element) {\n",
       "      // create a DOM node to render to\n",
       "      var toinsert = this.create_output_subarea(\n",
       "        metadata,\n",
       "        CLASS_NAME,\n",
       "        EXEC_MIME_TYPE\n",
       "      );\n",
       "      this.keyboard_manager.register_events(toinsert);\n",
       "      // Render to node\n",
       "      var props = {data: data, metadata: metadata[EXEC_MIME_TYPE]};\n",
       "      render(props, toinsert[toinsert.length - 1]);\n",
       "      element.append(toinsert);\n",
       "      return toinsert\n",
       "    }\n",
       "\n",
       "    /* Handle when an output is cleared or removed */\n",
       "    events.on('clear_output.CodeCell', handleClearOutput);\n",
       "    events.on('delete.Cell', handleClearOutput);\n",
       "\n",
       "    /* Handle when a new output is added */\n",
       "    events.on('output_added.OutputArea', handleAddOutput);\n",
       "\n",
       "    /**\n",
       "     * Register the mime type and append_mime function with output_area\n",
       "     */\n",
       "    OutputArea.prototype.register_mime_type(EXEC_MIME_TYPE, append_mime, {\n",
       "      /* Is output safe? */\n",
       "      safe: true,\n",
       "      /* Index of renderer in `output_area.display_order` */\n",
       "      index: 0\n",
       "    });\n",
       "  }\n",
       "\n",
       "  // register the mime type if in Jupyter Notebook environment and previously unregistered\n",
       "  if (root.Jupyter !== undefined) {\n",
       "    var events = require('base/js/events');\n",
       "    var OutputArea = require('notebook/js/outputarea').OutputArea;\n",
       "\n",
       "    if (OutputArea.prototype.mime_types().indexOf(EXEC_MIME_TYPE) == -1) {\n",
       "      register_renderer(events, OutputArea);\n",
       "    }\n",
       "  }\n",
       "\n",
       "  \n",
       "  if (typeof (root._bokeh_timeout) === \"undefined\" || force === true) {\n",
       "    root._bokeh_timeout = Date.now() + 5000;\n",
       "    root._bokeh_failed_load = false;\n",
       "  }\n",
       "\n",
       "  var NB_LOAD_WARNING = {'data': {'text/html':\n",
       "     \"<div style='background-color: #fdd'>\\n\"+\n",
       "     \"<p>\\n\"+\n",
       "     \"BokehJS does not appear to have successfully loaded. If loading BokehJS from CDN, this \\n\"+\n",
       "     \"may be due to a slow or bad network connection. Possible fixes:\\n\"+\n",
       "     \"</p>\\n\"+\n",
       "     \"<ul>\\n\"+\n",
       "     \"<li>re-rerun `output_notebook()` to attempt to load from CDN again, or</li>\\n\"+\n",
       "     \"<li>use INLINE resources instead, as so:</li>\\n\"+\n",
       "     \"</ul>\\n\"+\n",
       "     \"<code>\\n\"+\n",
       "     \"from bokeh.resources import INLINE\\n\"+\n",
       "     \"output_notebook(resources=INLINE)\\n\"+\n",
       "     \"</code>\\n\"+\n",
       "     \"</div>\"}};\n",
       "\n",
       "  function display_loaded() {\n",
       "    var el = document.getElementById(\"1002\");\n",
       "    if (el != null) {\n",
       "      el.textContent = \"BokehJS is loading...\";\n",
       "    }\n",
       "    if (root.Bokeh !== undefined) {\n",
       "      if (el != null) {\n",
       "        el.textContent = \"BokehJS \" + root.Bokeh.version + \" successfully loaded.\";\n",
       "      }\n",
       "    } else if (Date.now() < root._bokeh_timeout) {\n",
       "      setTimeout(display_loaded, 100)\n",
       "    }\n",
       "  }\n",
       "\n",
       "\n",
       "  function run_callbacks() {\n",
       "    try {\n",
       "      root._bokeh_onload_callbacks.forEach(function(callback) {\n",
       "        if (callback != null)\n",
       "          callback();\n",
       "      });\n",
       "    } finally {\n",
       "      delete root._bokeh_onload_callbacks\n",
       "    }\n",
       "    console.debug(\"Bokeh: all callbacks have finished\");\n",
       "  }\n",
       "\n",
       "  function load_libs(css_urls, js_urls, callback) {\n",
       "    if (css_urls == null) css_urls = [];\n",
       "    if (js_urls == null) js_urls = [];\n",
       "\n",
       "    root._bokeh_onload_callbacks.push(callback);\n",
       "    if (root._bokeh_is_loading > 0) {\n",
       "      console.debug(\"Bokeh: BokehJS is being loaded, scheduling callback at\", now());\n",
       "      return null;\n",
       "    }\n",
       "    if (js_urls == null || js_urls.length === 0) {\n",
       "      run_callbacks();\n",
       "      return null;\n",
       "    }\n",
       "    console.debug(\"Bokeh: BokehJS not loaded, scheduling load and callback at\", now());\n",
       "    root._bokeh_is_loading = css_urls.length + js_urls.length;\n",
       "\n",
       "    function on_load() {\n",
       "      root._bokeh_is_loading--;\n",
       "      if (root._bokeh_is_loading === 0) {\n",
       "        console.debug(\"Bokeh: all BokehJS libraries/stylesheets loaded\");\n",
       "        run_callbacks()\n",
       "      }\n",
       "    }\n",
       "\n",
       "    function on_error(url) {\n",
       "      console.error(\"failed to load \" + url);\n",
       "    }\n",
       "\n",
       "    for (let i = 0; i < css_urls.length; i++) {\n",
       "      const url = css_urls[i];\n",
       "      const element = document.createElement(\"link\");\n",
       "      element.onload = on_load;\n",
       "      element.onerror = on_error.bind(null, url);\n",
       "      element.rel = \"stylesheet\";\n",
       "      element.type = \"text/css\";\n",
       "      element.href = url;\n",
       "      console.debug(\"Bokeh: injecting link tag for BokehJS stylesheet: \", url);\n",
       "      document.body.appendChild(element);\n",
       "    }\n",
       "\n",
       "    const hashes = {\"https://cdn.bokeh.org/bokeh/release/bokeh-2.3.3.min.js\": \"dM3QQsP+wXdHg42wTqW85BjZQdLNNIXqlPw/BgKoExPmTG7ZLML4EGqLMfqHT6ON\", \"https://cdn.bokeh.org/bokeh/release/bokeh-tables-2.3.3.min.js\": \"8x57I4YuIfu8XyZfFo0XVr2WAT8EK4rh/uDe3wF7YuW2FNUSNEpJbsPaB1nJ2fz2\", \"https://cdn.bokeh.org/bokeh/release/bokeh-widgets-2.3.3.min.js\": \"3QTqdz9LyAm2i0sG5XTePsHec3UHWwVsrOL68SYRoAXsafvfAyqtQ+h440+qIBhS\"};\n",
       "\n",
       "    for (let i = 0; i < js_urls.length; i++) {\n",
       "      const url = js_urls[i];\n",
       "      const element = document.createElement('script');\n",
       "      element.onload = on_load;\n",
       "      element.onerror = on_error.bind(null, url);\n",
       "      element.async = false;\n",
       "      element.src = url;\n",
       "      if (url in hashes) {\n",
       "        element.crossOrigin = \"anonymous\";\n",
       "        element.integrity = \"sha384-\" + hashes[url];\n",
       "      }\n",
       "      console.debug(\"Bokeh: injecting script tag for BokehJS library: \", url);\n",
       "      document.head.appendChild(element);\n",
       "    }\n",
       "  };\n",
       "\n",
       "  function inject_raw_css(css) {\n",
       "    const element = document.createElement(\"style\");\n",
       "    element.appendChild(document.createTextNode(css));\n",
       "    document.body.appendChild(element);\n",
       "  }\n",
       "\n",
       "  \n",
       "  var js_urls = [\"https://cdn.bokeh.org/bokeh/release/bokeh-2.3.3.min.js\", \"https://cdn.bokeh.org/bokeh/release/bokeh-widgets-2.3.3.min.js\", \"https://cdn.bokeh.org/bokeh/release/bokeh-tables-2.3.3.min.js\"];\n",
       "  var css_urls = [];\n",
       "  \n",
       "\n",
       "  var inline_js = [\n",
       "    function(Bokeh) {\n",
       "      Bokeh.set_log_level(\"info\");\n",
       "    },\n",
       "    function(Bokeh) {\n",
       "    \n",
       "    \n",
       "    }\n",
       "  ];\n",
       "\n",
       "  function run_inline_js() {\n",
       "    \n",
       "    if (root.Bokeh !== undefined || force === true) {\n",
       "      \n",
       "    for (var i = 0; i < inline_js.length; i++) {\n",
       "      inline_js[i].call(root, root.Bokeh);\n",
       "    }\n",
       "    if (force === true) {\n",
       "        display_loaded();\n",
       "      }} else if (Date.now() < root._bokeh_timeout) {\n",
       "      setTimeout(run_inline_js, 100);\n",
       "    } else if (!root._bokeh_failed_load) {\n",
       "      console.log(\"Bokeh: BokehJS failed to load within specified timeout.\");\n",
       "      root._bokeh_failed_load = true;\n",
       "    } else if (force !== true) {\n",
       "      var cell = $(document.getElementById(\"1002\")).parents('.cell').data().cell;\n",
       "      cell.output_area.append_execute_result(NB_LOAD_WARNING)\n",
       "    }\n",
       "\n",
       "  }\n",
       "\n",
       "  if (root._bokeh_is_loading === 0) {\n",
       "    console.debug(\"Bokeh: BokehJS loaded, going straight to plotting\");\n",
       "    run_inline_js();\n",
       "  } else {\n",
       "    load_libs(css_urls, js_urls, function() {\n",
       "      console.debug(\"Bokeh: BokehJS plotting callback run at\", now());\n",
       "      run_inline_js();\n",
       "    });\n",
       "  }\n",
       "}(window));"
      ],
      "application/vnd.bokehjs_load.v0+json": "\n(function(root) {\n  function now() {\n    return new Date();\n  }\n\n  var force = true;\n\n  if (typeof root._bokeh_onload_callbacks === \"undefined\" || force === true) {\n    root._bokeh_onload_callbacks = [];\n    root._bokeh_is_loading = undefined;\n  }\n\n  \n\n  \n  if (typeof (root._bokeh_timeout) === \"undefined\" || force === true) {\n    root._bokeh_timeout = Date.now() + 5000;\n    root._bokeh_failed_load = false;\n  }\n\n  var NB_LOAD_WARNING = {'data': {'text/html':\n     \"<div style='background-color: #fdd'>\\n\"+\n     \"<p>\\n\"+\n     \"BokehJS does not appear to have successfully loaded. If loading BokehJS from CDN, this \\n\"+\n     \"may be due to a slow or bad network connection. Possible fixes:\\n\"+\n     \"</p>\\n\"+\n     \"<ul>\\n\"+\n     \"<li>re-rerun `output_notebook()` to attempt to load from CDN again, or</li>\\n\"+\n     \"<li>use INLINE resources instead, as so:</li>\\n\"+\n     \"</ul>\\n\"+\n     \"<code>\\n\"+\n     \"from bokeh.resources import INLINE\\n\"+\n     \"output_notebook(resources=INLINE)\\n\"+\n     \"</code>\\n\"+\n     \"</div>\"}};\n\n  function display_loaded() {\n    var el = document.getElementById(\"1002\");\n    if (el != null) {\n      el.textContent = \"BokehJS is loading...\";\n    }\n    if (root.Bokeh !== undefined) {\n      if (el != null) {\n        el.textContent = \"BokehJS \" + root.Bokeh.version + \" successfully loaded.\";\n      }\n    } else if (Date.now() < root._bokeh_timeout) {\n      setTimeout(display_loaded, 100)\n    }\n  }\n\n\n  function run_callbacks() {\n    try {\n      root._bokeh_onload_callbacks.forEach(function(callback) {\n        if (callback != null)\n          callback();\n      });\n    } finally {\n      delete root._bokeh_onload_callbacks\n    }\n    console.debug(\"Bokeh: all callbacks have finished\");\n  }\n\n  function load_libs(css_urls, js_urls, callback) {\n    if (css_urls == null) css_urls = [];\n    if (js_urls == null) js_urls = [];\n\n    root._bokeh_onload_callbacks.push(callback);\n    if (root._bokeh_is_loading > 0) {\n      console.debug(\"Bokeh: BokehJS is being loaded, scheduling callback at\", now());\n      return null;\n    }\n    if (js_urls == null || js_urls.length === 0) {\n      run_callbacks();\n      return null;\n    }\n    console.debug(\"Bokeh: BokehJS not loaded, scheduling load and callback at\", now());\n    root._bokeh_is_loading = css_urls.length + js_urls.length;\n\n    function on_load() {\n      root._bokeh_is_loading--;\n      if (root._bokeh_is_loading === 0) {\n        console.debug(\"Bokeh: all BokehJS libraries/stylesheets loaded\");\n        run_callbacks()\n      }\n    }\n\n    function on_error(url) {\n      console.error(\"failed to load \" + url);\n    }\n\n    for (let i = 0; i < css_urls.length; i++) {\n      const url = css_urls[i];\n      const element = document.createElement(\"link\");\n      element.onload = on_load;\n      element.onerror = on_error.bind(null, url);\n      element.rel = \"stylesheet\";\n      element.type = \"text/css\";\n      element.href = url;\n      console.debug(\"Bokeh: injecting link tag for BokehJS stylesheet: \", url);\n      document.body.appendChild(element);\n    }\n\n    const hashes = {\"https://cdn.bokeh.org/bokeh/release/bokeh-2.3.3.min.js\": \"dM3QQsP+wXdHg42wTqW85BjZQdLNNIXqlPw/BgKoExPmTG7ZLML4EGqLMfqHT6ON\", \"https://cdn.bokeh.org/bokeh/release/bokeh-tables-2.3.3.min.js\": \"8x57I4YuIfu8XyZfFo0XVr2WAT8EK4rh/uDe3wF7YuW2FNUSNEpJbsPaB1nJ2fz2\", \"https://cdn.bokeh.org/bokeh/release/bokeh-widgets-2.3.3.min.js\": \"3QTqdz9LyAm2i0sG5XTePsHec3UHWwVsrOL68SYRoAXsafvfAyqtQ+h440+qIBhS\"};\n\n    for (let i = 0; i < js_urls.length; i++) {\n      const url = js_urls[i];\n      const element = document.createElement('script');\n      element.onload = on_load;\n      element.onerror = on_error.bind(null, url);\n      element.async = false;\n      element.src = url;\n      if (url in hashes) {\n        element.crossOrigin = \"anonymous\";\n        element.integrity = \"sha384-\" + hashes[url];\n      }\n      console.debug(\"Bokeh: injecting script tag for BokehJS library: \", url);\n      document.head.appendChild(element);\n    }\n  };\n\n  function inject_raw_css(css) {\n    const element = document.createElement(\"style\");\n    element.appendChild(document.createTextNode(css));\n    document.body.appendChild(element);\n  }\n\n  \n  var js_urls = [\"https://cdn.bokeh.org/bokeh/release/bokeh-2.3.3.min.js\", \"https://cdn.bokeh.org/bokeh/release/bokeh-widgets-2.3.3.min.js\", \"https://cdn.bokeh.org/bokeh/release/bokeh-tables-2.3.3.min.js\"];\n  var css_urls = [];\n  \n\n  var inline_js = [\n    function(Bokeh) {\n      Bokeh.set_log_level(\"info\");\n    },\n    function(Bokeh) {\n    \n    \n    }\n  ];\n\n  function run_inline_js() {\n    \n    if (root.Bokeh !== undefined || force === true) {\n      \n    for (var i = 0; i < inline_js.length; i++) {\n      inline_js[i].call(root, root.Bokeh);\n    }\n    if (force === true) {\n        display_loaded();\n      }} else if (Date.now() < root._bokeh_timeout) {\n      setTimeout(run_inline_js, 100);\n    } else if (!root._bokeh_failed_load) {\n      console.log(\"Bokeh: BokehJS failed to load within specified timeout.\");\n      root._bokeh_failed_load = true;\n    } else if (force !== true) {\n      var cell = $(document.getElementById(\"1002\")).parents('.cell').data().cell;\n      cell.output_area.append_execute_result(NB_LOAD_WARNING)\n    }\n\n  }\n\n  if (root._bokeh_is_loading === 0) {\n    console.debug(\"Bokeh: BokehJS loaded, going straight to plotting\");\n    run_inline_js();\n  } else {\n    load_libs(css_urls, js_urls, function() {\n      console.debug(\"Bokeh: BokehJS plotting callback run at\", now());\n      run_inline_js();\n    });\n  }\n}(window));"
     },
     "metadata": {},
     "output_type": "display_data"
    }
   ],
   "source": [
    "import wgregseq\n",
    "\n",
    "# Include these if package is manipulated while running the notebook\n",
    "%load_ext autoreload\n",
    "%autoreload 2\n",
    "\n",
    "import pandas as pd\n",
    "#import numpy as np\n",
    "import copy\n",
    "\n",
    "import numpy as np\n",
    "\n",
    "from bokeh.plotting import figure\n",
    "from bokeh.models import ColumnDataSource\n",
    "from bokeh.layouts import grid\n",
    "\n",
    "import bokeh.io\n",
    "\n",
    "bokeh.io.output_notebook()"
   ]
  },
  {
   "cell_type": "code",
   "execution_count": null,
   "metadata": {},
   "outputs": [],
   "source": []
  },
  {
   "cell_type": "markdown",
   "metadata": {},
   "source": [
    "First we assign the sequences of interest. We'll mostly use the strongest operator O1, but will also include the unmutated sequences for O2 and O3. The mutants for O1 will be chosen depending on their predicted binding energy. Therefore, we import the binding energy matrix calculated in Barnes 2019."
   ]
  },
  {
   "cell_type": "code",
   "execution_count": 3,
   "metadata": {},
   "outputs": [],
   "source": [
    "# Operator sequences\n",
    "O1 = 'AATTGTGAGCGGATAACAATT'\n",
    "O2 = 'AAATGTGAGCGAGTAACAACC'\n",
    "O3 = 'GGCAGTGAGCGCAACGCAATT'\n",
    "\n",
    "# Promoter\n",
    "lacUV5 = 'TCGAGTTTACACTTTATGCTTCCGGCTCGTATAATGTGTGG'\n",
    "\n",
    "# Combining promoter and operators\n",
    "lacUV5_O1 = lacUV5 + O1\n",
    "lacUV5_O2 = lacUV5 + O2\n",
    "lacUV5_O3 = lacUV5 + O3\n",
    "\n",
    "# Obtain binding energy matrix for O1\n",
    "O1_matrix = np.load(\"../../../../data/O1_matrix.npy\")"
   ]
  },
  {
   "cell_type": "markdown",
   "metadata": {},
   "source": [
    "We write a function to evaluate the energy matrix for a sequence. Therefore, the letters are transformed into an index."
   ]
  },
  {
   "cell_type": "code",
   "execution_count": 4,
   "metadata": {},
   "outputs": [],
   "source": [
    "def energy_from_sequence(sequence, matrix):\n",
    "    seq_list = list(sequence.upper())\n",
    "    num_seq = [seq_dict[x] for x in seq_list]\n",
    "    energy = sum([matrix[i, num_seq[i]] for i in range(len(sequence))])\n",
    "    return energy"
   ]
  },
  {
   "cell_type": "markdown",
   "metadata": {},
   "source": [
    "We also need to define the dictionary which translates nucleotides into indices."
   ]
  },
  {
   "cell_type": "code",
   "execution_count": 5,
   "metadata": {},
   "outputs": [],
   "source": [
    "seq_dict, _ = wgregseq.choose_dict(\"dna\")"
   ]
  },
  {
   "cell_type": "markdown",
   "metadata": {},
   "source": [
    "Now we can generate mutants. Therefore we generate all single, double mutants and triple mutants using the function which creates all possible mutants and then chooses, to prevent duplicates, at ensure we obtain every mutant."
   ]
  },
  {
   "cell_type": "code",
   "execution_count": 6,
   "metadata": {},
   "outputs": [],
   "source": [
    "mutants_single = wgregseq.mutations_det(O1, mut_per_seq=1)\n",
    "mutants_double = wgregseq.mutations_det(O1, mut_per_seq=2)\n",
    "mutants_triple = wgregseq.mutations_det(O1, mut_per_seq=3)"
   ]
  },
  {
   "cell_type": "markdown",
   "metadata": {},
   "source": [
    "For higher order mutants we don't have to worried too much about duplicates and can randomly generate mutants (while keeping the number of mutations fixed). "
   ]
  },
  {
   "cell_type": "code",
   "execution_count": 7,
   "metadata": {},
   "outputs": [],
   "source": [
    "import random\n",
    "random.seed(50937)\n",
    "import numpy as np\n",
    "np.random.seed(50937)"
   ]
  },
  {
   "cell_type": "code",
   "execution_count": 8,
   "metadata": {},
   "outputs": [],
   "source": [
    "mutants_quadruple = np.unique(wgregseq.mutations_rand(O1, rate=0.2, num_mutants=100000, number_fixed=True))\n",
    "mutants_quintuple = np.unique(wgregseq.mutations_rand(O1, rate=0.25, num_mutants=100000, number_fixed=True))\n",
    "mutants_sextuple = np.unique(wgregseq.mutations_rand(O1, rate=0.3, num_mutants=100000, number_fixed=True))"
   ]
  },
  {
   "cell_type": "markdown",
   "metadata": {},
   "source": [
    "Let's quickly confirm that we obtained plenty of unique mutants to choose from."
   ]
  },
  {
   "cell_type": "code",
   "execution_count": 9,
   "metadata": {},
   "outputs": [
    {
     "name": "stdout",
     "output_type": "stream",
     "text": [
      "Number of unique quadruple mutants: 90414\n",
      "Number of unique quintuple mutants: 98981\n",
      "Number of unique sextuple mutants: 99885\n"
     ]
    }
   ],
   "source": [
    "print(\"Number of unique quadruple mutants: {}\".format(len(mutants_quadruple)))\n",
    "print(\"Number of unique quintuple mutants: {}\".format(len(mutants_quintuple)))\n",
    "print(\"Number of unique sextuple mutants: {}\".format(len(mutants_sextuple)))"
   ]
  },
  {
   "cell_type": "markdown",
   "metadata": {},
   "source": [
    "Let's write all the mutants into a dataframe. We exclude the single mutants for now, since we want to use all of those anyways, so we add them back to the pool in the end."
   ]
  },
  {
   "cell_type": "code",
   "execution_count": 10,
   "metadata": {},
   "outputs": [],
   "source": [
    "df_1 = pd.DataFrame({\"seq\": mutants_single, \"mutations\": 1})\n",
    "df_2 = pd.DataFrame({\"seq\": mutants_double, \"mutations\": 2})\n",
    "df_3 = pd.DataFrame({\"seq\": mutants_triple, \"mutations\": 3})\n",
    "df_4 = pd.DataFrame({\"seq\": mutants_quadruple, \"mutations\": 4})\n",
    "df_5 = pd.DataFrame({\"seq\": mutants_quintuple, \"mutations\": 5})\n",
    "df_6 = pd.DataFrame({\"seq\": mutants_sextuple, \"mutations\": 6})\n",
    "df = pd.concat([df_2, df_3, df_4, df_5, df_6], ignore_index=True)"
   ]
  },
  {
   "cell_type": "markdown",
   "metadata": {},
   "source": [
    "Now we can compute the difference in energy matrix for every mutant and add it to the data frame."
   ]
  },
  {
   "cell_type": "code",
   "execution_count": 11,
   "metadata": {},
   "outputs": [
    {
     "data": {
      "text/html": [
       "<div>\n",
       "<style scoped>\n",
       "    .dataframe tbody tr th:only-of-type {\n",
       "        vertical-align: middle;\n",
       "    }\n",
       "\n",
       "    .dataframe tbody tr th {\n",
       "        vertical-align: top;\n",
       "    }\n",
       "\n",
       "    .dataframe thead th {\n",
       "        text-align: right;\n",
       "    }\n",
       "</style>\n",
       "<table border=\"1\" class=\"dataframe\">\n",
       "  <thead>\n",
       "    <tr style=\"text-align: right;\">\n",
       "      <th></th>\n",
       "      <th>seq</th>\n",
       "      <th>mutations</th>\n",
       "      <th>energy</th>\n",
       "    </tr>\n",
       "  </thead>\n",
       "  <tbody>\n",
       "    <tr>\n",
       "      <th>327075</th>\n",
       "      <td>ttgcGTtAGCGcATAACAATT</td>\n",
       "      <td>6</td>\n",
       "      <td>10.262277</td>\n",
       "    </tr>\n",
       "    <tr>\n",
       "      <th>327076</th>\n",
       "      <td>ttgcGaGAGCGGtTAACAATT</td>\n",
       "      <td>6</td>\n",
       "      <td>9.680562</td>\n",
       "    </tr>\n",
       "    <tr>\n",
       "      <th>327077</th>\n",
       "      <td>ttggGTGAGCGGATAcCAAaT</td>\n",
       "      <td>6</td>\n",
       "      <td>5.170049</td>\n",
       "    </tr>\n",
       "    <tr>\n",
       "      <th>327078</th>\n",
       "      <td>ttggGTaAGCGGgTAACAATT</td>\n",
       "      <td>6</td>\n",
       "      <td>8.925892</td>\n",
       "    </tr>\n",
       "    <tr>\n",
       "      <th>327079</th>\n",
       "      <td>ttggGcGAGCGGATAACgATT</td>\n",
       "      <td>6</td>\n",
       "      <td>11.242064</td>\n",
       "    </tr>\n",
       "  </tbody>\n",
       "</table>\n",
       "</div>"
      ],
      "text/plain": [
       "                          seq  mutations     energy\n",
       "327075  ttgcGTtAGCGcATAACAATT          6  10.262277\n",
       "327076  ttgcGaGAGCGGtTAACAATT          6   9.680562\n",
       "327077  ttggGTGAGCGGATAcCAAaT          6   5.170049\n",
       "327078  ttggGTaAGCGGgTAACAATT          6   8.925892\n",
       "327079  ttggGcGAGCGGATAACgATT          6  11.242064"
      ]
     },
     "execution_count": 11,
     "metadata": {},
     "output_type": "execute_result"
    }
   ],
   "source": [
    "# Compute energies and add column containing values\n",
    "df[\"energy\"] = df['seq'].apply(energy_from_sequence, args= (O1_matrix, ))\n",
    "\n",
    "# Show last five rows\n",
    "df.tail()"
   ]
  },
  {
   "cell_type": "markdown",
   "metadata": {},
   "source": [
    "Now we have to choose which sequences we include in the experiment. Therefore we choose bins of binding energies, within we choose an equal number of sequences from each number of mutations. By choosing bins, we reduce the bias from the distribution of mutants, getting a more even coverage of energies."
   ]
  },
  {
   "cell_type": "code",
   "execution_count": 12,
   "metadata": {},
   "outputs": [
    {
     "data": {
      "text/plain": [
       "[(-1.0, 0.0),\n",
       " (0.0, 1.0),\n",
       " (1.0, 2.0),\n",
       " (2.0, 3.0),\n",
       " (3.0, 4.0),\n",
       " (4.0, 5.0),\n",
       " (5.0, 6.0),\n",
       " (6.0, 7.0),\n",
       " (7.0, 8.0)]"
      ]
     },
     "execution_count": 12,
     "metadata": {},
     "output_type": "execute_result"
    }
   ],
   "source": [
    "# Bin width\n",
    "gap = 1\n",
    "\n",
    "# Minimal and maximal energies\n",
    "Min, Max = -0.5, 7.5\n",
    "\n",
    "# Generate 9 bins\n",
    "bins = [(i-gap/2, i+gap/2) for i in np.linspace(Min, Max, num=9)]\n",
    "\n",
    "# Show bins\n",
    "bins"
   ]
  },
  {
   "cell_type": "markdown",
   "metadata": {},
   "source": [
    "Let's have a look on how the mutants are distributed."
   ]
  },
  {
   "cell_type": "code",
   "execution_count": 13,
   "metadata": {},
   "outputs": [
    {
     "data": {
      "text/html": [
       "\n",
       "\n",
       "\n",
       "\n",
       "\n",
       "\n",
       "  <div class=\"bk-root\" id=\"3c922323-2b04-4fb1-b300-e928fe45bb8e\" data-root-id=\"1803\"></div>\n"
      ]
     },
     "metadata": {},
     "output_type": "display_data"
    },
    {
     "data": {
      "application/javascript": [
       "(function(root) {\n",
       "  function embed_document(root) {\n",
       "    \n",
       "  var docs_json = {\"a6cf9f92-197f-44bd-9407-c860434c6f09\":{\"defs\":[],\"roots\":{\"references\":[{\"attributes\":{\"children\":[[{\"id\":\"1003\"},0,0,1,1],[{\"id\":\"1163\"},0,1,1,1],[{\"id\":\"1323\"},0,2,1,1],[{\"id\":\"1483\"},0,3,1,1],[{\"id\":\"1643\"},0,4,1,1]]},\"id\":\"1803\",\"type\":\"GridBox\"},{\"attributes\":{\"data\":{\"x\":[2.0,2.0],\"y\":[0,0.18390112513315407]},\"selected\":{\"id\":\"1859\"},\"selection_policy\":{\"id\":\"1860\"}},\"id\":\"1073\",\"type\":\"ColumnDataSource\"},{\"attributes\":{},\"id\":\"1832\",\"type\":\"BasicTickFormatter\"},{\"attributes\":{\"fill_alpha\":0.1,\"fill_color\":\"orange\",\"x\":{\"field\":\"x\"},\"y1\":{\"field\":\"y1\"},\"y2\":{\"field\":\"y2\"}},\"id\":\"1055\",\"type\":\"VArea\"},{\"attributes\":{},\"id\":\"1831\",\"type\":\"AllLabels\"},{\"attributes\":{\"data\":{\"x\":[0.0,1.0],\"y1\":[0,0],\"y2\":[0.18390112513315407,0.18390112513315407]},\"selected\":{\"id\":\"1851\"},\"selection_policy\":{\"id\":\"1852\"}},\"id\":\"1053\",\"type\":\"ColumnDataSource\"},{\"attributes\":{},\"id\":\"1957\",\"type\":\"Selection\"},{\"attributes\":{\"data\":{\"x\":[1.0,1.0],\"y\":[0,0.18390112513315407]},\"selected\":{\"id\":\"1853\"},\"selection_policy\":{\"id\":\"1854\"}},\"id\":\"1058\",\"type\":\"ColumnDataSource\"},{\"attributes\":{\"data_source\":{\"id\":\"1073\"},\"glyph\":{\"id\":\"1074\"},\"hover_glyph\":null,\"muted_glyph\":null,\"nonselection_glyph\":{\"id\":\"1075\"},\"view\":{\"id\":\"1077\"}},\"id\":\"1076\",\"type\":\"GlyphRenderer\"},{\"attributes\":{\"line_color\":\"orange\",\"x\":{\"field\":\"x\"},\"y\":{\"field\":\"y\"}},\"id\":\"1079\",\"type\":\"Line\"},{\"attributes\":{},\"id\":\"1877\",\"type\":\"Selection\"},{\"attributes\":{\"data_source\":{\"id\":\"1078\"},\"glyph\":{\"id\":\"1079\"},\"hover_glyph\":null,\"muted_glyph\":null,\"nonselection_glyph\":{\"id\":\"1080\"},\"view\":{\"id\":\"1082\"}},\"id\":\"1081\",\"type\":\"GlyphRenderer\"},{\"attributes\":{\"data\":{\"x\":[1.0,2.0],\"y1\":[0,0],\"y2\":[0.18390112513315407,0.18390112513315407]},\"selected\":{\"id\":\"1857\"},\"selection_policy\":{\"id\":\"1858\"}},\"id\":\"1068\",\"type\":\"ColumnDataSource\"},{\"attributes\":{},\"id\":\"1882\",\"type\":\"UnionRenderers\"},{\"attributes\":{},\"id\":\"1951\",\"type\":\"Selection\"},{\"attributes\":{\"source\":{\"id\":\"1078\"}},\"id\":\"1082\",\"type\":\"CDSView\"},{\"attributes\":{\"fill_alpha\":0.2,\"fill_color\":\"orange\",\"x\":{\"field\":\"x\"},\"y1\":{\"field\":\"y1\"},\"y2\":{\"field\":\"y2\"}},\"id\":\"1054\",\"type\":\"VArea\"},{\"attributes\":{},\"id\":\"1872\",\"type\":\"UnionRenderers\"},{\"attributes\":{\"line_alpha\":0.1,\"line_color\":\"orange\",\"x\":{\"field\":\"x\"},\"y\":{\"field\":\"y\"}},\"id\":\"1065\",\"type\":\"Line\"},{\"attributes\":{},\"id\":\"1955\",\"type\":\"Selection\"},{\"attributes\":{},\"id\":\"1974\",\"type\":\"UnionRenderers\"},{\"attributes\":{},\"id\":\"1953\",\"type\":\"Selection\"},{\"attributes\":{\"line_alpha\":0.1,\"line_color\":\"orange\",\"x\":{\"field\":\"x\"},\"y\":{\"field\":\"y\"}},\"id\":\"1080\",\"type\":\"Line\"},{\"attributes\":{\"data_source\":{\"id\":\"1063\"},\"glyph\":{\"id\":\"1064\"},\"hover_glyph\":null,\"muted_glyph\":null,\"nonselection_glyph\":{\"id\":\"1065\"},\"view\":{\"id\":\"1067\"}},\"id\":\"1066\",\"type\":\"GlyphRenderer\"},{\"attributes\":{\"data_source\":{\"id\":\"1068\"},\"glyph\":{\"id\":\"1069\"},\"hover_glyph\":null,\"muted_glyph\":null,\"nonselection_glyph\":{\"id\":\"1070\"},\"view\":{\"id\":\"1072\"}},\"id\":\"1071\",\"type\":\"GlyphRenderer\"},{\"attributes\":{},\"id\":\"1873\",\"type\":\"Selection\"},{\"attributes\":{},\"id\":\"1969\",\"type\":\"Selection\"},{\"attributes\":{},\"id\":\"2104\",\"type\":\"UnionRenderers\"},{\"attributes\":{\"axis\":{\"id\":\"1018\"},\"dimension\":1,\"ticker\":null},\"id\":\"1021\",\"type\":\"Grid\"},{\"attributes\":{},\"id\":\"1878\",\"type\":\"UnionRenderers\"},{\"attributes\":{\"line_alpha\":0.1,\"line_color\":\"orange\",\"x\":{\"field\":\"x\"},\"y\":{\"field\":\"y\"}},\"id\":\"1075\",\"type\":\"Line\"},{\"attributes\":{},\"id\":\"1019\",\"type\":\"BasicTicker\"},{\"attributes\":{},\"id\":\"1958\",\"type\":\"UnionRenderers\"},{\"attributes\":{\"background_fill_color\":\"#fafafa\",\"below\":[{\"id\":\"1014\"}],\"center\":[{\"id\":\"1017\"},{\"id\":\"1021\"}],\"frame_height\":200,\"frame_width\":200,\"left\":[{\"id\":\"1018\"}],\"renderers\":[{\"id\":\"1026\"},{\"id\":\"1031\"},{\"id\":\"1036\"},{\"id\":\"1041\"},{\"id\":\"1046\"},{\"id\":\"1051\"},{\"id\":\"1056\"},{\"id\":\"1061\"},{\"id\":\"1066\"},{\"id\":\"1071\"},{\"id\":\"1076\"},{\"id\":\"1081\"},{\"id\":\"1086\"},{\"id\":\"1091\"},{\"id\":\"1096\"},{\"id\":\"1101\"},{\"id\":\"1106\"},{\"id\":\"1111\"},{\"id\":\"1116\"},{\"id\":\"1121\"},{\"id\":\"1126\"},{\"id\":\"1131\"},{\"id\":\"1136\"},{\"id\":\"1141\"},{\"id\":\"1146\"},{\"id\":\"1151\"},{\"id\":\"1156\"},{\"id\":\"1161\"}],\"title\":{\"id\":\"1004\"},\"toolbar\":{\"id\":\"1022\"},\"x_range\":{\"id\":\"1006\"},\"x_scale\":{\"id\":\"1010\"},\"y_range\":{\"id\":\"1008\"},\"y_scale\":{\"id\":\"1012\"}},\"id\":\"1003\",\"subtype\":\"Figure\",\"type\":\"Plot\"},{\"attributes\":{},\"id\":\"1972\",\"type\":\"UnionRenderers\"},{\"attributes\":{\"source\":{\"id\":\"1073\"}},\"id\":\"1077\",\"type\":\"CDSView\"},{\"attributes\":{},\"id\":\"1973\",\"type\":\"Selection\"},{\"attributes\":{},\"id\":\"1881\",\"type\":\"Selection\"},{\"attributes\":{\"axis_label\":\"\\u0394E [k_BT]\",\"formatter\":{\"id\":\"1814\"},\"major_label_policy\":{\"id\":\"1813\"},\"ticker\":{\"id\":\"1015\"}},\"id\":\"1014\",\"type\":\"LinearAxis\"},{\"attributes\":{\"source\":{\"id\":\"1063\"}},\"id\":\"1067\",\"type\":\"CDSView\"},{\"attributes\":{},\"id\":\"1956\",\"type\":\"UnionRenderers\"},{\"attributes\":{\"line_color\":\"orange\",\"x\":{\"field\":\"x\"},\"y\":{\"field\":\"y\"}},\"id\":\"1074\",\"type\":\"Line\"},{\"attributes\":{\"fill_alpha\":0.2,\"fill_color\":\"orange\",\"x\":{\"field\":\"x\"},\"y1\":{\"field\":\"y1\"},\"y2\":{\"field\":\"y2\"}},\"id\":\"1069\",\"type\":\"VArea\"},{\"attributes\":{},\"id\":\"1971\",\"type\":\"Selection\"},{\"attributes\":{\"data_source\":{\"id\":\"1083\"},\"glyph\":{\"id\":\"1084\"},\"hover_glyph\":null,\"muted_glyph\":null,\"nonselection_glyph\":{\"id\":\"1085\"},\"view\":{\"id\":\"1087\"}},\"id\":\"1086\",\"type\":\"GlyphRenderer\"},{\"attributes\":{\"axis\":{\"id\":\"1014\"},\"ticker\":null},\"id\":\"1017\",\"type\":\"Grid\"},{\"attributes\":{\"fill_alpha\":0.1,\"fill_color\":\"orange\",\"x\":{\"field\":\"x\"},\"y1\":{\"field\":\"y1\"},\"y2\":{\"field\":\"y2\"}},\"id\":\"1070\",\"type\":\"VArea\"},{\"attributes\":{\"line_alpha\":0.1,\"line_color\":\"orange\",\"x\":{\"field\":\"x\"},\"y\":{\"field\":\"y\"}},\"id\":\"1060\",\"type\":\"Line\"},{\"attributes\":{},\"id\":\"1954\",\"type\":\"UnionRenderers\"},{\"attributes\":{},\"id\":\"1015\",\"type\":\"BasicTicker\"},{\"attributes\":{},\"id\":\"1006\",\"type\":\"DataRange1d\"},{\"attributes\":{\"data\":{\"x\":[2.0,2.0],\"y\":[0,0.18390112513315407]},\"selected\":{\"id\":\"1855\"},\"selection_policy\":{\"id\":\"1856\"}},\"id\":\"1063\",\"type\":\"ColumnDataSource\"},{\"attributes\":{},\"id\":\"1952\",\"type\":\"UnionRenderers\"},{\"attributes\":{},\"id\":\"1975\",\"type\":\"Selection\"},{\"attributes\":{\"line_color\":\"orange\",\"x\":{\"field\":\"x\"},\"y\":{\"field\":\"y\"}},\"id\":\"1064\",\"type\":\"Line\"},{\"attributes\":{},\"id\":\"1970\",\"type\":\"UnionRenderers\"},{\"attributes\":{\"line_alpha\":0.1,\"line_color\":\"orange\",\"x\":{\"field\":\"x\"},\"y\":{\"field\":\"y\"}},\"id\":\"1050\",\"type\":\"Line\"},{\"attributes\":{\"source\":{\"id\":\"1048\"}},\"id\":\"1052\",\"type\":\"CDSView\"},{\"attributes\":{\"data\":{\"x\":[3.0,3.0],\"y\":[0,0.18390112513315407]},\"selected\":{\"id\":\"1861\"},\"selection_policy\":{\"id\":\"1862\"}},\"id\":\"1078\",\"type\":\"ColumnDataSource\"},{\"attributes\":{\"source\":{\"id\":\"1068\"}},\"id\":\"1072\",\"type\":\"CDSView\"},{\"attributes\":{},\"id\":\"1008\",\"type\":\"DataRange1d\"},{\"attributes\":{\"source\":{\"id\":\"1053\"}},\"id\":\"1057\",\"type\":\"CDSView\"},{\"attributes\":{},\"id\":\"1977\",\"type\":\"Selection\"},{\"attributes\":{\"text\":\"mutations = 2\"},\"id\":\"1004\",\"type\":\"Title\"},{\"attributes\":{},\"id\":\"1996\",\"type\":\"UnionRenderers\"},{\"attributes\":{},\"id\":\"1874\",\"type\":\"UnionRenderers\"},{\"attributes\":{},\"id\":\"1875\",\"type\":\"Selection\"},{\"attributes\":{},\"id\":\"1976\",\"type\":\"UnionRenderers\"},{\"attributes\":{},\"id\":\"1012\",\"type\":\"LinearScale\"},{\"attributes\":{},\"id\":\"1010\",\"type\":\"LinearScale\"},{\"attributes\":{\"source\":{\"id\":\"1058\"}},\"id\":\"1062\",\"type\":\"CDSView\"},{\"attributes\":{},\"id\":\"1876\",\"type\":\"UnionRenderers\"},{\"attributes\":{},\"id\":\"1880\",\"type\":\"UnionRenderers\"},{\"attributes\":{},\"id\":\"1835\",\"type\":\"BasicTickFormatter\"},{\"attributes\":{},\"id\":\"1879\",\"type\":\"Selection\"},{\"attributes\":{\"data_source\":{\"id\":\"1058\"},\"glyph\":{\"id\":\"1059\"},\"hover_glyph\":null,\"muted_glyph\":null,\"nonselection_glyph\":{\"id\":\"1060\"},\"view\":{\"id\":\"1062\"}},\"id\":\"1061\",\"type\":\"GlyphRenderer\"},{\"attributes\":{},\"id\":\"2077\",\"type\":\"Selection\"},{\"attributes\":{},\"id\":\"1834\",\"type\":\"AllLabels\"},{\"attributes\":{},\"id\":\"1871\",\"type\":\"Selection\"},{\"attributes\":{},\"id\":\"1978\",\"type\":\"UnionRenderers\"},{\"attributes\":{\"axis_label\":\"density\",\"formatter\":{\"id\":\"1811\"},\"major_label_policy\":{\"id\":\"1810\"},\"ticker\":{\"id\":\"1019\"}},\"id\":\"1018\",\"type\":\"LinearAxis\"},{\"attributes\":{\"line_color\":\"orange\",\"x\":{\"field\":\"x\"},\"y\":{\"field\":\"y\"}},\"id\":\"1059\",\"type\":\"Line\"},{\"attributes\":{\"data\":{\"x\":[3.0,4.0],\"y1\":[0,0],\"y2\":[0.1096297297503988,0.1096297297503988]},\"selected\":{\"id\":\"1981\"},\"selection_policy\":{\"id\":\"1982\"}},\"id\":\"1418\",\"type\":\"ColumnDataSource\"},{\"attributes\":{\"data\":{\"x\":[3.0,3.0],\"y\":[0,0.10028335935934937]},\"selected\":{\"id\":\"2033\"},\"selection_policy\":{\"id\":\"2034\"}},\"id\":\"1568\",\"type\":\"ColumnDataSource\"},{\"attributes\":{\"line_color\":\"orange\",\"x\":{\"field\":\"x\"},\"y\":{\"field\":\"y\"}},\"id\":\"1619\",\"type\":\"Line\"},{\"attributes\":{\"data_source\":{\"id\":\"1578\"},\"glyph\":{\"id\":\"1579\"},\"hover_glyph\":null,\"muted_glyph\":null,\"nonselection_glyph\":{\"id\":\"1580\"},\"view\":{\"id\":\"1582\"}},\"id\":\"1581\",\"type\":\"GlyphRenderer\"},{\"attributes\":{\"data\":{\"x\":[5.0,5.0],\"y\":[0,0.1096297297503988]},\"selected\":{\"id\":\"1989\"},\"selection_policy\":{\"id\":\"1990\"}},\"id\":\"1438\",\"type\":\"ColumnDataSource\"},{\"attributes\":{\"line_color\":\"orange\",\"x\":{\"field\":\"x\"},\"y\":{\"field\":\"y\"}},\"id\":\"1684\",\"type\":\"Line\"},{\"attributes\":{\"data_source\":{\"id\":\"1448\"},\"glyph\":{\"id\":\"1449\"},\"hover_glyph\":null,\"muted_glyph\":null,\"nonselection_glyph\":{\"id\":\"1450\"},\"view\":{\"id\":\"1452\"}},\"id\":\"1451\",\"type\":\"GlyphRenderer\"},{\"attributes\":{\"source\":{\"id\":\"1663\"}},\"id\":\"1667\",\"type\":\"CDSView\"},{\"attributes\":{},\"id\":\"1916\",\"type\":\"UnionRenderers\"},{\"attributes\":{\"data_source\":{\"id\":\"1633\"},\"glyph\":{\"id\":\"1634\"},\"hover_glyph\":null,\"muted_glyph\":null,\"nonselection_glyph\":{\"id\":\"1635\"},\"view\":{\"id\":\"1637\"}},\"id\":\"1636\",\"type\":\"GlyphRenderer\"},{\"attributes\":{\"fill_alpha\":0.2,\"fill_color\":\"orange\",\"x\":{\"field\":\"x\"},\"y1\":{\"field\":\"y1\"},\"y2\":{\"field\":\"y2\"}},\"id\":\"1434\",\"type\":\"VArea\"},{\"attributes\":{\"fill_alpha\":0.1,\"fill_color\":\"orange\",\"x\":{\"field\":\"x\"},\"y1\":{\"field\":\"y1\"},\"y2\":{\"field\":\"y2\"}},\"id\":\"1565\",\"type\":\"VArea\"},{\"attributes\":{\"fill_alpha\":0.1,\"fill_color\":\"orange\",\"x\":{\"field\":\"x\"},\"y1\":{\"field\":\"y1\"},\"y2\":{\"field\":\"y2\"}},\"id\":\"1435\",\"type\":\"VArea\"},{\"attributes\":{\"data\":{\"x\":[8.0,8.0],\"y\":[0,0.10028335935934937]},\"selected\":{\"id\":\"2059\"},\"selection_policy\":{\"id\":\"2060\"}},\"id\":\"1633\",\"type\":\"ColumnDataSource\"},{\"attributes\":{},\"id\":\"2015\",\"type\":\"Selection\"},{\"attributes\":{\"active_multi\":null},\"id\":\"1662\",\"type\":\"Toolbar\"},{\"attributes\":{\"line_alpha\":0.1,\"line_color\":\"orange\",\"x\":{\"field\":\"x\"},\"y\":{\"field\":\"y\"}},\"id\":\"1600\",\"type\":\"Line\"},{\"attributes\":{\"fill_alpha\":0.1,\"fill_color\":\"orange\",\"x\":{\"field\":\"x\"},\"y1\":{\"field\":\"y1\"},\"y2\":{\"field\":\"y2\"}},\"id\":\"1725\",\"type\":\"VArea\"},{\"attributes\":{\"data\":{\"x\":[4.0,5.0],\"y1\":[0,0],\"y2\":[0.1096297297503988,0.1096297297503988]},\"selected\":{\"id\":\"1987\"},\"selection_policy\":{\"id\":\"1988\"}},\"id\":\"1433\",\"type\":\"ColumnDataSource\"},{\"attributes\":{\"data\":{\"x\":[7.0,8.0],\"y1\":[0,0],\"y2\":[0.10028335935934937,0.10028335935934937]},\"selected\":{\"id\":\"2061\"},\"selection_policy\":{\"id\":\"2062\"}},\"id\":\"1638\",\"type\":\"ColumnDataSource\"},{\"attributes\":{\"data_source\":{\"id\":\"1438\"},\"glyph\":{\"id\":\"1439\"},\"hover_glyph\":null,\"muted_glyph\":null,\"nonselection_glyph\":{\"id\":\"1440\"},\"view\":{\"id\":\"1442\"}},\"id\":\"1441\",\"type\":\"GlyphRenderer\"},{\"attributes\":{\"data\":{\"x\":[7.0,7.0],\"y\":[0,0.10028335935934937]},\"selected\":{\"id\":\"2053\"},\"selection_policy\":{\"id\":\"2054\"}},\"id\":\"1618\",\"type\":\"ColumnDataSource\"},{\"attributes\":{\"source\":{\"id\":\"1688\"}},\"id\":\"1692\",\"type\":\"CDSView\"},{\"attributes\":{\"line_alpha\":0.1,\"line_color\":\"orange\",\"x\":{\"field\":\"x\"},\"y\":{\"field\":\"y\"}},\"id\":\"1560\",\"type\":\"Line\"},{\"attributes\":{\"line_alpha\":0.1,\"line_color\":\"orange\",\"x\":{\"field\":\"x\"},\"y\":{\"field\":\"y\"}},\"id\":\"1440\",\"type\":\"Line\"},{\"attributes\":{\"line_color\":\"orange\",\"x\":{\"field\":\"x\"},\"y\":{\"field\":\"y\"}},\"id\":\"1604\",\"type\":\"Line\"},{\"attributes\":{\"source\":{\"id\":\"1683\"}},\"id\":\"1687\",\"type\":\"CDSView\"},{\"attributes\":{\"line_alpha\":0.1,\"line_color\":\"orange\",\"x\":{\"field\":\"x\"},\"y\":{\"field\":\"y\"}},\"id\":\"1475\",\"type\":\"Line\"},{\"attributes\":{\"line_alpha\":0.1,\"line_color\":\"orange\",\"x\":{\"field\":\"x\"},\"y\":{\"field\":\"y\"}},\"id\":\"1690\",\"type\":\"Line\"},{\"attributes\":{\"source\":{\"id\":\"1693\"}},\"id\":\"1697\",\"type\":\"CDSView\"},{\"attributes\":{},\"id\":\"1918\",\"type\":\"UnionRenderers\"},{\"attributes\":{},\"id\":\"1997\",\"type\":\"Selection\"},{\"attributes\":{\"data_source\":{\"id\":\"1463\"},\"glyph\":{\"id\":\"1464\"},\"hover_glyph\":null,\"muted_glyph\":null,\"nonselection_glyph\":{\"id\":\"1465\"},\"view\":{\"id\":\"1467\"}},\"id\":\"1466\",\"type\":\"GlyphRenderer\"},{\"attributes\":{\"data\":{\"x\":[1.0,1.0],\"y\":[0,0.09809796312312793]},\"selected\":{\"id\":\"2073\"},\"selection_policy\":{\"id\":\"2074\"}},\"id\":\"1688\",\"type\":\"ColumnDataSource\"},{\"attributes\":{\"source\":{\"id\":\"1448\"}},\"id\":\"1452\",\"type\":\"CDSView\"},{\"attributes\":{\"source\":{\"id\":\"1593\"}},\"id\":\"1597\",\"type\":\"CDSView\"},{\"attributes\":{\"source\":{\"id\":\"1673\"}},\"id\":\"1677\",\"type\":\"CDSView\"},{\"attributes\":{\"data_source\":{\"id\":\"1598\"},\"glyph\":{\"id\":\"1599\"},\"hover_glyph\":null,\"muted_glyph\":null,\"nonselection_glyph\":{\"id\":\"1600\"},\"view\":{\"id\":\"1602\"}},\"id\":\"1601\",\"type\":\"GlyphRenderer\"},{\"attributes\":{\"line_color\":\"orange\",\"x\":{\"field\":\"x\"},\"y\":{\"field\":\"y\"}},\"id\":\"1444\",\"type\":\"Line\"},{\"attributes\":{},\"id\":\"2016\",\"type\":\"UnionRenderers\"},{\"attributes\":{\"data_source\":{\"id\":\"1473\"},\"glyph\":{\"id\":\"1474\"},\"hover_glyph\":null,\"muted_glyph\":null,\"nonselection_glyph\":{\"id\":\"1475\"},\"view\":{\"id\":\"1477\"}},\"id\":\"1476\",\"type\":\"GlyphRenderer\"},{\"attributes\":{\"data_source\":{\"id\":\"1623\"},\"glyph\":{\"id\":\"1624\"},\"hover_glyph\":null,\"muted_glyph\":null,\"nonselection_glyph\":{\"id\":\"1625\"},\"view\":{\"id\":\"1627\"}},\"id\":\"1626\",\"type\":\"GlyphRenderer\"},{\"attributes\":{},\"id\":\"1650\",\"type\":\"LinearScale\"},{\"attributes\":{\"data\":{\"x\":[8.0,8.0],\"y\":[0,0.1096297297503988]},\"selected\":{\"id\":\"2003\"},\"selection_policy\":{\"id\":\"2004\"}},\"id\":\"1473\",\"type\":\"ColumnDataSource\"},{\"attributes\":{\"source\":{\"id\":\"1558\"}},\"id\":\"1562\",\"type\":\"CDSView\"},{\"attributes\":{\"fill_alpha\":0.1,\"fill_color\":\"orange\",\"x\":{\"field\":\"x\"},\"y1\":{\"field\":\"y1\"},\"y2\":{\"field\":\"y2\"}},\"id\":\"1640\",\"type\":\"VArea\"},{\"attributes\":{\"source\":{\"id\":\"1468\"}},\"id\":\"1472\",\"type\":\"CDSView\"},{\"attributes\":{\"line_color\":\"orange\",\"x\":{\"field\":\"x\"},\"y\":{\"field\":\"y\"}},\"id\":\"1569\",\"type\":\"Line\"},{\"attributes\":{\"data\":{\"x\":[-1.0,-1.0],\"y\":[0,0.09809796312312793]},\"selected\":{\"id\":\"2065\"},\"selection_policy\":{\"id\":\"2066\"}},\"id\":\"1668\",\"type\":\"ColumnDataSource\"},{\"attributes\":{\"data_source\":{\"id\":\"1618\"},\"glyph\":{\"id\":\"1619\"},\"hover_glyph\":null,\"muted_glyph\":null,\"nonselection_glyph\":{\"id\":\"1620\"},\"view\":{\"id\":\"1622\"}},\"id\":\"1621\",\"type\":\"GlyphRenderer\"},{\"attributes\":{\"data\":{\"left\":{\"__ndarray__\":\"oO49O2Rzyb8kJZ0QGJXVP8ygbB/x8es/g1dFG6uM9j+gXtSmXSD/P96yMRkI2gNAbTb5XuEjCED8ucCkum0MQMUeRPXJWxBAjOAnmLaAEkBTogs7o6UUQBtk792PyhZA4iXTgHzvGECp57YjaRQbQHGpmsZVOR1AN2t+aUJeH0CAFjGGl8EgQGT3otcN1CFARtgUKYTmIkAquYZ6+vgjQA6a+MtwCyVA8npqHecdJkDWW9xuXTAnQLg8TsDTQihAnB3AEUpVKUCA/jFjwGcqQGTfo7Q2eitASMAVBq2MLEAsoYdXI58tQA6C+aiZsS5A8mJr+g/EL0Droe4lQ2swQF2Sp05+9DBAz4Jgd7l9MUBBcxmg9AYyQLJj0sgvkDJAJFSL8WoZM0CWREQapqIzQAg1/ULhKzRAeiW2axy1NEDrFW+UVz41QF0GKL2SxzVAz/bg5c1QNkBB55kOCdo2QLPXUjdEYzdAJcgLYH/sN0CWuMSIunU4QAipfbH1/jhAepk22jCIOUDsie8CbBE6QA==\",\"dtype\":\"float64\",\"order\":\"little\",\"shape\":[50]},\"right\":{\"__ndarray__\":\"JCWdEBiV1T/MoGwf8fHrP4NXRRurjPY/oF7Upl0g/z/esjEZCNoDQG02+V7hIwhA/LnApLptDEDFHkT1yVsQQIzgJ5i2gBJAU6ILO6OlFEAbZO/dj8oWQOIl04B87xhAqee2I2kUG0BxqZrGVTkdQDdrfmlCXh9AgBYxhpfBIEBk96LXDdQhQEbYFCmE5iJAKrmGevr4I0AOmvjLcAslQPJ6ah3nHSZA1lvcbl0wJ0C4PE7A00IoQJwdwBFKVSlAgP4xY8BnKkBk36O0NnorQEjAFQatjCxALKGHVyOfLUAOgvmombEuQPJia/oPxC9A66HuJUNrMEBdkqdOfvQwQM+CYHe5fTFAQXMZoPQGMkCyY9LIL5AyQCRUi/FqGTNAlkREGqaiM0AINf1C4Ss0QHoltmsctTRA6xVvlFc+NUBdBii9ksc1QM/24OXNUDZAQeeZDgnaNkCz11I3RGM3QCXIC2B/7DdAlrjEiLp1OEAIqX2x9f44QHqZNtowiDlA7InvAmwROkBdeqgrp5o6QA==\",\"dtype\":\"float64\",\"order\":\"little\",\"shape\":[50]},\"top\":{\"__ndarray__\":\"X6O9O+6GMj+o2b851ehBP39Cr8iQilY/X4JBeEJyYT+q2b851ehxP4mm1v5maX0/6rQuCReyhj8mEfSNdbuQP7kca6z/spc/HL5Bey7Inj/77/hf49ajPy7eib3tC6g/+IRBkF6crD+YjZ3APFGwP0Kstdd1hLI/7jRuPgqatD9tqYWg4d61P1ubrAAYZrg/I/8FgZkguT82C8iUK6y5P3qqOIy0f7k/uNYQmFpzuT8980NtB5W4P0U+ABsIgLg/OahTSihutj+mHVDifS+1P/08AA/66rI/mmmkpcGisD+h1/f4C1CvP+TzqTifQao/bRSMu9Rtpz8H+iJSJEWjPy1CsfPD6p4/ZOBu/3kdmz8u96X6VKuUPxvF7hWgnI8/5NWqzMLGhz+FDV6LSWmCP03MGhv4QHw/IPD4X+PWcz8m0pVfsKRtP3oAt0E5YWQ/bkqQ5O4vXz8ziLy8+tVSPytOpVEBUkk/D5SyRWudRT9/fMYzig4wP+wPwje8SiE/JtKVX7CkDT8MEMI3vEohPw==\",\"dtype\":\"float64\",\"order\":\"little\",\"shape\":[50]}},\"selected\":{\"id\":\"2007\"},\"selection_policy\":{\"id\":\"2008\"}},\"id\":\"1503\",\"type\":\"ColumnDataSource\"},{\"attributes\":{\"line_alpha\":0.1,\"line_color\":\"orange\",\"x\":{\"field\":\"x\"},\"y\":{\"field\":\"y\"}},\"id\":\"1635\",\"type\":\"Line\"},{\"attributes\":{\"source\":{\"id\":\"1438\"}},\"id\":\"1442\",\"type\":\"CDSView\"},{\"attributes\":{\"fill_alpha\":0.2,\"fill_color\":\"orange\",\"x\":{\"field\":\"x\"},\"y1\":{\"field\":\"y1\"},\"y2\":{\"field\":\"y2\"}},\"id\":\"1594\",\"type\":\"VArea\"},{\"attributes\":{\"source\":{\"id\":\"1633\"}},\"id\":\"1637\",\"type\":\"CDSView\"},{\"attributes\":{\"source\":{\"id\":\"1443\"}},\"id\":\"1447\",\"type\":\"CDSView\"},{\"attributes\":{\"fill_alpha\":0.2,\"fill_color\":\"orange\",\"x\":{\"field\":\"x\"},\"y1\":{\"field\":\"y1\"},\"y2\":{\"field\":\"y2\"}},\"id\":\"1639\",\"type\":\"VArea\"},{\"attributes\":{},\"id\":\"1896\",\"type\":\"UnionRenderers\"},{\"attributes\":{\"data_source\":{\"id\":\"1443\"},\"glyph\":{\"id\":\"1444\"},\"hover_glyph\":null,\"muted_glyph\":null,\"nonselection_glyph\":{\"id\":\"1445\"},\"view\":{\"id\":\"1447\"}},\"id\":\"1446\",\"type\":\"GlyphRenderer\"},{\"attributes\":{\"data_source\":{\"id\":\"1588\"},\"glyph\":{\"id\":\"1589\"},\"hover_glyph\":null,\"muted_glyph\":null,\"nonselection_glyph\":{\"id\":\"1590\"},\"view\":{\"id\":\"1592\"}},\"id\":\"1591\",\"type\":\"GlyphRenderer\"},{\"attributes\":{},\"id\":\"1652\",\"type\":\"LinearScale\"},{\"attributes\":{\"fill_alpha\":0.1,\"fill_color\":\"orange\",\"x\":{\"field\":\"x\"},\"y1\":{\"field\":\"y1\"},\"y2\":{\"field\":\"y2\"}},\"id\":\"1450\",\"type\":\"VArea\"},{\"attributes\":{\"source\":{\"id\":\"1638\"}},\"id\":\"1642\",\"type\":\"CDSView\"},{\"attributes\":{\"text\":\"mutations = 6\"},\"id\":\"1644\",\"type\":\"Title\"},{\"attributes\":{\"data\":{\"x\":[6.0,6.0],\"y\":[0,0.1096297297503988]},\"selected\":{\"id\":\"1991\"},\"selection_policy\":{\"id\":\"1992\"}},\"id\":\"1443\",\"type\":\"ColumnDataSource\"},{\"attributes\":{\"data\":{\"x\":[2.0,3.0],\"y1\":[0,0],\"y2\":[0.10028335935934937,0.10028335935934937]},\"selected\":{\"id\":\"2031\"},\"selection_policy\":{\"id\":\"2032\"}},\"id\":\"1563\",\"type\":\"ColumnDataSource\"},{\"attributes\":{},\"id\":\"1646\",\"type\":\"DataRange1d\"},{\"attributes\":{\"line_color\":\"orange\",\"x\":{\"field\":\"x\"},\"y\":{\"field\":\"y\"}},\"id\":\"1454\",\"type\":\"Line\"},{\"attributes\":{},\"id\":\"2013\",\"type\":\"Selection\"},{\"attributes\":{},\"id\":\"1648\",\"type\":\"DataRange1d\"},{\"attributes\":{\"data\":{\"x\":[5.0,6.0],\"y1\":[0,0],\"y2\":[0.1096297297503988,0.1096297297503988]},\"selected\":{\"id\":\"1993\"},\"selection_policy\":{\"id\":\"1994\"}},\"id\":\"1448\",\"type\":\"ColumnDataSource\"},{\"attributes\":{\"axis_label\":\"\\u0394E [k_BT]\",\"formatter\":{\"id\":\"1838\"},\"major_label_policy\":{\"id\":\"1837\"},\"ticker\":{\"id\":\"1655\"}},\"id\":\"1654\",\"type\":\"LinearAxis\"},{\"attributes\":{\"line_color\":\"orange\",\"x\":{\"field\":\"x\"},\"y\":{\"field\":\"y\"}},\"id\":\"1414\",\"type\":\"Line\"},{\"attributes\":{},\"id\":\"1898\",\"type\":\"UnionRenderers\"},{\"attributes\":{},\"id\":\"1655\",\"type\":\"BasicTicker\"},{\"attributes\":{},\"id\":\"1929\",\"type\":\"Selection\"},{\"attributes\":{},\"id\":\"2011\",\"type\":\"Selection\"},{\"attributes\":{\"axis\":{\"id\":\"1654\"},\"ticker\":null},\"id\":\"1657\",\"type\":\"Grid\"},{\"attributes\":{},\"id\":\"1894\",\"type\":\"UnionRenderers\"},{\"attributes\":{},\"id\":\"1897\",\"type\":\"Selection\"},{\"attributes\":{\"source\":{\"id\":\"1428\"}},\"id\":\"1432\",\"type\":\"CDSView\"},{\"attributes\":{\"line_alpha\":0.1,\"line_color\":\"orange\",\"x\":{\"field\":\"x\"},\"y\":{\"field\":\"y\"}},\"id\":\"1415\",\"type\":\"Line\"},{\"attributes\":{\"fill_alpha\":0.2,\"fill_color\":\"orange\",\"x\":{\"field\":\"x\"},\"y1\":{\"field\":\"y1\"},\"y2\":{\"field\":\"y2\"}},\"id\":\"1564\",\"type\":\"VArea\"},{\"attributes\":{\"data_source\":{\"id\":\"1413\"},\"glyph\":{\"id\":\"1414\"},\"hover_glyph\":null,\"muted_glyph\":null,\"nonselection_glyph\":{\"id\":\"1415\"},\"view\":{\"id\":\"1417\"}},\"id\":\"1416\",\"type\":\"GlyphRenderer\"},{\"attributes\":{\"axis_label\":\"density\",\"formatter\":{\"id\":\"1835\"},\"major_label_policy\":{\"id\":\"1834\"},\"ticker\":{\"id\":\"1659\"}},\"id\":\"1658\",\"type\":\"LinearAxis\"},{\"attributes\":{},\"id\":\"1891\",\"type\":\"Selection\"},{\"attributes\":{\"bottom\":{\"value\":0},\"fill_alpha\":{\"value\":0.5},\"fill_color\":{\"value\":\"navy\"},\"left\":{\"field\":\"left\"},\"line_alpha\":{\"value\":0.5},\"line_color\":{\"value\":\"white\"},\"right\":{\"field\":\"right\"},\"top\":{\"field\":\"top\"}},\"id\":\"1504\",\"type\":\"Quad\"},{\"attributes\":{\"line_alpha\":0.1,\"line_color\":\"orange\",\"x\":{\"field\":\"x\"},\"y\":{\"field\":\"y\"}},\"id\":\"1685\",\"type\":\"Line\"},{\"attributes\":{},\"id\":\"1999\",\"type\":\"Selection\"},{\"attributes\":{\"axis\":{\"id\":\"1658\"},\"dimension\":1,\"ticker\":null},\"id\":\"1661\",\"type\":\"Grid\"},{\"attributes\":{},\"id\":\"2008\",\"type\":\"UnionRenderers\"},{\"attributes\":{},\"id\":\"2060\",\"type\":\"UnionRenderers\"},{\"attributes\":{},\"id\":\"1659\",\"type\":\"BasicTicker\"},{\"attributes\":{\"line_color\":\"orange\",\"x\":{\"field\":\"x\"},\"y\":{\"field\":\"y\"}},\"id\":\"1689\",\"type\":\"Line\"},{\"attributes\":{\"line_alpha\":0.1,\"line_color\":\"orange\",\"x\":{\"field\":\"x\"},\"y\":{\"field\":\"y\"}},\"id\":\"1445\",\"type\":\"Line\"},{\"attributes\":{\"source\":{\"id\":\"1563\"}},\"id\":\"1567\",\"type\":\"CDSView\"},{\"attributes\":{\"data_source\":{\"id\":\"1568\"},\"glyph\":{\"id\":\"1569\"},\"hover_glyph\":null,\"muted_glyph\":null,\"nonselection_glyph\":{\"id\":\"1570\"},\"view\":{\"id\":\"1572\"}},\"id\":\"1571\",\"type\":\"GlyphRenderer\"},{\"attributes\":{\"data\":{\"x\":[0.0,1.0],\"y1\":[0,0],\"y2\":[0.09809796312312793,0.09809796312312793]},\"selected\":{\"id\":\"2075\"},\"selection_policy\":{\"id\":\"2076\"}},\"id\":\"1693\",\"type\":\"ColumnDataSource\"},{\"attributes\":{},\"id\":\"2007\",\"type\":\"Selection\"},{\"attributes\":{\"source\":{\"id\":\"1433\"}},\"id\":\"1437\",\"type\":\"CDSView\"},{\"attributes\":{\"fill_alpha\":0.1,\"fill_color\":\"orange\",\"x\":{\"field\":\"x\"},\"y1\":{\"field\":\"y1\"},\"y2\":{\"field\":\"y2\"}},\"id\":\"1610\",\"type\":\"VArea\"},{\"attributes\":{\"line_color\":\"orange\",\"x\":{\"field\":\"x\"},\"y\":{\"field\":\"y\"}},\"id\":\"1669\",\"type\":\"Line\"},{\"attributes\":{\"data_source\":{\"id\":\"1603\"},\"glyph\":{\"id\":\"1604\"},\"hover_glyph\":null,\"muted_glyph\":null,\"nonselection_glyph\":{\"id\":\"1605\"},\"view\":{\"id\":\"1607\"}},\"id\":\"1606\",\"type\":\"GlyphRenderer\"},{\"attributes\":{\"data\":{\"x\":[6.0,6.0],\"y\":[0,0.1096297297503988]},\"selected\":{\"id\":\"1995\"},\"selection_policy\":{\"id\":\"1996\"}},\"id\":\"1453\",\"type\":\"ColumnDataSource\"},{\"attributes\":{},\"id\":\"1490\",\"type\":\"LinearScale\"},{\"attributes\":{\"data_source\":{\"id\":\"1688\"},\"glyph\":{\"id\":\"1689\"},\"hover_glyph\":null,\"muted_glyph\":null,\"nonselection_glyph\":{\"id\":\"1690\"},\"view\":{\"id\":\"1692\"}},\"id\":\"1691\",\"type\":\"GlyphRenderer\"},{\"attributes\":{\"line_alpha\":0.1,\"line_color\":\"orange\",\"x\":{\"field\":\"x\"},\"y\":{\"field\":\"y\"}},\"id\":\"1605\",\"type\":\"Line\"},{\"attributes\":{\"data\":{\"x\":[7.0,8.0],\"y1\":[0,0],\"y2\":[0.1096297297503988,0.1096297297503988]},\"selected\":{\"id\":\"2005\"},\"selection_policy\":{\"id\":\"2006\"}},\"id\":\"1478\",\"type\":\"ColumnDataSource\"},{\"attributes\":{\"source\":{\"id\":\"1598\"}},\"id\":\"1602\",\"type\":\"CDSView\"},{\"attributes\":{},\"id\":\"1930\",\"type\":\"UnionRenderers\"},{\"attributes\":{\"data_source\":{\"id\":\"1593\"},\"glyph\":{\"id\":\"1594\"},\"hover_glyph\":null,\"muted_glyph\":null,\"nonselection_glyph\":{\"id\":\"1595\"},\"view\":{\"id\":\"1597\"}},\"id\":\"1596\",\"type\":\"GlyphRenderer\"},{\"attributes\":{\"source\":{\"id\":\"1473\"}},\"id\":\"1477\",\"type\":\"CDSView\"},{\"attributes\":{\"fill_alpha\":0.2,\"fill_color\":\"orange\",\"x\":{\"field\":\"x\"},\"y1\":{\"field\":\"y1\"},\"y2\":{\"field\":\"y2\"}},\"id\":\"1694\",\"type\":\"VArea\"},{\"attributes\":{},\"id\":\"1486\",\"type\":\"DataRange1d\"},{\"attributes\":{\"source\":{\"id\":\"1613\"}},\"id\":\"1617\",\"type\":\"CDSView\"},{\"attributes\":{\"fill_alpha\":0.1,\"fill_color\":\"orange\",\"x\":{\"field\":\"x\"},\"y1\":{\"field\":\"y1\"},\"y2\":{\"field\":\"y2\"}},\"id\":\"1695\",\"type\":\"VArea\"},{\"attributes\":{\"data_source\":{\"id\":\"1613\"},\"glyph\":{\"id\":\"1614\"},\"hover_glyph\":null,\"muted_glyph\":null,\"nonselection_glyph\":{\"id\":\"1615\"},\"view\":{\"id\":\"1617\"}},\"id\":\"1616\",\"type\":\"GlyphRenderer\"},{\"attributes\":{\"fill_alpha\":0.2,\"fill_color\":\"orange\",\"x\":{\"field\":\"x\"},\"y1\":{\"field\":\"y1\"},\"y2\":{\"field\":\"y2\"}},\"id\":\"1449\",\"type\":\"VArea\"},{\"attributes\":{\"data\":{\"x\":[-1.0,0.0],\"y1\":[0,0],\"y2\":[0.09809796312312793,0.09809796312312793]},\"selected\":{\"id\":\"2069\"},\"selection_policy\":{\"id\":\"2070\"}},\"id\":\"1678\",\"type\":\"ColumnDataSource\"},{\"attributes\":{\"source\":{\"id\":\"1588\"}},\"id\":\"1592\",\"type\":\"CDSView\"},{\"attributes\":{\"source\":{\"id\":\"1628\"}},\"id\":\"1632\",\"type\":\"CDSView\"},{\"attributes\":{},\"id\":\"1915\",\"type\":\"Selection\"},{\"attributes\":{\"data_source\":{\"id\":\"1478\"},\"glyph\":{\"id\":\"1479\"},\"hover_glyph\":null,\"muted_glyph\":null,\"nonselection_glyph\":{\"id\":\"1480\"},\"view\":{\"id\":\"1482\"}},\"id\":\"1481\",\"type\":\"GlyphRenderer\"},{\"attributes\":{\"data\":{\"x\":[5.0,5.0],\"y\":[0,0.10028335935934937]},\"selected\":{\"id\":\"2045\"},\"selection_policy\":{\"id\":\"2046\"}},\"id\":\"1598\",\"type\":\"ColumnDataSource\"},{\"attributes\":{\"bottom\":{\"value\":0},\"fill_alpha\":{\"value\":0.5},\"fill_color\":{\"value\":\"navy\"},\"left\":{\"field\":\"left\"},\"line_alpha\":{\"value\":0.5},\"line_color\":{\"value\":\"white\"},\"right\":{\"field\":\"right\"},\"top\":{\"field\":\"top\"}},\"id\":\"1664\",\"type\":\"Quad\"},{\"attributes\":{\"source\":{\"id\":\"1583\"}},\"id\":\"1587\",\"type\":\"CDSView\"},{\"attributes\":{\"line_alpha\":0.1,\"line_color\":\"orange\",\"x\":{\"field\":\"x\"},\"y\":{\"field\":\"y\"}},\"id\":\"1675\",\"type\":\"Line\"},{\"attributes\":{\"data_source\":{\"id\":\"1453\"},\"glyph\":{\"id\":\"1454\"},\"hover_glyph\":null,\"muted_glyph\":null,\"nonselection_glyph\":{\"id\":\"1455\"},\"view\":{\"id\":\"1457\"}},\"id\":\"1456\",\"type\":\"GlyphRenderer\"},{\"attributes\":{\"fill_alpha\":0.1,\"fill_color\":\"orange\",\"x\":{\"field\":\"x\"},\"y1\":{\"field\":\"y1\"},\"y2\":{\"field\":\"y2\"}},\"id\":\"1595\",\"type\":\"VArea\"},{\"attributes\":{\"line_alpha\":0.1,\"line_color\":\"orange\",\"x\":{\"field\":\"x\"},\"y\":{\"field\":\"y\"}},\"id\":\"1670\",\"type\":\"Line\"},{\"attributes\":{\"line_color\":\"orange\",\"x\":{\"field\":\"x\"},\"y\":{\"field\":\"y\"}},\"id\":\"1459\",\"type\":\"Line\"},{\"attributes\":{\"line_alpha\":0.1,\"line_color\":\"orange\",\"x\":{\"field\":\"x\"},\"y\":{\"field\":\"y\"}},\"id\":\"1590\",\"type\":\"Line\"},{\"attributes\":{\"fill_alpha\":0.2,\"fill_color\":\"orange\",\"x\":{\"field\":\"x\"},\"y1\":{\"field\":\"y1\"},\"y2\":{\"field\":\"y2\"}},\"id\":\"1679\",\"type\":\"VArea\"},{\"attributes\":{\"line_alpha\":0.1,\"line_color\":\"orange\",\"x\":{\"field\":\"x\"},\"y\":{\"field\":\"y\"}},\"id\":\"1455\",\"type\":\"Line\"},{\"attributes\":{\"data\":{\"x\":[4.0,4.0],\"y\":[0,0.10028335935934937]},\"selected\":{\"id\":\"2039\"},\"selection_policy\":{\"id\":\"2040\"}},\"id\":\"1583\",\"type\":\"ColumnDataSource\"},{\"attributes\":{},\"id\":\"1998\",\"type\":\"UnionRenderers\"},{\"attributes\":{},\"id\":\"1892\",\"type\":\"UnionRenderers\"},{\"attributes\":{},\"id\":\"2010\",\"type\":\"UnionRenderers\"},{\"attributes\":{\"data\":{\"x\":[4.0,4.0],\"y\":[0,0.10028335935934937]},\"selected\":{\"id\":\"2035\"},\"selection_policy\":{\"id\":\"2036\"}},\"id\":\"1573\",\"type\":\"ColumnDataSource\"},{\"attributes\":{},\"id\":\"1817\",\"type\":\"BasicTickFormatter\"},{\"attributes\":{\"line_alpha\":0.1,\"line_color\":\"orange\",\"x\":{\"field\":\"x\"},\"y\":{\"field\":\"y\"}},\"id\":\"1630\",\"type\":\"Line\"},{\"attributes\":{\"source\":{\"id\":\"1453\"}},\"id\":\"1457\",\"type\":\"CDSView\"},{\"attributes\":{\"line_alpha\":0.1,\"line_color\":\"orange\",\"x\":{\"field\":\"x\"},\"y\":{\"field\":\"y\"}},\"id\":\"1570\",\"type\":\"Line\"},{\"attributes\":{\"fill_alpha\":0.1,\"fill_color\":\"orange\",\"x\":{\"field\":\"x\"},\"y1\":{\"field\":\"y1\"},\"y2\":{\"field\":\"y2\"}},\"id\":\"1465\",\"type\":\"VArea\"},{\"attributes\":{\"source\":{\"id\":\"1568\"}},\"id\":\"1572\",\"type\":\"CDSView\"},{\"attributes\":{\"source\":{\"id\":\"1668\"}},\"id\":\"1672\",\"type\":\"CDSView\"},{\"attributes\":{\"fill_alpha\":0.1,\"fill_color\":\"orange\",\"x\":{\"field\":\"x\"},\"y1\":{\"field\":\"y1\"},\"y2\":{\"field\":\"y2\"}},\"id\":\"1580\",\"type\":\"VArea\"},{\"attributes\":{\"line_alpha\":0.1,\"line_color\":\"orange\",\"x\":{\"field\":\"x\"},\"y\":{\"field\":\"y\"}},\"id\":\"1430\",\"type\":\"Line\"},{\"attributes\":{\"data\":{\"x\":[6.0,6.0],\"y\":[0,0.10028335935934937]},\"selected\":{\"id\":\"2051\"},\"selection_policy\":{\"id\":\"2052\"}},\"id\":\"1613\",\"type\":\"ColumnDataSource\"},{\"attributes\":{\"data\":{\"left\":{\"__ndarray__\":\"4Mn6D+HG0T8+zvuRd/3rP8Yb/U2/i/c/Nih+aWGMAECKwv0r41IFQN5cfe5kGQpAMff8sObfDkDCSL45NNMRQOwV/hp1NhRAFuM9/LWZFkBAsH3d9vwYQGl9vb43YBtAk0r9n3jDHUDei57AXBMgQHNyPjH9RCFACFneoZ12IkCdP34SPqgjQDImHoPe2SRAxwy+834LJkBc811kHz0nQPHZ/dS/bihAhcCdRWCgKUAapz22ANIqQK+N3SahAyxARHR9l0E1LUDZWh0I4mYuQG5BvXiCmC9AApSudBFlMEBMh/6s4f0wQJZ6TuWxljFA4G2eHYIvMkAsYe5VUsgyQHZUPo4iYTNAwEeOxvL5M0AKO97+wpI0QFQuLjeTKzVAoCF+b2PENUDqFM6nM102QDQIHuAD9jZAfvttGNSON0DK7r1QpCc4QBTiDYl0wDhAXtVdwURZOUCoyK35FPI5QPK7/THlijpAPq9NarUjO0CIop2ihbw7QNKV7dpVVTxAHIk9EybuPEBmfI1L9oY9QA==\",\"dtype\":\"float64\",\"order\":\"little\",\"shape\":[50]},\"right\":{\"__ndarray__\":\"Ps77kXf96z/GG/1Nv4v3PzYofmlhjABAisL9K+NSBUDeXH3uZBkKQDH3/LDm3w5Awki+OTTTEUDsFf4adTYUQBbjPfy1mRZAQLB93fb8GEBpfb2+N2AbQJNK/Z94wx1A3ouewFwTIEBzcj4x/UQhQAhZ3qGddiJAnT9+Ej6oI0AyJh6D3tkkQMcMvvN+CyZAXPNdZB89J0Dx2f3Uv24oQIXAnUVgoClAGqc9tgDSKkCvjd0moQMsQER0fZdBNS1A2VodCOJmLkBuQb14gpgvQAKUrnQRZTBATIf+rOH9MECWek7lsZYxQOBtnh2CLzJALGHuVVLIMkB2VD6OImEzQMBHjsby+TNACjve/sKSNEBULi43kys1QKAhfm9jxDVA6hTOpzNdNkA0CB7gA/Y2QH77bRjUjjdAyu69UKQnOEAU4g2JdMA4QF7VXcFEWTlAqMit+RTyOUDyu/0x5Yo6QD6vTWq1IztAiKKdooW8O0DSle3aVVU8QByJPRMm7jxAZnyNS/aGPUCyb92Dxh8+QA==\",\"dtype\":\"float64\",\"order\":\"little\",\"shape\":[50]},\"top\":{\"__ndarray__\":\"y5OVxzJhGj/CgS4+u8YeP1Phom4MFTc/wgriAveTTD+s0tuHROZgP/x4HRoQEWs/ewwy1M5Jdz83gnN/3PWCP1v9Jazl64w/3eioAgFElD+LjYsQoDqZP2DZOTNNuqA/fNvsq++bpD/i4E56lmeoP08bI7VRz6w/OOMcOp8hsT8nL++M/sqyP03lz7JBA7U/UcA1h7RJtj8ZrAYIPSK3P8tYQ55G9bc/OgVrt/IcuT84h4FZDRS4P40Zr7PH77c/8IB3onrttj/HJKMU2Qq0P3ghCTwyzLM/NXyTwgQmsT/tEMK/zmOuPzgBKfZfg6s/QTQ83kfrpj+iupRB9XujP9iBLj67xp4/1tmc2hfmmT9sumpHOiWUP8cRhe8gl5A/61/1PcV2hj/4K1W0V4yCP++QOmakJHk/Ash6ksF6cj/OH6Tt/GppPzkOgqWm/2E/wauyE8d0WD9czzvllHpLP9yHKUL5bkU/5i6wFebIMz/gHEmMbi4oP+m3Y9ohliE/5KX8UKr7FT+ut2PaIZYBPw==\",\"dtype\":\"float64\",\"order\":\"little\",\"shape\":[50]}},\"selected\":{\"id\":\"2063\"},\"selection_policy\":{\"id\":\"2064\"}},\"id\":\"1663\",\"type\":\"ColumnDataSource\"},{\"attributes\":{\"data_source\":{\"id\":\"1668\"},\"glyph\":{\"id\":\"1669\"},\"hover_glyph\":null,\"muted_glyph\":null,\"nonselection_glyph\":{\"id\":\"1670\"},\"view\":{\"id\":\"1672\"}},\"id\":\"1671\",\"type\":\"GlyphRenderer\"},{\"attributes\":{\"line_color\":\"orange\",\"x\":{\"field\":\"x\"},\"y\":{\"field\":\"y\"}},\"id\":\"1474\",\"type\":\"Line\"},{\"attributes\":{\"source\":{\"id\":\"1603\"}},\"id\":\"1607\",\"type\":\"CDSView\"},{\"attributes\":{},\"id\":\"1488\",\"type\":\"DataRange1d\"},{\"attributes\":{\"line_color\":\"orange\",\"x\":{\"field\":\"x\"},\"y\":{\"field\":\"y\"}},\"id\":\"1614\",\"type\":\"Line\"},{\"attributes\":{\"line_alpha\":0.1,\"line_color\":\"orange\",\"x\":{\"field\":\"x\"},\"y\":{\"field\":\"y\"}},\"id\":\"1620\",\"type\":\"Line\"},{\"attributes\":{\"data_source\":{\"id\":\"1628\"},\"glyph\":{\"id\":\"1629\"},\"hover_glyph\":null,\"muted_glyph\":null,\"nonselection_glyph\":{\"id\":\"1630\"},\"view\":{\"id\":\"1632\"}},\"id\":\"1631\",\"type\":\"GlyphRenderer\"},{\"attributes\":{\"data\":{\"x\":[4.0,4.0],\"y\":[0,0.1096297297503988]},\"selected\":{\"id\":\"1979\"},\"selection_policy\":{\"id\":\"1980\"}},\"id\":\"1413\",\"type\":\"ColumnDataSource\"},{\"attributes\":{\"data\":{\"x\":[6.0,6.0],\"y\":[0,0.10028335935934937]},\"selected\":{\"id\":\"2047\"},\"selection_policy\":{\"id\":\"2048\"}},\"id\":\"1603\",\"type\":\"ColumnDataSource\"},{\"attributes\":{\"data_source\":{\"id\":\"1573\"},\"glyph\":{\"id\":\"1574\"},\"hover_glyph\":null,\"muted_glyph\":null,\"nonselection_glyph\":{\"id\":\"1575\"},\"view\":{\"id\":\"1577\"}},\"id\":\"1576\",\"type\":\"GlyphRenderer\"},{\"attributes\":{\"data_source\":{\"id\":\"1638\"},\"glyph\":{\"id\":\"1639\"},\"hover_glyph\":null,\"muted_glyph\":null,\"nonselection_glyph\":{\"id\":\"1640\"},\"view\":{\"id\":\"1642\"}},\"id\":\"1641\",\"type\":\"GlyphRenderer\"},{\"attributes\":{},\"id\":\"1928\",\"type\":\"UnionRenderers\"},{\"attributes\":{\"line_color\":\"orange\",\"x\":{\"field\":\"x\"},\"y\":{\"field\":\"y\"}},\"id\":\"1574\",\"type\":\"Line\"},{\"attributes\":{\"source\":{\"id\":\"1678\"}},\"id\":\"1682\",\"type\":\"CDSView\"},{\"attributes\":{\"data_source\":{\"id\":\"1468\"},\"glyph\":{\"id\":\"1469\"},\"hover_glyph\":null,\"muted_glyph\":null,\"nonselection_glyph\":{\"id\":\"1470\"},\"view\":{\"id\":\"1472\"}},\"id\":\"1471\",\"type\":\"GlyphRenderer\"},{\"attributes\":{\"line_alpha\":0.1,\"line_color\":\"orange\",\"x\":{\"field\":\"x\"},\"y\":{\"field\":\"y\"}},\"id\":\"1575\",\"type\":\"Line\"},{\"attributes\":{\"source\":{\"id\":\"1618\"}},\"id\":\"1622\",\"type\":\"CDSView\"},{\"attributes\":{\"line_alpha\":0.1,\"line_color\":\"orange\",\"x\":{\"field\":\"x\"},\"y\":{\"field\":\"y\"}},\"id\":\"1470\",\"type\":\"Line\"},{\"attributes\":{\"line_color\":\"orange\",\"x\":{\"field\":\"x\"},\"y\":{\"field\":\"y\"}},\"id\":\"1584\",\"type\":\"Line\"},{\"attributes\":{\"line_color\":\"orange\",\"x\":{\"field\":\"x\"},\"y\":{\"field\":\"y\"}},\"id\":\"1634\",\"type\":\"Line\"},{\"attributes\":{\"line_color\":\"orange\",\"x\":{\"field\":\"x\"},\"y\":{\"field\":\"y\"}},\"id\":\"1439\",\"type\":\"Line\"},{\"attributes\":{\"line_alpha\":0.1,\"line_color\":\"orange\",\"x\":{\"field\":\"x\"},\"y\":{\"field\":\"y\"}},\"id\":\"1615\",\"type\":\"Line\"},{\"attributes\":{\"data_source\":{\"id\":\"1673\"},\"glyph\":{\"id\":\"1674\"},\"hover_glyph\":null,\"muted_glyph\":null,\"nonselection_glyph\":{\"id\":\"1675\"},\"view\":{\"id\":\"1677\"}},\"id\":\"1676\",\"type\":\"GlyphRenderer\"},{\"attributes\":{\"source\":{\"id\":\"1413\"}},\"id\":\"1417\",\"type\":\"CDSView\"},{\"attributes\":{\"source\":{\"id\":\"1573\"}},\"id\":\"1577\",\"type\":\"CDSView\"},{\"attributes\":{\"data\":{\"x\":[5.0,5.0],\"y\":[0,0.10028335935934937]},\"selected\":{\"id\":\"2041\"},\"selection_policy\":{\"id\":\"2042\"}},\"id\":\"1588\",\"type\":\"ColumnDataSource\"},{\"attributes\":{\"data\":{\"x\":[0.0,0.0],\"y\":[0,0.09809796312312793]},\"selected\":{\"id\":\"2067\"},\"selection_policy\":{\"id\":\"2068\"}},\"id\":\"1673\",\"type\":\"ColumnDataSource\"},{\"attributes\":{},\"id\":\"2017\",\"type\":\"Selection\"},{\"attributes\":{\"data_source\":{\"id\":\"1693\"},\"glyph\":{\"id\":\"1694\"},\"hover_glyph\":null,\"muted_glyph\":null,\"nonselection_glyph\":{\"id\":\"1695\"},\"view\":{\"id\":\"1697\"}},\"id\":\"1696\",\"type\":\"GlyphRenderer\"},{\"attributes\":{\"fill_alpha\":0.2,\"fill_color\":\"orange\",\"x\":{\"field\":\"x\"},\"y1\":{\"field\":\"y1\"},\"y2\":{\"field\":\"y2\"}},\"id\":\"1609\",\"type\":\"VArea\"},{\"attributes\":{\"data_source\":{\"id\":\"1683\"},\"glyph\":{\"id\":\"1684\"},\"hover_glyph\":null,\"muted_glyph\":null,\"nonselection_glyph\":{\"id\":\"1685\"},\"view\":{\"id\":\"1687\"}},\"id\":\"1686\",\"type\":\"GlyphRenderer\"},{\"attributes\":{},\"id\":\"1492\",\"type\":\"LinearScale\"},{\"attributes\":{\"data_source\":{\"id\":\"1678\"},\"glyph\":{\"id\":\"1679\"},\"hover_glyph\":null,\"muted_glyph\":null,\"nonselection_glyph\":{\"id\":\"1680\"},\"view\":{\"id\":\"1682\"}},\"id\":\"1681\",\"type\":\"GlyphRenderer\"},{\"attributes\":{\"data\":{\"x\":[5.0,6.0],\"y1\":[0,0],\"y2\":[0.10028335935934937,0.10028335935934937]},\"selected\":{\"id\":\"2049\"},\"selection_policy\":{\"id\":\"2050\"}},\"id\":\"1608\",\"type\":\"ColumnDataSource\"},{\"attributes\":{\"source\":{\"id\":\"1478\"}},\"id\":\"1482\",\"type\":\"CDSView\"},{\"attributes\":{\"source\":{\"id\":\"1608\"}},\"id\":\"1612\",\"type\":\"CDSView\"},{\"attributes\":{\"bottom\":{\"value\":0},\"fill_alpha\":{\"value\":0.1},\"fill_color\":{\"value\":\"navy\"},\"left\":{\"field\":\"left\"},\"line_alpha\":{\"value\":0.1},\"line_color\":{\"value\":\"white\"},\"right\":{\"field\":\"right\"},\"top\":{\"field\":\"top\"}},\"id\":\"1665\",\"type\":\"Quad\"},{\"attributes\":{\"data_source\":{\"id\":\"1608\"},\"glyph\":{\"id\":\"1609\"},\"hover_glyph\":null,\"muted_glyph\":null,\"nonselection_glyph\":{\"id\":\"1610\"},\"view\":{\"id\":\"1612\"}},\"id\":\"1611\",\"type\":\"GlyphRenderer\"},{\"attributes\":{\"fill_alpha\":0.2,\"fill_color\":\"orange\",\"x\":{\"field\":\"x\"},\"y1\":{\"field\":\"y1\"},\"y2\":{\"field\":\"y2\"}},\"id\":\"1479\",\"type\":\"VArea\"},{\"attributes\":{\"fill_alpha\":0.1,\"fill_color\":\"orange\",\"x\":{\"field\":\"x\"},\"y1\":{\"field\":\"y1\"},\"y2\":{\"field\":\"y2\"}},\"id\":\"1625\",\"type\":\"VArea\"},{\"attributes\":{\"text\":\"mutations = 5\"},\"id\":\"1484\",\"type\":\"Title\"},{\"attributes\":{\"data\":{\"x\":[3.0,4.0],\"y1\":[0,0],\"y2\":[0.10028335935934937,0.10028335935934937]},\"selected\":{\"id\":\"2037\"},\"selection_policy\":{\"id\":\"2038\"}},\"id\":\"1578\",\"type\":\"ColumnDataSource\"},{\"attributes\":{\"line_color\":\"orange\",\"x\":{\"field\":\"x\"},\"y\":{\"field\":\"y\"}},\"id\":\"1674\",\"type\":\"Line\"},{\"attributes\":{\"data_source\":{\"id\":\"1458\"},\"glyph\":{\"id\":\"1459\"},\"hover_glyph\":null,\"muted_glyph\":null,\"nonselection_glyph\":{\"id\":\"1460\"},\"view\":{\"id\":\"1462\"}},\"id\":\"1461\",\"type\":\"GlyphRenderer\"},{\"attributes\":{\"line_color\":\"orange\",\"x\":{\"field\":\"x\"},\"y\":{\"field\":\"y\"}},\"id\":\"1599\",\"type\":\"Line\"},{\"attributes\":{},\"id\":\"1895\",\"type\":\"Selection\"},{\"attributes\":{\"data\":{\"x\":[7.0,7.0],\"y\":[0,0.1096297297503988]},\"selected\":{\"id\":\"1997\"},\"selection_policy\":{\"id\":\"1998\"}},\"id\":\"1458\",\"type\":\"ColumnDataSource\"},{\"attributes\":{\"fill_alpha\":0.2,\"fill_color\":\"orange\",\"x\":{\"field\":\"x\"},\"y1\":{\"field\":\"y1\"},\"y2\":{\"field\":\"y2\"}},\"id\":\"1579\",\"type\":\"VArea\"},{\"attributes\":{},\"id\":\"2014\",\"type\":\"UnionRenderers\"},{\"attributes\":{\"data\":{\"x\":[7.0,7.0],\"y\":[0,0.1096297297503988]},\"selected\":{\"id\":\"2001\"},\"selection_policy\":{\"id\":\"2002\"}},\"id\":\"1468\",\"type\":\"ColumnDataSource\"},{\"attributes\":{\"data\":{\"x\":[4.0,5.0],\"y1\":[0,0],\"y2\":[0.10028335935934937,0.10028335935934937]},\"selected\":{\"id\":\"2043\"},\"selection_policy\":{\"id\":\"2044\"}},\"id\":\"1593\",\"type\":\"ColumnDataSource\"},{\"attributes\":{\"fill_alpha\":0.1,\"fill_color\":\"orange\",\"x\":{\"field\":\"x\"},\"y1\":{\"field\":\"y1\"},\"y2\":{\"field\":\"y2\"}},\"id\":\"1680\",\"type\":\"VArea\"},{\"attributes\":{},\"id\":\"1816\",\"type\":\"AllLabels\"},{\"attributes\":{\"line_alpha\":0.1,\"line_color\":\"orange\",\"x\":{\"field\":\"x\"},\"y\":{\"field\":\"y\"}},\"id\":\"1460\",\"type\":\"Line\"},{\"attributes\":{\"data\":{\"x\":[7.0,7.0],\"y\":[0,0.10028335935934937]},\"selected\":{\"id\":\"2057\"},\"selection_policy\":{\"id\":\"2058\"}},\"id\":\"1628\",\"type\":\"ColumnDataSource\"},{\"attributes\":{\"fill_alpha\":0.1,\"fill_color\":\"orange\",\"x\":{\"field\":\"x\"},\"y1\":{\"field\":\"y1\"},\"y2\":{\"field\":\"y2\"}},\"id\":\"1480\",\"type\":\"VArea\"},{\"attributes\":{\"line_color\":\"orange\",\"x\":{\"field\":\"x\"},\"y\":{\"field\":\"y\"}},\"id\":\"1589\",\"type\":\"Line\"},{\"attributes\":{\"line_color\":\"orange\",\"x\":{\"field\":\"x\"},\"y\":{\"field\":\"y\"}},\"id\":\"1629\",\"type\":\"Line\"},{\"attributes\":{\"source\":{\"id\":\"1458\"}},\"id\":\"1462\",\"type\":\"CDSView\"},{\"attributes\":{\"source\":{\"id\":\"1578\"}},\"id\":\"1582\",\"type\":\"CDSView\"},{\"attributes\":{\"data\":{\"x\":[6.0,7.0],\"y1\":[0,0],\"y2\":[0.10028335935934937,0.10028335935934937]},\"selected\":{\"id\":\"2055\"},\"selection_policy\":{\"id\":\"2056\"}},\"id\":\"1623\",\"type\":\"ColumnDataSource\"},{\"attributes\":{\"data_source\":{\"id\":\"1583\"},\"glyph\":{\"id\":\"1584\"},\"hover_glyph\":null,\"muted_glyph\":null,\"nonselection_glyph\":{\"id\":\"1585\"},\"view\":{\"id\":\"1587\"}},\"id\":\"1586\",\"type\":\"GlyphRenderer\"},{\"attributes\":{\"fill_alpha\":0.2,\"fill_color\":\"orange\",\"x\":{\"field\":\"x\"},\"y1\":{\"field\":\"y1\"},\"y2\":{\"field\":\"y2\"}},\"id\":\"1464\",\"type\":\"VArea\"},{\"attributes\":{\"fill_alpha\":0.2,\"fill_color\":\"orange\",\"x\":{\"field\":\"x\"},\"y1\":{\"field\":\"y1\"},\"y2\":{\"field\":\"y2\"}},\"id\":\"1624\",\"type\":\"VArea\"},{\"attributes\":{\"source\":{\"id\":\"1463\"}},\"id\":\"1467\",\"type\":\"CDSView\"},{\"attributes\":{\"line_alpha\":0.1,\"line_color\":\"orange\",\"x\":{\"field\":\"x\"},\"y\":{\"field\":\"y\"}},\"id\":\"1585\",\"type\":\"Line\"},{\"attributes\":{},\"id\":\"1893\",\"type\":\"Selection\"},{\"attributes\":{\"line_color\":\"orange\",\"x\":{\"field\":\"x\"},\"y\":{\"field\":\"y\"}},\"id\":\"1469\",\"type\":\"Line\"},{\"attributes\":{\"source\":{\"id\":\"1623\"}},\"id\":\"1627\",\"type\":\"CDSView\"},{\"attributes\":{},\"id\":\"1917\",\"type\":\"Selection\"},{\"attributes\":{\"data_source\":{\"id\":\"1663\"},\"glyph\":{\"id\":\"1664\"},\"hover_glyph\":null,\"muted_glyph\":null,\"nonselection_glyph\":{\"id\":\"1665\"},\"view\":{\"id\":\"1667\"}},\"id\":\"1666\",\"type\":\"GlyphRenderer\"},{\"attributes\":{\"data\":{\"x\":[6.0,7.0],\"y1\":[0,0],\"y2\":[0.1096297297503988,0.1096297297503988]},\"selected\":{\"id\":\"1999\"},\"selection_policy\":{\"id\":\"2000\"}},\"id\":\"1463\",\"type\":\"ColumnDataSource\"},{\"attributes\":{},\"id\":\"1849\",\"type\":\"Selection\"},{\"attributes\":{},\"id\":\"1919\",\"type\":\"Selection\"},{\"attributes\":{},\"id\":\"2009\",\"type\":\"Selection\"},{\"attributes\":{\"line_color\":\"orange\",\"x\":{\"field\":\"x\"},\"y\":{\"field\":\"y\"}},\"id\":\"1269\",\"type\":\"Line\"},{\"attributes\":{},\"id\":\"1907\",\"type\":\"Selection\"},{\"attributes\":{\"data_source\":{\"id\":\"1273\"},\"glyph\":{\"id\":\"1274\"},\"hover_glyph\":null,\"muted_glyph\":null,\"nonselection_glyph\":{\"id\":\"1275\"},\"view\":{\"id\":\"1277\"}},\"id\":\"1276\",\"type\":\"GlyphRenderer\"},{\"attributes\":{\"line_alpha\":0.1,\"line_color\":\"orange\",\"x\":{\"field\":\"x\"},\"y\":{\"field\":\"y\"}},\"id\":\"1255\",\"type\":\"Line\"},{\"attributes\":{\"source\":{\"id\":\"1773\"}},\"id\":\"1777\",\"type\":\"CDSView\"},{\"attributes\":{},\"id\":\"2004\",\"type\":\"UnionRenderers\"},{\"attributes\":{\"data\":{\"x\":[6.0,6.0],\"y\":[0,0.1204523954086467]},\"selected\":{\"id\":\"1935\"},\"selection_policy\":{\"id\":\"1936\"}},\"id\":\"1283\",\"type\":\"ColumnDataSource\"},{\"attributes\":{\"fill_alpha\":0.1,\"fill_color\":\"orange\",\"x\":{\"field\":\"x\"},\"y1\":{\"field\":\"y1\"},\"y2\":{\"field\":\"y2\"}},\"id\":\"1770\",\"type\":\"VArea\"},{\"attributes\":{},\"id\":\"1902\",\"type\":\"UnionRenderers\"},{\"attributes\":{\"data_source\":{\"id\":\"1763\"},\"glyph\":{\"id\":\"1764\"},\"hover_glyph\":null,\"muted_glyph\":null,\"nonselection_glyph\":{\"id\":\"1765\"},\"view\":{\"id\":\"1767\"}},\"id\":\"1766\",\"type\":\"GlyphRenderer\"},{\"attributes\":{\"data\":{\"x\":[5.0,5.0],\"y\":[0,0.1204523954086467]},\"selected\":{\"id\":\"1929\"},\"selection_policy\":{\"id\":\"1930\"}},\"id\":\"1268\",\"type\":\"ColumnDataSource\"},{\"attributes\":{},\"id\":\"2082\",\"type\":\"UnionRenderers\"},{\"attributes\":{\"source\":{\"id\":\"1253\"}},\"id\":\"1257\",\"type\":\"CDSView\"},{\"attributes\":{\"data\":{\"x\":[6.0,6.0],\"y\":[0,0.09809796312312793]},\"selected\":{\"id\":\"2103\"},\"selection_policy\":{\"id\":\"2104\"}},\"id\":\"1763\",\"type\":\"ColumnDataSource\"},{\"attributes\":{\"source\":{\"id\":\"1273\"}},\"id\":\"1277\",\"type\":\"CDSView\"},{\"attributes\":{\"data\":{\"x\":[6.0,6.0],\"y\":[0,0.09809796312312793]},\"selected\":{\"id\":\"2107\"},\"selection_policy\":{\"id\":\"2108\"}},\"id\":\"1773\",\"type\":\"ColumnDataSource\"},{\"attributes\":{\"data_source\":{\"id\":\"1278\"},\"glyph\":{\"id\":\"1279\"},\"hover_glyph\":null,\"muted_glyph\":null,\"nonselection_glyph\":{\"id\":\"1280\"},\"view\":{\"id\":\"1282\"}},\"id\":\"1281\",\"type\":\"GlyphRenderer\"},{\"attributes\":{\"line_alpha\":0.1,\"line_color\":\"orange\",\"x\":{\"field\":\"x\"},\"y\":{\"field\":\"y\"}},\"id\":\"1765\",\"type\":\"Line\"},{\"attributes\":{},\"id\":\"1905\",\"type\":\"Selection\"},{\"attributes\":{\"data_source\":{\"id\":\"1268\"},\"glyph\":{\"id\":\"1269\"},\"hover_glyph\":null,\"muted_glyph\":null,\"nonselection_glyph\":{\"id\":\"1270\"},\"view\":{\"id\":\"1272\"}},\"id\":\"1271\",\"type\":\"GlyphRenderer\"},{\"attributes\":{\"line_color\":\"orange\",\"x\":{\"field\":\"x\"},\"y\":{\"field\":\"y\"}},\"id\":\"1774\",\"type\":\"Line\"},{\"attributes\":{\"fill_alpha\":0.1,\"fill_color\":\"orange\",\"x\":{\"field\":\"x\"},\"y1\":{\"field\":\"y1\"},\"y2\":{\"field\":\"y2\"}},\"id\":\"1275\",\"type\":\"VArea\"},{\"attributes\":{\"source\":{\"id\":\"1763\"}},\"id\":\"1767\",\"type\":\"CDSView\"},{\"attributes\":{\"data_source\":{\"id\":\"1263\"},\"glyph\":{\"id\":\"1264\"},\"hover_glyph\":null,\"muted_glyph\":null,\"nonselection_glyph\":{\"id\":\"1265\"},\"view\":{\"id\":\"1267\"}},\"id\":\"1266\",\"type\":\"GlyphRenderer\"},{\"attributes\":{},\"id\":\"1899\",\"type\":\"Selection\"},{\"attributes\":{\"data\":{\"x\":[5.0,6.0],\"y1\":[0,0],\"y2\":[0.09809796312312793,0.09809796312312793]},\"selected\":{\"id\":\"2105\"},\"selection_policy\":{\"id\":\"2106\"}},\"id\":\"1768\",\"type\":\"ColumnDataSource\"},{\"attributes\":{},\"id\":\"1904\",\"type\":\"UnionRenderers\"},{\"attributes\":{\"data_source\":{\"id\":\"1788\"},\"glyph\":{\"id\":\"1789\"},\"hover_glyph\":null,\"muted_glyph\":null,\"nonselection_glyph\":{\"id\":\"1790\"},\"view\":{\"id\":\"1792\"}},\"id\":\"1791\",\"type\":\"GlyphRenderer\"},{\"attributes\":{},\"id\":\"1900\",\"type\":\"UnionRenderers\"},{\"attributes\":{\"fill_alpha\":0.2,\"fill_color\":\"orange\",\"x\":{\"field\":\"x\"},\"y1\":{\"field\":\"y1\"},\"y2\":{\"field\":\"y2\"}},\"id\":\"1274\",\"type\":\"VArea\"},{\"attributes\":{},\"id\":\"2090\",\"type\":\"UnionRenderers\"},{\"attributes\":{\"source\":{\"id\":\"1278\"}},\"id\":\"1282\",\"type\":\"CDSView\"},{\"attributes\":{\"fill_alpha\":0.1,\"fill_color\":\"orange\",\"x\":{\"field\":\"x\"},\"y1\":{\"field\":\"y1\"},\"y2\":{\"field\":\"y2\"}},\"id\":\"1800\",\"type\":\"VArea\"},{\"attributes\":{},\"id\":\"2089\",\"type\":\"Selection\"},{\"attributes\":{\"fill_alpha\":0.2,\"fill_color\":\"orange\",\"x\":{\"field\":\"x\"},\"y1\":{\"field\":\"y1\"},\"y2\":{\"field\":\"y2\"}},\"id\":\"1769\",\"type\":\"VArea\"},{\"attributes\":{\"line_alpha\":0.1,\"line_color\":\"orange\",\"x\":{\"field\":\"x\"},\"y\":{\"field\":\"y\"}},\"id\":\"1790\",\"type\":\"Line\"},{\"attributes\":{},\"id\":\"2001\",\"type\":\"Selection\"},{\"attributes\":{\"line_color\":\"orange\",\"x\":{\"field\":\"x\"},\"y\":{\"field\":\"y\"}},\"id\":\"1789\",\"type\":\"Line\"},{\"attributes\":{},\"id\":\"2003\",\"type\":\"Selection\"},{\"attributes\":{},\"id\":\"2083\",\"type\":\"Selection\"},{\"attributes\":{\"source\":{\"id\":\"1768\"}},\"id\":\"1772\",\"type\":\"CDSView\"},{\"attributes\":{\"data_source\":{\"id\":\"1773\"},\"glyph\":{\"id\":\"1774\"},\"hover_glyph\":null,\"muted_glyph\":null,\"nonselection_glyph\":{\"id\":\"1775\"},\"view\":{\"id\":\"1777\"}},\"id\":\"1776\",\"type\":\"GlyphRenderer\"},{\"attributes\":{\"source\":{\"id\":\"1788\"}},\"id\":\"1792\",\"type\":\"CDSView\"},{\"attributes\":{},\"id\":\"1908\",\"type\":\"UnionRenderers\"},{\"attributes\":{\"fill_alpha\":0.2,\"fill_color\":\"orange\",\"x\":{\"field\":\"x\"},\"y1\":{\"field\":\"y1\"},\"y2\":{\"field\":\"y2\"}},\"id\":\"1784\",\"type\":\"VArea\"},{\"attributes\":{\"data_source\":{\"id\":\"1288\"},\"glyph\":{\"id\":\"1289\"},\"hover_glyph\":null,\"muted_glyph\":null,\"nonselection_glyph\":{\"id\":\"1290\"},\"view\":{\"id\":\"1292\"}},\"id\":\"1291\",\"type\":\"GlyphRenderer\"},{\"attributes\":{\"data\":{\"x\":[6.0,7.0],\"y1\":[0,0],\"y2\":[0.09809796312312793,0.09809796312312793]},\"selected\":{\"id\":\"2111\"},\"selection_policy\":{\"id\":\"2112\"}},\"id\":\"1783\",\"type\":\"ColumnDataSource\"},{\"attributes\":{\"data_source\":{\"id\":\"1798\"},\"glyph\":{\"id\":\"1799\"},\"hover_glyph\":null,\"muted_glyph\":null,\"nonselection_glyph\":{\"id\":\"1800\"},\"view\":{\"id\":\"1802\"}},\"id\":\"1801\",\"type\":\"GlyphRenderer\"},{\"attributes\":{\"line_alpha\":0.1,\"line_color\":\"orange\",\"x\":{\"field\":\"x\"},\"y\":{\"field\":\"y\"}},\"id\":\"1190\",\"type\":\"Line\"},{\"attributes\":{},\"id\":\"1909\",\"type\":\"Selection\"},{\"attributes\":{\"line_color\":\"orange\",\"x\":{\"field\":\"x\"},\"y\":{\"field\":\"y\"}},\"id\":\"1779\",\"type\":\"Line\"},{\"attributes\":{\"line_alpha\":0.1,\"line_color\":\"orange\",\"x\":{\"field\":\"x\"},\"y\":{\"field\":\"y\"}},\"id\":\"1775\",\"type\":\"Line\"},{\"attributes\":{\"data\":{\"x\":[4.0,4.0],\"y\":[0,0.1204523954086467]},\"selected\":{\"id\":\"1927\"},\"selection_policy\":{\"id\":\"1928\"}},\"id\":\"1263\",\"type\":\"ColumnDataSource\"},{\"attributes\":{\"fill_alpha\":0.1,\"fill_color\":\"orange\",\"x\":{\"field\":\"x\"},\"y1\":{\"field\":\"y1\"},\"y2\":{\"field\":\"y2\"}},\"id\":\"1785\",\"type\":\"VArea\"},{\"attributes\":{\"data_source\":{\"id\":\"1778\"},\"glyph\":{\"id\":\"1779\"},\"hover_glyph\":null,\"muted_glyph\":null,\"nonselection_glyph\":{\"id\":\"1780\"},\"view\":{\"id\":\"1782\"}},\"id\":\"1781\",\"type\":\"GlyphRenderer\"},{\"attributes\":{\"data\":{\"x\":[3.0,4.0],\"y1\":[0,0],\"y2\":[0.1204523954086467,0.1204523954086467]},\"selected\":{\"id\":\"1925\"},\"selection_policy\":{\"id\":\"1926\"}},\"id\":\"1258\",\"type\":\"ColumnDataSource\"},{\"attributes\":{},\"id\":\"1906\",\"type\":\"UnionRenderers\"},{\"attributes\":{\"fill_alpha\":0.1,\"fill_color\":\"orange\",\"x\":{\"field\":\"x\"},\"y1\":{\"field\":\"y1\"},\"y2\":{\"field\":\"y2\"}},\"id\":\"1260\",\"type\":\"VArea\"},{\"attributes\":{\"data\":{\"x\":[7.0,7.0],\"y\":[0,0.09809796312312793]},\"selected\":{\"id\":\"2109\"},\"selection_policy\":{\"id\":\"2110\"}},\"id\":\"1778\",\"type\":\"ColumnDataSource\"},{\"attributes\":{},\"id\":\"2088\",\"type\":\"UnionRenderers\"},{\"attributes\":{\"line_alpha\":0.1,\"line_color\":\"orange\",\"x\":{\"field\":\"x\"},\"y\":{\"field\":\"y\"}},\"id\":\"1780\",\"type\":\"Line\"},{\"attributes\":{\"data\":{\"x\":[7.0,7.0],\"y\":[0,0.09809796312312793]},\"selected\":{\"id\":\"2113\"},\"selection_policy\":{\"id\":\"2114\"}},\"id\":\"1788\",\"type\":\"ColumnDataSource\"},{\"attributes\":{\"line_alpha\":0.1,\"line_color\":\"orange\",\"x\":{\"field\":\"x\"},\"y\":{\"field\":\"y\"}},\"id\":\"1280\",\"type\":\"Line\"},{\"attributes\":{\"data_source\":{\"id\":\"1793\"},\"glyph\":{\"id\":\"1794\"},\"hover_glyph\":null,\"muted_glyph\":null,\"nonselection_glyph\":{\"id\":\"1795\"},\"view\":{\"id\":\"1797\"}},\"id\":\"1796\",\"type\":\"GlyphRenderer\"},{\"attributes\":{\"source\":{\"id\":\"1263\"}},\"id\":\"1267\",\"type\":\"CDSView\"},{\"attributes\":{\"data_source\":{\"id\":\"1283\"},\"glyph\":{\"id\":\"1284\"},\"hover_glyph\":null,\"muted_glyph\":null,\"nonselection_glyph\":{\"id\":\"1285\"},\"view\":{\"id\":\"1287\"}},\"id\":\"1286\",\"type\":\"GlyphRenderer\"},{\"attributes\":{\"source\":{\"id\":\"1778\"}},\"id\":\"1782\",\"type\":\"CDSView\"},{\"attributes\":{},\"id\":\"2087\",\"type\":\"Selection\"},{\"attributes\":{\"line_alpha\":0.1,\"line_color\":\"orange\",\"x\":{\"field\":\"x\"},\"y\":{\"field\":\"y\"}},\"id\":\"1265\",\"type\":\"Line\"},{\"attributes\":{\"source\":{\"id\":\"1783\"}},\"id\":\"1787\",\"type\":\"CDSView\"},{\"attributes\":{\"data\":{\"x\":[5.0,5.0],\"y\":[0,0.1204523954086467]},\"selected\":{\"id\":\"1933\"},\"selection_policy\":{\"id\":\"1934\"}},\"id\":\"1278\",\"type\":\"ColumnDataSource\"},{\"attributes\":{},\"id\":\"2005\",\"type\":\"Selection\"},{\"attributes\":{\"line_color\":\"orange\",\"x\":{\"field\":\"x\"},\"y\":{\"field\":\"y\"}},\"id\":\"1279\",\"type\":\"Line\"},{\"attributes\":{\"line_color\":\"orange\",\"x\":{\"field\":\"x\"},\"y\":{\"field\":\"y\"}},\"id\":\"1794\",\"type\":\"Line\"},{\"attributes\":{\"line_alpha\":0.1,\"line_color\":\"orange\",\"x\":{\"field\":\"x\"},\"y\":{\"field\":\"y\"}},\"id\":\"1270\",\"type\":\"Line\"},{\"attributes\":{\"data\":{\"x\":[8.0,8.0],\"y\":[0,0.09809796312312793]},\"selected\":{\"id\":\"2115\"},\"selection_policy\":{\"id\":\"2116\"}},\"id\":\"1793\",\"type\":\"ColumnDataSource\"},{\"attributes\":{\"source\":{\"id\":\"1258\"}},\"id\":\"1262\",\"type\":\"CDSView\"},{\"attributes\":{},\"id\":\"1910\",\"type\":\"UnionRenderers\"},{\"attributes\":{},\"id\":\"2059\",\"type\":\"Selection\"},{\"attributes\":{\"line_color\":\"orange\",\"x\":{\"field\":\"x\"},\"y\":{\"field\":\"y\"}},\"id\":\"1284\",\"type\":\"Line\"},{\"attributes\":{\"source\":{\"id\":\"1268\"}},\"id\":\"1272\",\"type\":\"CDSView\"},{\"attributes\":{},\"id\":\"2053\",\"type\":\"Selection\"},{\"attributes\":{\"line_color\":\"orange\",\"x\":{\"field\":\"x\"},\"y\":{\"field\":\"y\"}},\"id\":\"1264\",\"type\":\"Line\"},{\"attributes\":{\"source\":{\"id\":\"1798\"}},\"id\":\"1802\",\"type\":\"CDSView\"},{\"attributes\":{\"data\":{\"x\":[4.0,5.0],\"y1\":[0,0],\"y2\":[0.1204523954086467,0.1204523954086467]},\"selected\":{\"id\":\"1931\"},\"selection_policy\":{\"id\":\"1932\"}},\"id\":\"1273\",\"type\":\"ColumnDataSource\"},{\"attributes\":{\"line_alpha\":0.1,\"line_color\":\"orange\",\"x\":{\"field\":\"x\"},\"y\":{\"field\":\"y\"}},\"id\":\"1795\",\"type\":\"Line\"},{\"attributes\":{\"source\":{\"id\":\"1793\"}},\"id\":\"1797\",\"type\":\"CDSView\"},{\"attributes\":{\"data\":{\"x\":[7.0,8.0],\"y1\":[0,0],\"y2\":[0.09809796312312793,0.09809796312312793]},\"selected\":{\"id\":\"2117\"},\"selection_policy\":{\"id\":\"2118\"}},\"id\":\"1798\",\"type\":\"ColumnDataSource\"},{\"attributes\":{\"fill_alpha\":0.2,\"fill_color\":\"orange\",\"x\":{\"field\":\"x\"},\"y1\":{\"field\":\"y1\"},\"y2\":{\"field\":\"y2\"}},\"id\":\"1799\",\"type\":\"VArea\"},{\"attributes\":{},\"id\":\"2006\",\"type\":\"UnionRenderers\"},{\"attributes\":{\"fill_alpha\":0.2,\"fill_color\":\"orange\",\"x\":{\"field\":\"x\"},\"y1\":{\"field\":\"y1\"},\"y2\":{\"field\":\"y2\"}},\"id\":\"1259\",\"type\":\"VArea\"},{\"attributes\":{},\"id\":\"1813\",\"type\":\"AllLabels\"},{\"attributes\":{\"data_source\":{\"id\":\"1783\"},\"glyph\":{\"id\":\"1784\"},\"hover_glyph\":null,\"muted_glyph\":null,\"nonselection_glyph\":{\"id\":\"1785\"},\"view\":{\"id\":\"1787\"}},\"id\":\"1786\",\"type\":\"GlyphRenderer\"},{\"attributes\":{},\"id\":\"2002\",\"type\":\"UnionRenderers\"},{\"attributes\":{},\"id\":\"1814\",\"type\":\"BasicTickFormatter\"},{\"attributes\":{},\"id\":\"1901\",\"type\":\"Selection\"},{\"attributes\":{},\"id\":\"2091\",\"type\":\"Selection\"},{\"attributes\":{},\"id\":\"2086\",\"type\":\"UnionRenderers\"},{\"attributes\":{\"line_color\":\"orange\",\"x\":{\"field\":\"x\"},\"y\":{\"field\":\"y\"}},\"id\":\"1764\",\"type\":\"Line\"},{\"attributes\":{},\"id\":\"2085\",\"type\":\"Selection\"},{\"attributes\":{},\"id\":\"2084\",\"type\":\"UnionRenderers\"},{\"attributes\":{},\"id\":\"2000\",\"type\":\"UnionRenderers\"},{\"attributes\":{},\"id\":\"1903\",\"type\":\"Selection\"},{\"attributes\":{\"source\":{\"id\":\"1358\"}},\"id\":\"1362\",\"type\":\"CDSView\"},{\"attributes\":{},\"id\":\"1335\",\"type\":\"BasicTicker\"},{\"attributes\":{},\"id\":\"1863\",\"type\":\"Selection\"},{\"attributes\":{},\"id\":\"1328\",\"type\":\"DataRange1d\"},{\"attributes\":{\"data\":{\"x\":[2.0,3.0],\"y1\":[0,0],\"y2\":[0.1096297297503988,0.1096297297503988]},\"selected\":{\"id\":\"1975\"},\"selection_policy\":{\"id\":\"1976\"}},\"id\":\"1403\",\"type\":\"ColumnDataSource\"},{\"attributes\":{},\"id\":\"2036\",\"type\":\"UnionRenderers\"},{\"attributes\":{\"line_color\":\"orange\",\"x\":{\"field\":\"x\"},\"y\":{\"field\":\"y\"}},\"id\":\"1399\",\"type\":\"Line\"},{\"attributes\":{},\"id\":\"2081\",\"type\":\"Selection\"},{\"attributes\":{\"data\":{\"x\":[2.0,2.0],\"y\":[0,0.1096297297503988]},\"selected\":{\"id\":\"1967\"},\"selection_policy\":{\"id\":\"1968\"}},\"id\":\"1383\",\"type\":\"ColumnDataSource\"},{\"attributes\":{\"source\":{\"id\":\"1383\"}},\"id\":\"1387\",\"type\":\"CDSView\"},{\"attributes\":{\"data\":{\"x\":[5.0,5.0],\"y\":[0,0.1096297297503988]},\"selected\":{\"id\":\"1985\"},\"selection_policy\":{\"id\":\"1986\"}},\"id\":\"1428\",\"type\":\"ColumnDataSource\"},{\"attributes\":{\"line_color\":\"orange\",\"x\":{\"field\":\"x\"},\"y\":{\"field\":\"y\"}},\"id\":\"1394\",\"type\":\"Line\"},{\"attributes\":{},\"id\":\"2043\",\"type\":\"Selection\"},{\"attributes\":{},\"id\":\"2080\",\"type\":\"UnionRenderers\"},{\"attributes\":{\"axis_label\":\"\\u0394E [k_BT]\",\"formatter\":{\"id\":\"1826\"},\"major_label_policy\":{\"id\":\"1825\"},\"ticker\":{\"id\":\"1335\"}},\"id\":\"1334\",\"type\":\"LinearAxis\"},{\"attributes\":{\"data\":{\"x\":[1.0,2.0],\"y1\":[0,0],\"y2\":[0.1096297297503988,0.1096297297503988]},\"selected\":{\"id\":\"1969\"},\"selection_policy\":{\"id\":\"1970\"}},\"id\":\"1388\",\"type\":\"ColumnDataSource\"},{\"attributes\":{\"fill_alpha\":0.2,\"fill_color\":\"orange\",\"x\":{\"field\":\"x\"},\"y1\":{\"field\":\"y1\"},\"y2\":{\"field\":\"y2\"}},\"id\":\"1389\",\"type\":\"VArea\"},{\"attributes\":{\"source\":{\"id\":\"1423\"}},\"id\":\"1427\",\"type\":\"CDSView\"},{\"attributes\":{},\"id\":\"1869\",\"type\":\"Selection\"},{\"attributes\":{\"data_source\":{\"id\":\"1393\"},\"glyph\":{\"id\":\"1394\"},\"hover_glyph\":null,\"muted_glyph\":null,\"nonselection_glyph\":{\"id\":\"1395\"},\"view\":{\"id\":\"1397\"}},\"id\":\"1396\",\"type\":\"GlyphRenderer\"},{\"attributes\":{\"line_color\":\"orange\",\"x\":{\"field\":\"x\"},\"y\":{\"field\":\"y\"}},\"id\":\"1424\",\"type\":\"Line\"},{\"attributes\":{},\"id\":\"1992\",\"type\":\"UnionRenderers\"},{\"attributes\":{},\"id\":\"1330\",\"type\":\"LinearScale\"},{\"attributes\":{\"data_source\":{\"id\":\"1398\"},\"glyph\":{\"id\":\"1399\"},\"hover_glyph\":null,\"muted_glyph\":null,\"nonselection_glyph\":{\"id\":\"1400\"},\"view\":{\"id\":\"1402\"}},\"id\":\"1401\",\"type\":\"GlyphRenderer\"},{\"attributes\":{\"data_source\":{\"id\":\"1423\"},\"glyph\":{\"id\":\"1424\"},\"hover_glyph\":null,\"muted_glyph\":null,\"nonselection_glyph\":{\"id\":\"1425\"},\"view\":{\"id\":\"1427\"}},\"id\":\"1426\",\"type\":\"GlyphRenderer\"},{\"attributes\":{\"data\":{\"x\":[3.0,3.0],\"y\":[0,0.1096297297503988]},\"selected\":{\"id\":\"1973\"},\"selection_policy\":{\"id\":\"1974\"}},\"id\":\"1398\",\"type\":\"ColumnDataSource\"},{\"attributes\":{\"fill_alpha\":0.1,\"fill_color\":\"orange\",\"x\":{\"field\":\"x\"},\"y1\":{\"field\":\"y1\"},\"y2\":{\"field\":\"y2\"}},\"id\":\"1420\",\"type\":\"VArea\"},{\"attributes\":{},\"id\":\"1846\",\"type\":\"UnionRenderers\"},{\"attributes\":{\"source\":{\"id\":\"1398\"}},\"id\":\"1402\",\"type\":\"CDSView\"},{\"attributes\":{},\"id\":\"1826\",\"type\":\"BasicTickFormatter\"},{\"attributes\":{},\"id\":\"2045\",\"type\":\"Selection\"},{\"attributes\":{\"line_color\":\"orange\",\"x\":{\"field\":\"x\"},\"y\":{\"field\":\"y\"}},\"id\":\"1409\",\"type\":\"Line\"},{\"attributes\":{\"axis\":{\"id\":\"1338\"},\"dimension\":1,\"ticker\":null},\"id\":\"1341\",\"type\":\"Grid\"},{\"attributes\":{\"source\":{\"id\":\"1393\"}},\"id\":\"1397\",\"type\":\"CDSView\"},{\"attributes\":{},\"id\":\"2055\",\"type\":\"Selection\"},{\"attributes\":{\"data_source\":{\"id\":\"1418\"},\"glyph\":{\"id\":\"1419\"},\"hover_glyph\":null,\"muted_glyph\":null,\"nonselection_glyph\":{\"id\":\"1420\"},\"view\":{\"id\":\"1422\"}},\"id\":\"1421\",\"type\":\"GlyphRenderer\"},{\"attributes\":{\"data\":{\"x\":[4.0,4.0],\"y\":[0,0.1096297297503988]},\"selected\":{\"id\":\"1983\"},\"selection_policy\":{\"id\":\"1984\"}},\"id\":\"1423\",\"type\":\"ColumnDataSource\"},{\"attributes\":{},\"id\":\"2035\",\"type\":\"Selection\"},{\"attributes\":{\"data\":{\"left\":{\"__ndarray__\":\"ZjPiXYm77r8QmN5x12Hev4DV5gB7bIY/aAXtIZ/I3z8Sauk17W7vP7kobm3FfPc/Z5znPxRC/z8KiDCJsYMDQOJBbfJYZgdAuvupWwBJC0CStebEpysPQLS3EZcnhxFAoBSwS3t4E0CMcU4Az2kVQHfO7LQiWxdAYyuLaXZMGUBPiCkeyj0bQDvlx9IdLx1AJ0Jmh3EgH0CKTwKe4oggQAB+UXiMgSFAdaygUjZ6IkDr2u8s4HIjQGEJPweKayRA1zeO4TNkJUBNZt273VwmQMOULJaHVSdAOcN7cDFOKECu8cpK20YpQCQgGiWFPypAmk5p/y44K0AQfbjZ2DAsQIarB7SCKS1A/NlWjiwiLkByCKZo1hovQHSbeiHACTBArzKiDhWGMEDqycn7aQIxQCVh8ei+fjFAYPgY1hP7MUCbj0DDaHcyQNUmaLC98zJAEL6PnRJwM0BLVbeKZ+wzQIbs3ne8aDRAwYMGZRHlNED8Gi5SZmE1QDeyVT+73TVAckl9LBBaNkCt4KQZZdY2QA==\",\"dtype\":\"float64\",\"order\":\"little\",\"shape\":[50]},\"right\":{\"__ndarray__\":\"EJjecddh3r+A1eYAe2yGP2gF7SGfyN8/EmrpNe1u7z+5KG5txXz3P2ec5z8UQv8/CogwibGDA0DiQW3yWGYHQLr7qVsASQtAkrXmxKcrD0C0txGXJ4cRQKAUsEt7eBNAjHFOAM9pFUB3zuy0IlsXQGMri2l2TBlAT4gpHso9G0A75cfSHS8dQCdCZodxIB9Aik8CnuKIIEAAflF4jIEhQHWsoFI2eiJA69rvLOByI0BhCT8HimskQNc3juEzZCVATWbdu91cJkDDlCyWh1UnQDnDe3AxTihArvHKSttGKUAkIBolhT8qQJpOaf8uOCtAEH242dgwLECGqwe0giktQPzZVo4sIi5AcgimaNYaL0B0m3ohwAkwQK8yog4VhjBA6snJ+2kCMUAlYfHovn4xQGD4GNYT+zFAm49Aw2h3MkDVJmiwvfMyQBC+j50ScDNAS1W3imfsM0CG7N53vGg0QMGDBmUR5TRA/BouUmZhNUA3slU/u901QHJJfSwQWjZAreCkGWXWNkDod8wGulI3QA==\",\"dtype\":\"float64\",\"order\":\"little\",\"shape\":[50]},\"top\":{\"__ndarray__\":\"xRI669ToMT9/SMtaWUhSPw7zGx9RW1w/Fi+YpaCpbT/QgmfYTLB+P3eIaUR2D4Y/tMmvNFiDkT+9vcKxYzWZP5mAJX7bHaE/52Mk6bfcpT969eTSTtGqP5VkDZRZbK8/G9/H7RwUsj/OJxqiAkC1PxqTrsClsLY/VzaBgf9ZuD+ByJXu+CS5P+PQn3eQnro/A4Hyp7EQvD9QvYqvzPu7P/KLxeRGALw/FPGKbeoeuz/E6p9WHzC6Pyn8B+yw+bg/CmhizVDytj/IfSTIRm61PzI38YUtzbI/96CeNJvssD+k4bOJv5GtP2S5aEz/gqk/Xk5+b439pT9VxVXP89ChP7oqPkA8950/MziEcgBImj/JPxeQkOOSP8xkKRUlCY4/yLsxAP34hz/DEjrr1OiBPyD+mJ0XNno/iqKFpNA9dD+4DwEzqf9oPy3NmZWOwmY/G2sULPD3Xj+XcYacR8pQP5eH+T9InEs/IxzXYD/dOj9Zbk3kG+E3P1luTeQb4Sc/wxI669ToET9Zbk3kG+H3Pg==\",\"dtype\":\"float64\",\"order\":\"little\",\"shape\":[50]}},\"selected\":{\"id\":\"1951\"},\"selection_policy\":{\"id\":\"1952\"}},\"id\":\"1343\",\"type\":\"ColumnDataSource\"},{\"attributes\":{\"data\":{\"x\":[3.0,3.0],\"y\":[0,0.1096297297503988]},\"selected\":{\"id\":\"1977\"},\"selection_policy\":{\"id\":\"1978\"}},\"id\":\"1408\",\"type\":\"ColumnDataSource\"},{\"attributes\":{\"line_alpha\":0.1,\"line_color\":\"orange\",\"x\":{\"field\":\"x\"},\"y\":{\"field\":\"y\"}},\"id\":\"1425\",\"type\":\"Line\"},{\"attributes\":{\"data_source\":{\"id\":\"1383\"},\"glyph\":{\"id\":\"1384\"},\"hover_glyph\":null,\"muted_glyph\":null,\"nonselection_glyph\":{\"id\":\"1385\"},\"view\":{\"id\":\"1387\"}},\"id\":\"1386\",\"type\":\"GlyphRenderer\"},{\"attributes\":{\"axis\":{\"id\":\"1334\"},\"ticker\":null},\"id\":\"1337\",\"type\":\"Grid\"},{\"attributes\":{\"data\":{\"x\":[2.0,2.0],\"y\":[0,0.1096297297503988]},\"selected\":{\"id\":\"1971\"},\"selection_policy\":{\"id\":\"1972\"}},\"id\":\"1393\",\"type\":\"ColumnDataSource\"},{\"attributes\":{\"axis_label\":\"density\",\"formatter\":{\"id\":\"1823\"},\"major_label_policy\":{\"id\":\"1822\"},\"ticker\":{\"id\":\"1339\"}},\"id\":\"1338\",\"type\":\"LinearAxis\"},{\"attributes\":{\"line_alpha\":0.1,\"line_color\":\"orange\",\"x\":{\"field\":\"x\"},\"y\":{\"field\":\"y\"}},\"id\":\"1385\",\"type\":\"Line\"},{\"attributes\":{},\"id\":\"1993\",\"type\":\"Selection\"},{\"attributes\":{\"line_alpha\":0.1,\"line_color\":\"orange\",\"x\":{\"field\":\"x\"},\"y\":{\"field\":\"y\"}},\"id\":\"1395\",\"type\":\"Line\"},{\"attributes\":{},\"id\":\"2034\",\"type\":\"UnionRenderers\"},{\"attributes\":{\"line_alpha\":0.1,\"line_color\":\"orange\",\"x\":{\"field\":\"x\"},\"y\":{\"field\":\"y\"}},\"id\":\"1370\",\"type\":\"Line\"},{\"attributes\":{\"source\":{\"id\":\"1418\"}},\"id\":\"1422\",\"type\":\"CDSView\"},{\"attributes\":{\"data_source\":{\"id\":\"1348\"},\"glyph\":{\"id\":\"1349\"},\"hover_glyph\":null,\"muted_glyph\":null,\"nonselection_glyph\":{\"id\":\"1350\"},\"view\":{\"id\":\"1352\"}},\"id\":\"1351\",\"type\":\"GlyphRenderer\"},{\"attributes\":{\"fill_alpha\":0.2,\"fill_color\":\"orange\",\"x\":{\"field\":\"x\"},\"y1\":{\"field\":\"y1\"},\"y2\":{\"field\":\"y2\"}},\"id\":\"1419\",\"type\":\"VArea\"},{\"attributes\":{},\"id\":\"1868\",\"type\":\"UnionRenderers\"},{\"attributes\":{\"data_source\":{\"id\":\"1403\"},\"glyph\":{\"id\":\"1404\"},\"hover_glyph\":null,\"muted_glyph\":null,\"nonselection_glyph\":{\"id\":\"1405\"},\"view\":{\"id\":\"1407\"}},\"id\":\"1406\",\"type\":\"GlyphRenderer\"},{\"attributes\":{},\"id\":\"2033\",\"type\":\"Selection\"},{\"attributes\":{},\"id\":\"2078\",\"type\":\"UnionRenderers\"},{\"attributes\":{\"fill_alpha\":0.1,\"fill_color\":\"orange\",\"x\":{\"field\":\"x\"},\"y1\":{\"field\":\"y1\"},\"y2\":{\"field\":\"y2\"}},\"id\":\"1405\",\"type\":\"VArea\"},{\"attributes\":{\"source\":{\"id\":\"1313\"}},\"id\":\"1317\",\"type\":\"CDSView\"},{\"attributes\":{\"line_alpha\":0.1,\"line_color\":\"orange\",\"x\":{\"field\":\"x\"},\"y\":{\"field\":\"y\"}},\"id\":\"1400\",\"type\":\"Line\"},{\"attributes\":{\"data_source\":{\"id\":\"1343\"},\"glyph\":{\"id\":\"1344\"},\"hover_glyph\":null,\"muted_glyph\":null,\"nonselection_glyph\":{\"id\":\"1345\"},\"view\":{\"id\":\"1347\"}},\"id\":\"1346\",\"type\":\"GlyphRenderer\"},{\"attributes\":{\"data\":{\"x\":[1.0,1.0],\"y\":[0,0.1096297297503988]},\"selected\":{\"id\":\"1965\"},\"selection_policy\":{\"id\":\"1966\"}},\"id\":\"1378\",\"type\":\"ColumnDataSource\"},{\"attributes\":{},\"id\":\"2031\",\"type\":\"Selection\"},{\"attributes\":{\"data_source\":{\"id\":\"1428\"},\"glyph\":{\"id\":\"1429\"},\"hover_glyph\":null,\"muted_glyph\":null,\"nonselection_glyph\":{\"id\":\"1430\"},\"view\":{\"id\":\"1432\"}},\"id\":\"1431\",\"type\":\"GlyphRenderer\"},{\"attributes\":{\"source\":{\"id\":\"1388\"}},\"id\":\"1392\",\"type\":\"CDSView\"},{\"attributes\":{},\"id\":\"2047\",\"type\":\"Selection\"},{\"attributes\":{},\"id\":\"2032\",\"type\":\"UnionRenderers\"},{\"attributes\":{},\"id\":\"2072\",\"type\":\"UnionRenderers\"},{\"attributes\":{\"line_color\":\"orange\",\"x\":{\"field\":\"x\"},\"y\":{\"field\":\"y\"}},\"id\":\"1384\",\"type\":\"Line\"},{\"attributes\":{\"line_color\":\"orange\",\"x\":{\"field\":\"x\"},\"y\":{\"field\":\"y\"}},\"id\":\"1379\",\"type\":\"Line\"},{\"attributes\":{\"line_alpha\":0.1,\"line_color\":\"orange\",\"x\":{\"field\":\"x\"},\"y\":{\"field\":\"y\"}},\"id\":\"1380\",\"type\":\"Line\"},{\"attributes\":{},\"id\":\"1843\",\"type\":\"Selection\"},{\"attributes\":{},\"id\":\"2054\",\"type\":\"UnionRenderers\"},{\"attributes\":{\"source\":{\"id\":\"1293\"}},\"id\":\"1297\",\"type\":\"CDSView\"},{\"attributes\":{\"data\":{\"x\":[-1.0,0.0],\"y1\":[0,0],\"y2\":[0.1096297297503988,0.1096297297503988]},\"selected\":{\"id\":\"1957\"},\"selection_policy\":{\"id\":\"1958\"}},\"id\":\"1358\",\"type\":\"ColumnDataSource\"},{\"attributes\":{\"source\":{\"id\":\"1378\"}},\"id\":\"1382\",\"type\":\"CDSView\"},{\"attributes\":{\"line_color\":\"orange\",\"x\":{\"field\":\"x\"},\"y\":{\"field\":\"y\"}},\"id\":\"1429\",\"type\":\"Line\"},{\"attributes\":{},\"id\":\"1867\",\"type\":\"Selection\"},{\"attributes\":{\"line_alpha\":0.1,\"line_color\":\"orange\",\"x\":{\"field\":\"x\"},\"y\":{\"field\":\"y\"}},\"id\":\"1295\",\"type\":\"Line\"},{\"attributes\":{\"fill_alpha\":0.1,\"fill_color\":\"orange\",\"x\":{\"field\":\"x\"},\"y1\":{\"field\":\"y1\"},\"y2\":{\"field\":\"y2\"}},\"id\":\"1390\",\"type\":\"VArea\"},{\"attributes\":{},\"id\":\"2056\",\"type\":\"UnionRenderers\"},{\"attributes\":{\"data\":{\"x\":[7.0,8.0],\"y1\":[0,0],\"y2\":[0.1204523954086467,0.1204523954086467]},\"selected\":{\"id\":\"1949\"},\"selection_policy\":{\"id\":\"1950\"}},\"id\":\"1318\",\"type\":\"ColumnDataSource\"},{\"attributes\":{},\"id\":\"1844\",\"type\":\"UnionRenderers\"},{\"attributes\":{\"fill_alpha\":0.2,\"fill_color\":\"orange\",\"x\":{\"field\":\"x\"},\"y1\":{\"field\":\"y1\"},\"y2\":{\"field\":\"y2\"}},\"id\":\"1319\",\"type\":\"VArea\"},{\"attributes\":{\"source\":{\"id\":\"1373\"}},\"id\":\"1377\",\"type\":\"CDSView\"},{\"attributes\":{\"fill_alpha\":0.1,\"fill_color\":\"orange\",\"x\":{\"field\":\"x\"},\"y1\":{\"field\":\"y1\"},\"y2\":{\"field\":\"y2\"}},\"id\":\"1305\",\"type\":\"VArea\"},{\"attributes\":{\"data\":{\"x\":[7.0,7.0],\"y\":[0,0.1204523954086467]},\"selected\":{\"id\":\"1945\"},\"selection_policy\":{\"id\":\"1946\"}},\"id\":\"1308\",\"type\":\"ColumnDataSource\"},{\"attributes\":{},\"id\":\"1845\",\"type\":\"Selection\"},{\"attributes\":{\"data_source\":{\"id\":\"1363\"},\"glyph\":{\"id\":\"1364\"},\"hover_glyph\":null,\"muted_glyph\":null,\"nonselection_glyph\":{\"id\":\"1365\"},\"view\":{\"id\":\"1367\"}},\"id\":\"1366\",\"type\":\"GlyphRenderer\"},{\"attributes\":{\"data\":{\"x\":[6.0,7.0],\"y1\":[0,0],\"y2\":[0.1204523954086467,0.1204523954086467]},\"selected\":{\"id\":\"1943\"},\"selection_policy\":{\"id\":\"1944\"}},\"id\":\"1303\",\"type\":\"ColumnDataSource\"},{\"attributes\":{},\"id\":\"2044\",\"type\":\"UnionRenderers\"},{\"attributes\":{\"line_color\":\"orange\",\"x\":{\"field\":\"x\"},\"y\":{\"field\":\"y\"}},\"id\":\"1314\",\"type\":\"Line\"},{\"attributes\":{\"fill_alpha\":0.2,\"fill_color\":\"orange\",\"x\":{\"field\":\"x\"},\"y1\":{\"field\":\"y1\"},\"y2\":{\"field\":\"y2\"}},\"id\":\"1359\",\"type\":\"VArea\"},{\"attributes\":{},\"id\":\"2075\",\"type\":\"Selection\"},{\"attributes\":{\"data_source\":{\"id\":\"1378\"},\"glyph\":{\"id\":\"1379\"},\"hover_glyph\":null,\"muted_glyph\":null,\"nonselection_glyph\":{\"id\":\"1380\"},\"view\":{\"id\":\"1382\"}},\"id\":\"1381\",\"type\":\"GlyphRenderer\"},{\"attributes\":{\"data_source\":{\"id\":\"1313\"},\"glyph\":{\"id\":\"1314\"},\"hover_glyph\":null,\"muted_glyph\":null,\"nonselection_glyph\":{\"id\":\"1315\"},\"view\":{\"id\":\"1317\"}},\"id\":\"1316\",\"type\":\"GlyphRenderer\"},{\"attributes\":{\"data\":{\"x\":[8.0,8.0],\"y\":[0,0.1204523954086467]},\"selected\":{\"id\":\"1947\"},\"selection_policy\":{\"id\":\"1948\"}},\"id\":\"1313\",\"type\":\"ColumnDataSource\"},{\"attributes\":{},\"id\":\"1866\",\"type\":\"UnionRenderers\"},{\"attributes\":{},\"id\":\"2079\",\"type\":\"Selection\"},{\"attributes\":{\"data_source\":{\"id\":\"1303\"},\"glyph\":{\"id\":\"1304\"},\"hover_glyph\":null,\"muted_glyph\":null,\"nonselection_glyph\":{\"id\":\"1305\"},\"view\":{\"id\":\"1307\"}},\"id\":\"1306\",\"type\":\"GlyphRenderer\"},{\"attributes\":{\"source\":{\"id\":\"1403\"}},\"id\":\"1407\",\"type\":\"CDSView\"},{\"attributes\":{},\"id\":\"1865\",\"type\":\"Selection\"},{\"attributes\":{\"data\":{\"x\":[7.0,7.0],\"y\":[0,0.1204523954086467]},\"selected\":{\"id\":\"1941\"},\"selection_policy\":{\"id\":\"1942\"}},\"id\":\"1298\",\"type\":\"ColumnDataSource\"},{\"attributes\":{\"line_alpha\":0.1,\"line_color\":\"orange\",\"x\":{\"field\":\"x\"},\"y\":{\"field\":\"y\"}},\"id\":\"1410\",\"type\":\"Line\"},{\"attributes\":{},\"id\":\"2071\",\"type\":\"Selection\"},{\"attributes\":{\"fill_alpha\":0.1,\"fill_color\":\"orange\",\"x\":{\"field\":\"x\"},\"y1\":{\"field\":\"y1\"},\"y2\":{\"field\":\"y2\"}},\"id\":\"1290\",\"type\":\"VArea\"},{\"attributes\":{\"fill_alpha\":0.2,\"fill_color\":\"orange\",\"x\":{\"field\":\"x\"},\"y1\":{\"field\":\"y1\"},\"y2\":{\"field\":\"y2\"}},\"id\":\"1404\",\"type\":\"VArea\"},{\"attributes\":{},\"id\":\"2046\",\"type\":\"UnionRenderers\"},{\"attributes\":{\"data_source\":{\"id\":\"1298\"},\"glyph\":{\"id\":\"1299\"},\"hover_glyph\":null,\"muted_glyph\":null,\"nonselection_glyph\":{\"id\":\"1300\"},\"view\":{\"id\":\"1302\"}},\"id\":\"1301\",\"type\":\"GlyphRenderer\"},{\"attributes\":{},\"id\":\"1862\",\"type\":\"UnionRenderers\"},{\"attributes\":{},\"id\":\"2057\",\"type\":\"Selection\"},{\"attributes\":{\"line_color\":\"orange\",\"x\":{\"field\":\"x\"},\"y\":{\"field\":\"y\"}},\"id\":\"1299\",\"type\":\"Line\"},{\"attributes\":{\"line_color\":\"orange\",\"x\":{\"field\":\"x\"},\"y\":{\"field\":\"y\"}},\"id\":\"1354\",\"type\":\"Line\"},{\"attributes\":{},\"id\":\"1989\",\"type\":\"Selection\"},{\"attributes\":{\"active_multi\":null},\"id\":\"1342\",\"type\":\"Toolbar\"},{\"attributes\":{\"line_alpha\":0.1,\"line_color\":\"orange\",\"x\":{\"field\":\"x\"},\"y\":{\"field\":\"y\"}},\"id\":\"1350\",\"type\":\"Line\"},{\"attributes\":{},\"id\":\"1840\",\"type\":\"UnionRenderers\"},{\"attributes\":{\"data_source\":{\"id\":\"1318\"},\"glyph\":{\"id\":\"1319\"},\"hover_glyph\":null,\"muted_glyph\":null,\"nonselection_glyph\":{\"id\":\"1320\"},\"view\":{\"id\":\"1322\"}},\"id\":\"1321\",\"type\":\"GlyphRenderer\"},{\"attributes\":{},\"id\":\"1994\",\"type\":\"UnionRenderers\"},{\"attributes\":{\"source\":{\"id\":\"1408\"}},\"id\":\"1412\",\"type\":\"CDSView\"},{\"attributes\":{\"line_color\":\"orange\",\"x\":{\"field\":\"x\"},\"y\":{\"field\":\"y\"}},\"id\":\"1294\",\"type\":\"Line\"},{\"attributes\":{\"data\":{\"x\":[0.0,0.0],\"y\":[0,0.1096297297503988]},\"selected\":{\"id\":\"1955\"},\"selection_policy\":{\"id\":\"1956\"}},\"id\":\"1353\",\"type\":\"ColumnDataSource\"},{\"attributes\":{},\"id\":\"1810\",\"type\":\"AllLabels\"},{\"attributes\":{\"bottom\":{\"value\":0},\"fill_alpha\":{\"value\":0.5},\"fill_color\":{\"value\":\"navy\"},\"left\":{\"field\":\"left\"},\"line_alpha\":{\"value\":0.5},\"line_color\":{\"value\":\"white\"},\"right\":{\"field\":\"right\"},\"top\":{\"field\":\"top\"}},\"id\":\"1344\",\"type\":\"Quad\"},{\"attributes\":{},\"id\":\"1995\",\"type\":\"Selection\"},{\"attributes\":{},\"id\":\"1811\",\"type\":\"BasicTickFormatter\"},{\"attributes\":{\"line_alpha\":0.1,\"line_color\":\"orange\",\"x\":{\"field\":\"x\"},\"y\":{\"field\":\"y\"}},\"id\":\"1310\",\"type\":\"Line\"},{\"attributes\":{\"line_alpha\":0.1,\"line_color\":\"orange\",\"x\":{\"field\":\"x\"},\"y\":{\"field\":\"y\"}},\"id\":\"1365\",\"type\":\"Line\"},{\"attributes\":{\"source\":{\"id\":\"1308\"}},\"id\":\"1312\",\"type\":\"CDSView\"},{\"attributes\":{\"line_alpha\":0.1,\"line_color\":\"orange\",\"x\":{\"field\":\"x\"},\"y\":{\"field\":\"y\"}},\"id\":\"1355\",\"type\":\"Line\"},{\"attributes\":{},\"id\":\"2048\",\"type\":\"UnionRenderers\"},{\"attributes\":{\"data\":{\"x\":[5.0,6.0],\"y1\":[0,0],\"y2\":[0.1204523954086467,0.1204523954086467]},\"selected\":{\"id\":\"1937\"},\"selection_policy\":{\"id\":\"1938\"}},\"id\":\"1288\",\"type\":\"ColumnDataSource\"},{\"attributes\":{\"source\":{\"id\":\"1363\"}},\"id\":\"1367\",\"type\":\"CDSView\"},{\"attributes\":{\"fill_alpha\":0.1,\"fill_color\":\"orange\",\"x\":{\"field\":\"x\"},\"y1\":{\"field\":\"y1\"},\"y2\":{\"field\":\"y2\"}},\"id\":\"1320\",\"type\":\"VArea\"},{\"attributes\":{\"source\":{\"id\":\"1368\"}},\"id\":\"1372\",\"type\":\"CDSView\"},{\"attributes\":{},\"id\":\"2041\",\"type\":\"Selection\"},{\"attributes\":{\"data_source\":{\"id\":\"1308\"},\"glyph\":{\"id\":\"1309\"},\"hover_glyph\":null,\"muted_glyph\":null,\"nonselection_glyph\":{\"id\":\"1310\"},\"view\":{\"id\":\"1312\"}},\"id\":\"1311\",\"type\":\"GlyphRenderer\"},{\"attributes\":{\"data_source\":{\"id\":\"1388\"},\"glyph\":{\"id\":\"1389\"},\"hover_glyph\":null,\"muted_glyph\":null,\"nonselection_glyph\":{\"id\":\"1390\"},\"view\":{\"id\":\"1392\"}},\"id\":\"1391\",\"type\":\"GlyphRenderer\"},{\"attributes\":{},\"id\":\"1990\",\"type\":\"UnionRenderers\"},{\"attributes\":{\"data\":{\"x\":[6.0,6.0],\"y\":[0,0.1204523954086467]},\"selected\":{\"id\":\"1939\"},\"selection_policy\":{\"id\":\"1940\"}},\"id\":\"1293\",\"type\":\"ColumnDataSource\"},{\"attributes\":{\"fill_alpha\":0.2,\"fill_color\":\"orange\",\"x\":{\"field\":\"x\"},\"y1\":{\"field\":\"y1\"},\"y2\":{\"field\":\"y2\"}},\"id\":\"1374\",\"type\":\"VArea\"},{\"attributes\":{},\"id\":\"1839\",\"type\":\"Selection\"},{\"attributes\":{\"fill_alpha\":0.1,\"fill_color\":\"orange\",\"x\":{\"field\":\"x\"},\"y1\":{\"field\":\"y1\"},\"y2\":{\"field\":\"y2\"}},\"id\":\"1375\",\"type\":\"VArea\"},{\"attributes\":{},\"id\":\"1848\",\"type\":\"UnionRenderers\"},{\"attributes\":{},\"id\":\"1861\",\"type\":\"Selection\"},{\"attributes\":{\"data_source\":{\"id\":\"1368\"},\"glyph\":{\"id\":\"1369\"},\"hover_glyph\":null,\"muted_glyph\":null,\"nonselection_glyph\":{\"id\":\"1370\"},\"view\":{\"id\":\"1372\"}},\"id\":\"1371\",\"type\":\"GlyphRenderer\"},{\"attributes\":{\"line_alpha\":0.1,\"line_color\":\"orange\",\"x\":{\"field\":\"x\"},\"y\":{\"field\":\"y\"}},\"id\":\"1300\",\"type\":\"Line\"},{\"attributes\":{},\"id\":\"2037\",\"type\":\"Selection\"},{\"attributes\":{\"data_source\":{\"id\":\"1293\"},\"glyph\":{\"id\":\"1294\"},\"hover_glyph\":null,\"muted_glyph\":null,\"nonselection_glyph\":{\"id\":\"1295\"},\"view\":{\"id\":\"1297\"}},\"id\":\"1296\",\"type\":\"GlyphRenderer\"},{\"attributes\":{\"source\":{\"id\":\"1288\"}},\"id\":\"1292\",\"type\":\"CDSView\"},{\"attributes\":{\"data\":{\"x\":[0.0,1.0],\"y1\":[0,0],\"y2\":[0.1096297297503988,0.1096297297503988]},\"selected\":{\"id\":\"1963\"},\"selection_policy\":{\"id\":\"1964\"}},\"id\":\"1373\",\"type\":\"ColumnDataSource\"},{\"attributes\":{},\"id\":\"1870\",\"type\":\"UnionRenderers\"},{\"attributes\":{\"fill_alpha\":0.2,\"fill_color\":\"orange\",\"x\":{\"field\":\"x\"},\"y1\":{\"field\":\"y1\"},\"y2\":{\"field\":\"y2\"}},\"id\":\"1289\",\"type\":\"VArea\"},{\"attributes\":{\"source\":{\"id\":\"1353\"}},\"id\":\"1357\",\"type\":\"CDSView\"},{\"attributes\":{},\"id\":\"1991\",\"type\":\"Selection\"},{\"attributes\":{\"data_source\":{\"id\":\"1433\"},\"glyph\":{\"id\":\"1434\"},\"hover_glyph\":null,\"muted_glyph\":null,\"nonselection_glyph\":{\"id\":\"1435\"},\"view\":{\"id\":\"1437\"}},\"id\":\"1436\",\"type\":\"GlyphRenderer\"},{\"attributes\":{\"line_color\":\"orange\",\"x\":{\"field\":\"x\"},\"y\":{\"field\":\"y\"}},\"id\":\"1364\",\"type\":\"Line\"},{\"attributes\":{},\"id\":\"1841\",\"type\":\"Selection\"},{\"attributes\":{\"source\":{\"id\":\"1283\"}},\"id\":\"1287\",\"type\":\"CDSView\"},{\"attributes\":{},\"id\":\"2074\",\"type\":\"UnionRenderers\"},{\"attributes\":{\"source\":{\"id\":\"1303\"}},\"id\":\"1307\",\"type\":\"CDSView\"},{\"attributes\":{\"data\":{\"x\":[0.0,0.0],\"y\":[0,0.1096297297503988]},\"selected\":{\"id\":\"1959\"},\"selection_policy\":{\"id\":\"1960\"}},\"id\":\"1363\",\"type\":\"ColumnDataSource\"},{\"attributes\":{\"bottom\":{\"value\":0},\"fill_alpha\":{\"value\":0.1},\"fill_color\":{\"value\":\"navy\"},\"left\":{\"field\":\"left\"},\"line_alpha\":{\"value\":0.1},\"line_color\":{\"value\":\"white\"},\"right\":{\"field\":\"right\"},\"top\":{\"field\":\"top\"}},\"id\":\"1345\",\"type\":\"Quad\"},{\"attributes\":{\"data_source\":{\"id\":\"1373\"},\"glyph\":{\"id\":\"1374\"},\"hover_glyph\":null,\"muted_glyph\":null,\"nonselection_glyph\":{\"id\":\"1375\"},\"view\":{\"id\":\"1377\"}},\"id\":\"1376\",\"type\":\"GlyphRenderer\"},{\"attributes\":{\"line_alpha\":0.1,\"line_color\":\"orange\",\"x\":{\"field\":\"x\"},\"y\":{\"field\":\"y\"}},\"id\":\"1285\",\"type\":\"Line\"},{\"attributes\":{},\"id\":\"2073\",\"type\":\"Selection\"},{\"attributes\":{\"fill_alpha\":0.2,\"fill_color\":\"orange\",\"x\":{\"field\":\"x\"},\"y1\":{\"field\":\"y1\"},\"y2\":{\"field\":\"y2\"}},\"id\":\"1304\",\"type\":\"VArea\"},{\"attributes\":{\"source\":{\"id\":\"1348\"}},\"id\":\"1352\",\"type\":\"CDSView\"},{\"attributes\":{},\"id\":\"1847\",\"type\":\"Selection\"},{\"attributes\":{},\"id\":\"1326\",\"type\":\"DataRange1d\"},{\"attributes\":{\"fill_alpha\":0.1,\"fill_color\":\"orange\",\"x\":{\"field\":\"x\"},\"y1\":{\"field\":\"y1\"},\"y2\":{\"field\":\"y2\"}},\"id\":\"1360\",\"type\":\"VArea\"},{\"attributes\":{},\"id\":\"2029\",\"type\":\"Selection\"},{\"attributes\":{\"line_color\":\"orange\",\"x\":{\"field\":\"x\"},\"y\":{\"field\":\"y\"}},\"id\":\"1309\",\"type\":\"Line\"},{\"attributes\":{},\"id\":\"2038\",\"type\":\"UnionRenderers\"},{\"attributes\":{},\"id\":\"2042\",\"type\":\"UnionRenderers\"},{\"attributes\":{\"data\":{\"x\":[-1.0,-1.0],\"y\":[0,0.1096297297503988]},\"selected\":{\"id\":\"1953\"},\"selection_policy\":{\"id\":\"1954\"}},\"id\":\"1348\",\"type\":\"ColumnDataSource\"},{\"attributes\":{\"source\":{\"id\":\"1298\"}},\"id\":\"1302\",\"type\":\"CDSView\"},{\"attributes\":{\"source\":{\"id\":\"1343\"}},\"id\":\"1347\",\"type\":\"CDSView\"},{\"attributes\":{},\"id\":\"1339\",\"type\":\"BasicTicker\"},{\"attributes\":{\"data_source\":{\"id\":\"1408\"},\"glyph\":{\"id\":\"1409\"},\"hover_glyph\":null,\"muted_glyph\":null,\"nonselection_glyph\":{\"id\":\"1410\"},\"view\":{\"id\":\"1412\"}},\"id\":\"1411\",\"type\":\"GlyphRenderer\"},{\"attributes\":{},\"id\":\"1332\",\"type\":\"LinearScale\"},{\"attributes\":{},\"id\":\"1864\",\"type\":\"UnionRenderers\"},{\"attributes\":{\"data_source\":{\"id\":\"1358\"},\"glyph\":{\"id\":\"1359\"},\"hover_glyph\":null,\"muted_glyph\":null,\"nonselection_glyph\":{\"id\":\"1360\"},\"view\":{\"id\":\"1362\"}},\"id\":\"1361\",\"type\":\"GlyphRenderer\"},{\"attributes\":{\"text\":\"mutations = 4\"},\"id\":\"1324\",\"type\":\"Title\"},{\"attributes\":{\"data_source\":{\"id\":\"1353\"},\"glyph\":{\"id\":\"1354\"},\"hover_glyph\":null,\"muted_glyph\":null,\"nonselection_glyph\":{\"id\":\"1355\"},\"view\":{\"id\":\"1357\"}},\"id\":\"1356\",\"type\":\"GlyphRenderer\"},{\"attributes\":{\"source\":{\"id\":\"1318\"}},\"id\":\"1322\",\"type\":\"CDSView\"},{\"attributes\":{},\"id\":\"2076\",\"type\":\"UnionRenderers\"},{\"attributes\":{\"data\":{\"x\":[1.0,1.0],\"y\":[0,0.1096297297503988]},\"selected\":{\"id\":\"1961\"},\"selection_policy\":{\"id\":\"1962\"}},\"id\":\"1368\",\"type\":\"ColumnDataSource\"},{\"attributes\":{\"line_color\":\"orange\",\"x\":{\"field\":\"x\"},\"y\":{\"field\":\"y\"}},\"id\":\"1369\",\"type\":\"Line\"},{\"attributes\":{},\"id\":\"1842\",\"type\":\"UnionRenderers\"},{\"attributes\":{\"background_fill_color\":\"#fafafa\",\"below\":[{\"id\":\"1494\"}],\"center\":[{\"id\":\"1497\"},{\"id\":\"1501\"}],\"frame_height\":200,\"frame_width\":200,\"left\":[{\"id\":\"1498\"}],\"renderers\":[{\"id\":\"1506\"},{\"id\":\"1511\"},{\"id\":\"1516\"},{\"id\":\"1521\"},{\"id\":\"1526\"},{\"id\":\"1531\"},{\"id\":\"1536\"},{\"id\":\"1541\"},{\"id\":\"1546\"},{\"id\":\"1551\"},{\"id\":\"1556\"},{\"id\":\"1561\"},{\"id\":\"1566\"},{\"id\":\"1571\"},{\"id\":\"1576\"},{\"id\":\"1581\"},{\"id\":\"1586\"},{\"id\":\"1591\"},{\"id\":\"1596\"},{\"id\":\"1601\"},{\"id\":\"1606\"},{\"id\":\"1611\"},{\"id\":\"1616\"},{\"id\":\"1621\"},{\"id\":\"1626\"},{\"id\":\"1631\"},{\"id\":\"1636\"},{\"id\":\"1641\"}],\"title\":{\"id\":\"1484\"},\"toolbar\":{\"id\":\"1502\"},\"x_range\":{\"id\":\"1486\"},\"x_scale\":{\"id\":\"1490\"},\"y_range\":{\"id\":\"1488\"},\"y_scale\":{\"id\":\"1492\"}},\"id\":\"1483\",\"subtype\":\"Figure\",\"type\":\"Plot\"},{\"attributes\":{},\"id\":\"1825\",\"type\":\"AllLabels\"},{\"attributes\":{},\"id\":\"2030\",\"type\":\"UnionRenderers\"},{\"attributes\":{\"line_alpha\":0.1,\"line_color\":\"orange\",\"x\":{\"field\":\"x\"},\"y\":{\"field\":\"y\"}},\"id\":\"1315\",\"type\":\"Line\"},{\"attributes\":{\"line_color\":\"orange\",\"x\":{\"field\":\"x\"},\"y\":{\"field\":\"y\"}},\"id\":\"1349\",\"type\":\"Line\"},{\"attributes\":{\"active_multi\":null},\"id\":\"1182\",\"type\":\"Toolbar\"},{\"attributes\":{\"data\":{\"x\":[7.0,8.0],\"y1\":[0,0],\"y2\":[0.18390112513315407,0.18390112513315407]},\"selected\":{\"id\":\"1893\"},\"selection_policy\":{\"id\":\"1894\"}},\"id\":\"1158\",\"type\":\"ColumnDataSource\"},{\"attributes\":{},\"id\":\"1858\",\"type\":\"UnionRenderers\"},{\"attributes\":{},\"id\":\"1937\",\"type\":\"Selection\"},{\"attributes\":{},\"id\":\"1913\",\"type\":\"Selection\"},{\"attributes\":{},\"id\":\"1172\",\"type\":\"LinearScale\"},{\"attributes\":{},\"id\":\"1936\",\"type\":\"UnionRenderers\"},{\"attributes\":{},\"id\":\"2098\",\"type\":\"UnionRenderers\"},{\"attributes\":{},\"id\":\"2101\",\"type\":\"Selection\"},{\"attributes\":{\"axis\":{\"id\":\"1174\"},\"ticker\":null},\"id\":\"1177\",\"type\":\"Grid\"},{\"attributes\":{\"data\":{\"x\":[8.0,8.0],\"y\":[0,0.18390112513315407]},\"selected\":{\"id\":\"1891\"},\"selection_policy\":{\"id\":\"1892\"}},\"id\":\"1153\",\"type\":\"ColumnDataSource\"},{\"attributes\":{},\"id\":\"1883\",\"type\":\"Selection\"},{\"attributes\":{},\"id\":\"1924\",\"type\":\"UnionRenderers\"},{\"attributes\":{\"data_source\":{\"id\":\"1258\"},\"glyph\":{\"id\":\"1259\"},\"hover_glyph\":null,\"muted_glyph\":null,\"nonselection_glyph\":{\"id\":\"1260\"},\"view\":{\"id\":\"1262\"}},\"id\":\"1261\",\"type\":\"GlyphRenderer\"},{\"attributes\":{},\"id\":\"2113\",\"type\":\"Selection\"},{\"attributes\":{\"data_source\":{\"id\":\"1243\"},\"glyph\":{\"id\":\"1244\"},\"hover_glyph\":null,\"muted_glyph\":null,\"nonselection_glyph\":{\"id\":\"1245\"},\"view\":{\"id\":\"1247\"}},\"id\":\"1246\",\"type\":\"GlyphRenderer\"},{\"attributes\":{},\"id\":\"1939\",\"type\":\"Selection\"},{\"attributes\":{},\"id\":\"2114\",\"type\":\"UnionRenderers\"},{\"attributes\":{\"source\":{\"id\":\"1158\"}},\"id\":\"1162\",\"type\":\"CDSView\"},{\"attributes\":{},\"id\":\"1921\",\"type\":\"Selection\"},{\"attributes\":{},\"id\":\"1932\",\"type\":\"UnionRenderers\"},{\"attributes\":{\"fill_alpha\":0.1,\"fill_color\":\"orange\",\"x\":{\"field\":\"x\"},\"y1\":{\"field\":\"y1\"},\"y2\":{\"field\":\"y2\"}},\"id\":\"1160\",\"type\":\"VArea\"},{\"attributes\":{\"axis_label\":\"\\u0394E [k_BT]\",\"formatter\":{\"id\":\"1820\"},\"major_label_policy\":{\"id\":\"1819\"},\"ticker\":{\"id\":\"1175\"}},\"id\":\"1174\",\"type\":\"LinearAxis\"},{\"attributes\":{},\"id\":\"1938\",\"type\":\"UnionRenderers\"},{\"attributes\":{\"axis_label\":\"density\",\"formatter\":{\"id\":\"1817\"},\"major_label_policy\":{\"id\":\"1816\"},\"ticker\":{\"id\":\"1179\"}},\"id\":\"1178\",\"type\":\"LinearAxis\"},{\"attributes\":{},\"id\":\"1926\",\"type\":\"UnionRenderers\"},{\"attributes\":{},\"id\":\"2118\",\"type\":\"UnionRenderers\"},{\"attributes\":{\"source\":{\"id\":\"1243\"}},\"id\":\"1247\",\"type\":\"CDSView\"},{\"attributes\":{},\"id\":\"1175\",\"type\":\"BasicTicker\"},{\"attributes\":{},\"id\":\"1934\",\"type\":\"UnionRenderers\"},{\"attributes\":{},\"id\":\"2111\",\"type\":\"Selection\"},{\"attributes\":{\"line_color\":\"orange\",\"x\":{\"field\":\"x\"},\"y\":{\"field\":\"y\"}},\"id\":\"1154\",\"type\":\"Line\"},{\"attributes\":{\"axis\":{\"id\":\"1178\"},\"dimension\":1,\"ticker\":null},\"id\":\"1181\",\"type\":\"Grid\"},{\"attributes\":{},\"id\":\"2096\",\"type\":\"UnionRenderers\"},{\"attributes\":{},\"id\":\"2117\",\"type\":\"Selection\"},{\"attributes\":{},\"id\":\"1179\",\"type\":\"BasicTicker\"},{\"attributes\":{\"line_alpha\":0.1,\"line_color\":\"orange\",\"x\":{\"field\":\"x\"},\"y\":{\"field\":\"y\"}},\"id\":\"1155\",\"type\":\"Line\"},{\"attributes\":{},\"id\":\"1851\",\"type\":\"Selection\"},{\"attributes\":{},\"id\":\"1912\",\"type\":\"UnionRenderers\"},{\"attributes\":{},\"id\":\"2100\",\"type\":\"UnionRenderers\"},{\"attributes\":{},\"id\":\"1859\",\"type\":\"Selection\"},{\"attributes\":{},\"id\":\"1860\",\"type\":\"UnionRenderers\"},{\"attributes\":{},\"id\":\"1886\",\"type\":\"UnionRenderers\"},{\"attributes\":{},\"id\":\"2116\",\"type\":\"UnionRenderers\"},{\"attributes\":{},\"id\":\"1855\",\"type\":\"Selection\"},{\"attributes\":{},\"id\":\"1885\",\"type\":\"Selection\"},{\"attributes\":{},\"id\":\"2115\",\"type\":\"Selection\"},{\"attributes\":{},\"id\":\"1933\",\"type\":\"Selection\"},{\"attributes\":{},\"id\":\"1911\",\"type\":\"Selection\"},{\"attributes\":{},\"id\":\"1889\",\"type\":\"Selection\"},{\"attributes\":{},\"id\":\"1914\",\"type\":\"UnionRenderers\"},{\"attributes\":{},\"id\":\"2097\",\"type\":\"Selection\"},{\"attributes\":{},\"id\":\"1853\",\"type\":\"Selection\"},{\"attributes\":{},\"id\":\"1935\",\"type\":\"Selection\"},{\"attributes\":{\"bottom\":{\"value\":0},\"fill_alpha\":{\"value\":0.1},\"fill_color\":{\"value\":\"navy\"},\"left\":{\"field\":\"left\"},\"line_alpha\":{\"value\":0.1},\"line_color\":{\"value\":\"white\"},\"right\":{\"field\":\"right\"},\"top\":{\"field\":\"top\"}},\"id\":\"1185\",\"type\":\"Quad\"},{\"attributes\":{},\"id\":\"1829\",\"type\":\"BasicTickFormatter\"},{\"attributes\":{\"fill_alpha\":0.1,\"fill_color\":\"orange\",\"x\":{\"field\":\"x\"},\"y1\":{\"field\":\"y1\"},\"y2\":{\"field\":\"y2\"}},\"id\":\"1245\",\"type\":\"VArea\"},{\"attributes\":{\"fill_alpha\":0.2,\"fill_color\":\"orange\",\"x\":{\"field\":\"x\"},\"y1\":{\"field\":\"y1\"},\"y2\":{\"field\":\"y2\"}},\"id\":\"1244\",\"type\":\"VArea\"},{\"attributes\":{},\"id\":\"1940\",\"type\":\"UnionRenderers\"},{\"attributes\":{},\"id\":\"1888\",\"type\":\"UnionRenderers\"},{\"attributes\":{},\"id\":\"1852\",\"type\":\"UnionRenderers\"},{\"attributes\":{\"text\":\"mutations = 3\"},\"id\":\"1164\",\"type\":\"Title\"},{\"attributes\":{},\"id\":\"1168\",\"type\":\"DataRange1d\"},{\"attributes\":{},\"id\":\"1925\",\"type\":\"Selection\"},{\"attributes\":{},\"id\":\"2039\",\"type\":\"Selection\"},{\"attributes\":{},\"id\":\"1170\",\"type\":\"LinearScale\"},{\"attributes\":{},\"id\":\"2092\",\"type\":\"UnionRenderers\"},{\"attributes\":{},\"id\":\"2099\",\"type\":\"Selection\"},{\"attributes\":{},\"id\":\"2051\",\"type\":\"Selection\"},{\"attributes\":{},\"id\":\"1884\",\"type\":\"UnionRenderers\"},{\"attributes\":{},\"id\":\"2052\",\"type\":\"UnionRenderers\"},{\"attributes\":{},\"id\":\"1828\",\"type\":\"AllLabels\"},{\"attributes\":{},\"id\":\"1887\",\"type\":\"Selection\"},{\"attributes\":{},\"id\":\"1856\",\"type\":\"UnionRenderers\"},{\"attributes\":{},\"id\":\"1931\",\"type\":\"Selection\"},{\"attributes\":{},\"id\":\"1854\",\"type\":\"UnionRenderers\"},{\"attributes\":{},\"id\":\"2095\",\"type\":\"Selection\"},{\"attributes\":{},\"id\":\"1166\",\"type\":\"DataRange1d\"},{\"attributes\":{},\"id\":\"2094\",\"type\":\"UnionRenderers\"},{\"attributes\":{\"data\":{\"left\":{\"__ndarray__\":\"hqzqvPj48b9sS6PUpRDnv5h74l60XtS/oH4GrouPtT/ouuU1eibfPxTrJMCIdOw/WnyrMuqq9D8qg0QFkBv7P/3E7usaxgBAZUg71W3+A0DNy4e+wDYHQDVP1KcTbwpAndIgkWanDUACqza93G8QQLbs3DEGDBJAai6Dpi+oE0AecCkbWUQVQNKxz4+C4BZAhvN1BKx8GEA6NRx51RgaQO52wu3+tBtAorhoYihRHUBW+g7XUe0eQAWe2qW9RCBA374tYNISIUC534Aa5+AhQJMA1NT7riJAbSEnjxB9I0BHQnpJJUskQCFjzQM6GSVA+4Mgvk7nJUDVpHN4Y7UmQK/FxjJ4gydAieYZ7YxRKEBjB22noR8pQD0owGG27SlAF0kTHMu7KkDxaWbW34krQMuKuZD0VyxApasMSwkmLUB/zF8FHvQtQFntsr8ywi5AMw4GekeQL0CHlywaLi8wQPQnVnc4ljBAYbh/1EL9MEDOSKkxTWQxQDvZ0o5XyzFAqGn862EyMkAV+iVJbJkyQA==\",\"dtype\":\"float64\",\"order\":\"little\",\"shape\":[50]},\"right\":{\"__ndarray__\":\"bEuj1KUQ57+Ye+JetF7Uv6B+Bq6Lj7U/6LrlNXom3z8U6yTAiHTsP1p8qzLqqvQ/KoNEBZAb+z/9xO7rGsYAQGVIO9Vt/gNAzcuHvsA2B0A1T9SnE28KQJ3SIJFmpw1AAqs2vdxvEEC27NwxBgwSQGoug6YvqBNAHnApG1lEFUDSsc+PguAWQIbzdQSsfBhAOjUcedUYGkDudsLt/rQbQKK4aGIoUR1AVvoO11HtHkAFntqlvUQgQN++LWDSEiFAud+AGufgIUCTANTU+64iQG0hJ48QfSNAR0J6SSVLJEAhY80DOhklQPuDIL5O5yVA1aRzeGO1JkCvxcYyeIMnQInmGe2MUShAYwdtp6EfKUA9KMBhtu0pQBdJExzLuypA8Wlm1t+JK0DLirmQ9FcsQKWrDEsJJi1Af8xfBR70LUBZ7bK/MsIuQDMOBnpHkC9Ah5csGi4vMED0J1Z3OJYwQGG4f9RC/TBAzkipMU1kMUA72dKOV8sxQKhp/OthMjJAFfolSWyZMkCCik+mdgAzQA==\",\"dtype\":\"float64\",\"order\":\"little\",\"shape\":[50]},\"top\":{\"__ndarray__\":\"VVsP0SlFUz//CJe5vudsP+Sfjf8U0nU/ekTlFoZrgj8MqVbonfySP5at7tAvgZk/D8lJi8oAoT9Qf4cfVv2mPyLSeVzuCa4/6HsVsegZsj8IXUiI4La1P0+3yvZKfLc/wyxSdVRIuD/c1UF1V2a7P5GZI0hnurw//ngdaKjlvT+RQe3NRTe+P/+kOCU5J70/bLZhD70yvj+PRwHb99W+P9pXBEtXQL4/Rl0FG3cOvj+3ujxluF+8P94teO946bk/umqpWftluT9Qf4cfVv22P8LKgkKBcrM/Dp0uzjm/sT9q9LjzY1CvP5at7tAvgak/vJbEFoynqD/BAsYZdvGjP8feTctJOaA/to4hqCcenT8HaXCiRPSWP59l/jPXEJI/szbrLQabjj++tre5uKuGPw/JSYvKAIE/JfJs/xoOfD8PyUmLygBxPzWyH9EmJ3A/8IhjRXH4ZD8PyUmLygBRP+F/mlzozVc/SttCRXc0Sz8FSX3/F/BIP0rbQkV3NCs/MZIsLvoiIj8xkiwu+iIyPw==\",\"dtype\":\"float64\",\"order\":\"little\",\"shape\":[50]}},\"selected\":{\"id\":\"1895\"},\"selection_policy\":{\"id\":\"1896\"}},\"id\":\"1183\",\"type\":\"ColumnDataSource\"},{\"attributes\":{},\"id\":\"1923\",\"type\":\"Selection\"},{\"attributes\":{},\"id\":\"1890\",\"type\":\"UnionRenderers\"},{\"attributes\":{},\"id\":\"1922\",\"type\":\"UnionRenderers\"},{\"attributes\":{},\"id\":\"2112\",\"type\":\"UnionRenderers\"},{\"attributes\":{\"source\":{\"id\":\"1153\"}},\"id\":\"1157\",\"type\":\"CDSView\"},{\"attributes\":{},\"id\":\"2049\",\"type\":\"Selection\"},{\"attributes\":{},\"id\":\"2093\",\"type\":\"Selection\"},{\"attributes\":{\"fill_alpha\":0.2,\"fill_color\":\"orange\",\"x\":{\"field\":\"x\"},\"y1\":{\"field\":\"y1\"},\"y2\":{\"field\":\"y2\"}},\"id\":\"1159\",\"type\":\"VArea\"},{\"attributes\":{},\"id\":\"1857\",\"type\":\"Selection\"},{\"attributes\":{},\"id\":\"2050\",\"type\":\"UnionRenderers\"},{\"attributes\":{\"bottom\":{\"value\":0},\"fill_alpha\":{\"value\":0.5},\"fill_color\":{\"value\":\"navy\"},\"left\":{\"field\":\"left\"},\"line_alpha\":{\"value\":0.5},\"line_color\":{\"value\":\"white\"},\"right\":{\"field\":\"right\"},\"top\":{\"field\":\"top\"}},\"id\":\"1184\",\"type\":\"Quad\"},{\"attributes\":{\"line_color\":\"orange\",\"x\":{\"field\":\"x\"},\"y\":{\"field\":\"y\"}},\"id\":\"1529\",\"type\":\"Line\"},{\"attributes\":{},\"id\":\"2019\",\"type\":\"Selection\"},{\"attributes\":{\"fill_alpha\":0.2,\"fill_color\":\"orange\",\"x\":{\"field\":\"x\"},\"y1\":{\"field\":\"y1\"},\"y2\":{\"field\":\"y2\"}},\"id\":\"1534\",\"type\":\"VArea\"},{\"attributes\":{\"line_alpha\":0.1,\"line_color\":\"orange\",\"x\":{\"field\":\"x\"},\"y\":{\"field\":\"y\"}},\"id\":\"1540\",\"type\":\"Line\"},{\"attributes\":{\"fill_alpha\":0.1,\"fill_color\":\"orange\",\"x\":{\"field\":\"x\"},\"y1\":{\"field\":\"y1\"},\"y2\":{\"field\":\"y2\"}},\"id\":\"1550\",\"type\":\"VArea\"},{\"attributes\":{},\"id\":\"1838\",\"type\":\"BasicTickFormatter\"},{\"attributes\":{},\"id\":\"1984\",\"type\":\"UnionRenderers\"},{\"attributes\":{\"source\":{\"id\":\"1523\"}},\"id\":\"1527\",\"type\":\"CDSView\"},{\"attributes\":{},\"id\":\"2026\",\"type\":\"UnionRenderers\"},{\"attributes\":{\"line_alpha\":0.1,\"line_color\":\"orange\",\"x\":{\"field\":\"x\"},\"y\":{\"field\":\"y\"}},\"id\":\"1525\",\"type\":\"Line\"},{\"attributes\":{},\"id\":\"1983\",\"type\":\"Selection\"},{\"attributes\":{},\"id\":\"2012\",\"type\":\"UnionRenderers\"},{\"attributes\":{\"data_source\":{\"id\":\"1528\"},\"glyph\":{\"id\":\"1529\"},\"hover_glyph\":null,\"muted_glyph\":null,\"nonselection_glyph\":{\"id\":\"1530\"},\"view\":{\"id\":\"1532\"}},\"id\":\"1531\",\"type\":\"GlyphRenderer\"},{\"attributes\":{\"data\":{\"x\":[1.0,1.0],\"y\":[0,0.10028335935934937]},\"selected\":{\"id\":\"2017\"},\"selection_policy\":{\"id\":\"2018\"}},\"id\":\"1528\",\"type\":\"ColumnDataSource\"},{\"attributes\":{\"source\":{\"id\":\"1538\"}},\"id\":\"1542\",\"type\":\"CDSView\"},{\"attributes\":{\"fill_alpha\":0.1,\"fill_color\":\"orange\",\"x\":{\"field\":\"x\"},\"y1\":{\"field\":\"y1\"},\"y2\":{\"field\":\"y2\"}},\"id\":\"1535\",\"type\":\"VArea\"},{\"attributes\":{\"source\":{\"id\":\"1508\"}},\"id\":\"1512\",\"type\":\"CDSView\"},{\"attributes\":{\"line_alpha\":0.1,\"line_color\":\"orange\",\"x\":{\"field\":\"x\"},\"y\":{\"field\":\"y\"}},\"id\":\"1530\",\"type\":\"Line\"},{\"attributes\":{},\"id\":\"2058\",\"type\":\"UnionRenderers\"},{\"attributes\":{\"data\":{\"x\":[2.0,2.0],\"y\":[0,0.10028335935934937]},\"selected\":{\"id\":\"2023\"},\"selection_policy\":{\"id\":\"2024\"}},\"id\":\"1543\",\"type\":\"ColumnDataSource\"},{\"attributes\":{},\"id\":\"2028\",\"type\":\"UnionRenderers\"},{\"attributes\":{\"data\":{\"x\":[2.0,2.0],\"y\":[0,0.10028335935934937]},\"selected\":{\"id\":\"2027\"},\"selection_policy\":{\"id\":\"2028\"}},\"id\":\"1553\",\"type\":\"ColumnDataSource\"},{\"attributes\":{\"data_source\":{\"id\":\"1543\"},\"glyph\":{\"id\":\"1544\"},\"hover_glyph\":null,\"muted_glyph\":null,\"nonselection_glyph\":{\"id\":\"1545\"},\"view\":{\"id\":\"1547\"}},\"id\":\"1546\",\"type\":\"GlyphRenderer\"},{\"attributes\":{\"line_alpha\":0.1,\"line_color\":\"orange\",\"x\":{\"field\":\"x\"},\"y\":{\"field\":\"y\"}},\"id\":\"1545\",\"type\":\"Line\"},{\"attributes\":{\"source\":{\"id\":\"1528\"}},\"id\":\"1532\",\"type\":\"CDSView\"},{\"attributes\":{},\"id\":\"1985\",\"type\":\"Selection\"},{\"attributes\":{\"data_source\":{\"id\":\"1523\"},\"glyph\":{\"id\":\"1524\"},\"hover_glyph\":null,\"muted_glyph\":null,\"nonselection_glyph\":{\"id\":\"1525\"},\"view\":{\"id\":\"1527\"}},\"id\":\"1526\",\"type\":\"GlyphRenderer\"},{\"attributes\":{},\"id\":\"2027\",\"type\":\"Selection\"},{\"attributes\":{\"data\":{\"x\":[3.0,3.0],\"y\":[0,0.10028335935934937]},\"selected\":{\"id\":\"2029\"},\"selection_policy\":{\"id\":\"2030\"}},\"id\":\"1558\",\"type\":\"ColumnDataSource\"},{\"attributes\":{\"data\":{\"x\":[0.0,0.0],\"y\":[0,0.10028335935934937]},\"selected\":{\"id\":\"2015\"},\"selection_policy\":{\"id\":\"2016\"}},\"id\":\"1523\",\"type\":\"ColumnDataSource\"},{\"attributes\":{},\"id\":\"2018\",\"type\":\"UnionRenderers\"},{\"attributes\":{\"line_alpha\":0.1,\"line_color\":\"orange\",\"x\":{\"field\":\"x\"},\"y\":{\"field\":\"y\"}},\"id\":\"1555\",\"type\":\"Line\"},{\"attributes\":{},\"id\":\"1982\",\"type\":\"UnionRenderers\"},{\"attributes\":{},\"id\":\"2020\",\"type\":\"UnionRenderers\"},{\"attributes\":{},\"id\":\"2023\",\"type\":\"Selection\"},{\"attributes\":{\"data_source\":{\"id\":\"1548\"},\"glyph\":{\"id\":\"1549\"},\"hover_glyph\":null,\"muted_glyph\":null,\"nonselection_glyph\":{\"id\":\"1550\"},\"view\":{\"id\":\"1552\"}},\"id\":\"1551\",\"type\":\"GlyphRenderer\"},{\"attributes\":{\"line_color\":\"orange\",\"x\":{\"field\":\"x\"},\"y\":{\"field\":\"y\"}},\"id\":\"1559\",\"type\":\"Line\"},{\"attributes\":{\"data\":{\"x\":[0.0,0.0],\"y\":[0,0.10028335935934937]},\"selected\":{\"id\":\"2011\"},\"selection_policy\":{\"id\":\"2012\"}},\"id\":\"1513\",\"type\":\"ColumnDataSource\"},{\"attributes\":{},\"id\":\"1920\",\"type\":\"UnionRenderers\"},{\"attributes\":{\"line_color\":\"orange\",\"x\":{\"field\":\"x\"},\"y\":{\"field\":\"y\"}},\"id\":\"1524\",\"type\":\"Line\"},{\"attributes\":{\"source\":{\"id\":\"1513\"}},\"id\":\"1517\",\"type\":\"CDSView\"},{\"attributes\":{},\"id\":\"1988\",\"type\":\"UnionRenderers\"},{\"attributes\":{\"fill_alpha\":0.2,\"fill_color\":\"orange\",\"x\":{\"field\":\"x\"},\"y1\":{\"field\":\"y1\"},\"y2\":{\"field\":\"y2\"}},\"id\":\"1519\",\"type\":\"VArea\"},{\"attributes\":{\"line_color\":\"orange\",\"x\":{\"field\":\"x\"},\"y\":{\"field\":\"y\"}},\"id\":\"1509\",\"type\":\"Line\"},{\"attributes\":{\"data\":{\"x\":[1.0,2.0],\"y1\":[0,0],\"y2\":[0.10028335935934937,0.10028335935934937]},\"selected\":{\"id\":\"2025\"},\"selection_policy\":{\"id\":\"2026\"}},\"id\":\"1548\",\"type\":\"ColumnDataSource\"},{\"attributes\":{\"fill_alpha\":0.2,\"fill_color\":\"orange\",\"x\":{\"field\":\"x\"},\"y1\":{\"field\":\"y1\"},\"y2\":{\"field\":\"y2\"}},\"id\":\"1549\",\"type\":\"VArea\"},{\"attributes\":{},\"id\":\"1837\",\"type\":\"AllLabels\"},{\"attributes\":{\"source\":{\"id\":\"1503\"}},\"id\":\"1507\",\"type\":\"CDSView\"},{\"attributes\":{},\"id\":\"1981\",\"type\":\"Selection\"},{\"attributes\":{\"source\":{\"id\":\"1543\"}},\"id\":\"1547\",\"type\":\"CDSView\"},{\"attributes\":{\"axis_label\":\"density\",\"formatter\":{\"id\":\"1829\"},\"major_label_policy\":{\"id\":\"1828\"},\"ticker\":{\"id\":\"1499\"}},\"id\":\"1498\",\"type\":\"LinearAxis\"},{\"attributes\":{\"active_multi\":null},\"id\":\"1502\",\"type\":\"Toolbar\"},{\"attributes\":{},\"id\":\"1986\",\"type\":\"UnionRenderers\"},{\"attributes\":{\"data\":{\"x\":[-1.0,-1.0],\"y\":[0,0.10028335935934937]},\"selected\":{\"id\":\"2009\"},\"selection_policy\":{\"id\":\"2010\"}},\"id\":\"1508\",\"type\":\"ColumnDataSource\"},{\"attributes\":{\"data\":{\"x\":[0.0,1.0],\"y1\":[0,0],\"y2\":[0.10028335935934937,0.10028335935934937]},\"selected\":{\"id\":\"2019\"},\"selection_policy\":{\"id\":\"2020\"}},\"id\":\"1533\",\"type\":\"ColumnDataSource\"},{\"attributes\":{\"bottom\":{\"value\":0},\"fill_alpha\":{\"value\":0.1},\"fill_color\":{\"value\":\"navy\"},\"left\":{\"field\":\"left\"},\"line_alpha\":{\"value\":0.1},\"line_color\":{\"value\":\"white\"},\"right\":{\"field\":\"right\"},\"top\":{\"field\":\"top\"}},\"id\":\"1505\",\"type\":\"Quad\"},{\"attributes\":{\"line_color\":\"orange\",\"x\":{\"field\":\"x\"},\"y\":{\"field\":\"y\"}},\"id\":\"1554\",\"type\":\"Line\"},{\"attributes\":{\"source\":{\"id\":\"1533\"}},\"id\":\"1537\",\"type\":\"CDSView\"},{\"attributes\":{},\"id\":\"1499\",\"type\":\"BasicTicker\"},{\"attributes\":{\"axis\":{\"id\":\"1498\"},\"dimension\":1,\"ticker\":null},\"id\":\"1501\",\"type\":\"Grid\"},{\"attributes\":{\"line_color\":\"orange\",\"x\":{\"field\":\"x\"},\"y\":{\"field\":\"y\"}},\"id\":\"1539\",\"type\":\"Line\"},{\"attributes\":{\"axis_label\":\"\\u0394E [k_BT]\",\"formatter\":{\"id\":\"1832\"},\"major_label_policy\":{\"id\":\"1831\"},\"ticker\":{\"id\":\"1495\"}},\"id\":\"1494\",\"type\":\"LinearAxis\"},{\"attributes\":{\"data_source\":{\"id\":\"1533\"},\"glyph\":{\"id\":\"1534\"},\"hover_glyph\":null,\"muted_glyph\":null,\"nonselection_glyph\":{\"id\":\"1535\"},\"view\":{\"id\":\"1537\"}},\"id\":\"1536\",\"type\":\"GlyphRenderer\"},{\"attributes\":{\"data_source\":{\"id\":\"1563\"},\"glyph\":{\"id\":\"1564\"},\"hover_glyph\":null,\"muted_glyph\":null,\"nonselection_glyph\":{\"id\":\"1565\"},\"view\":{\"id\":\"1567\"}},\"id\":\"1566\",\"type\":\"GlyphRenderer\"},{\"attributes\":{\"line_color\":\"orange\",\"x\":{\"field\":\"x\"},\"y\":{\"field\":\"y\"}},\"id\":\"1514\",\"type\":\"Line\"},{\"attributes\":{},\"id\":\"1980\",\"type\":\"UnionRenderers\"},{\"attributes\":{\"source\":{\"id\":\"1518\"}},\"id\":\"1522\",\"type\":\"CDSView\"},{\"attributes\":{\"fill_alpha\":0.1,\"fill_color\":\"orange\",\"x\":{\"field\":\"x\"},\"y1\":{\"field\":\"y1\"},\"y2\":{\"field\":\"y2\"}},\"id\":\"1520\",\"type\":\"VArea\"},{\"attributes\":{},\"id\":\"1950\",\"type\":\"UnionRenderers\"},{\"attributes\":{\"source\":{\"id\":\"1553\"}},\"id\":\"1557\",\"type\":\"CDSView\"},{\"attributes\":{\"line_alpha\":0.1,\"line_color\":\"orange\",\"x\":{\"field\":\"x\"},\"y\":{\"field\":\"y\"}},\"id\":\"1510\",\"type\":\"Line\"},{\"attributes\":{},\"id\":\"1979\",\"type\":\"Selection\"},{\"attributes\":{\"data_source\":{\"id\":\"1508\"},\"glyph\":{\"id\":\"1509\"},\"hover_glyph\":null,\"muted_glyph\":null,\"nonselection_glyph\":{\"id\":\"1510\"},\"view\":{\"id\":\"1512\"}},\"id\":\"1511\",\"type\":\"GlyphRenderer\"},{\"attributes\":{\"source\":{\"id\":\"1548\"}},\"id\":\"1552\",\"type\":\"CDSView\"},{\"attributes\":{\"data_source\":{\"id\":\"1553\"},\"glyph\":{\"id\":\"1554\"},\"hover_glyph\":null,\"muted_glyph\":null,\"nonselection_glyph\":{\"id\":\"1555\"},\"view\":{\"id\":\"1557\"}},\"id\":\"1556\",\"type\":\"GlyphRenderer\"},{\"attributes\":{},\"id\":\"2024\",\"type\":\"UnionRenderers\"},{\"attributes\":{\"data_source\":{\"id\":\"1558\"},\"glyph\":{\"id\":\"1559\"},\"hover_glyph\":null,\"muted_glyph\":null,\"nonselection_glyph\":{\"id\":\"1560\"},\"view\":{\"id\":\"1562\"}},\"id\":\"1561\",\"type\":\"GlyphRenderer\"},{\"attributes\":{},\"id\":\"1495\",\"type\":\"BasicTicker\"},{\"attributes\":{},\"id\":\"2021\",\"type\":\"Selection\"},{\"attributes\":{\"line_alpha\":0.1,\"line_color\":\"orange\",\"x\":{\"field\":\"x\"},\"y\":{\"field\":\"y\"}},\"id\":\"1515\",\"type\":\"Line\"},{\"attributes\":{\"data_source\":{\"id\":\"1513\"},\"glyph\":{\"id\":\"1514\"},\"hover_glyph\":null,\"muted_glyph\":null,\"nonselection_glyph\":{\"id\":\"1515\"},\"view\":{\"id\":\"1517\"}},\"id\":\"1516\",\"type\":\"GlyphRenderer\"},{\"attributes\":{\"axis\":{\"id\":\"1494\"},\"ticker\":null},\"id\":\"1497\",\"type\":\"Grid\"},{\"attributes\":{},\"id\":\"2022\",\"type\":\"UnionRenderers\"},{\"attributes\":{\"data\":{\"x\":[-1.0,0.0],\"y1\":[0,0],\"y2\":[0.10028335935934937,0.10028335935934937]},\"selected\":{\"id\":\"2013\"},\"selection_policy\":{\"id\":\"2014\"}},\"id\":\"1518\",\"type\":\"ColumnDataSource\"},{\"attributes\":{},\"id\":\"2025\",\"type\":\"Selection\"},{\"attributes\":{\"data_source\":{\"id\":\"1503\"},\"glyph\":{\"id\":\"1504\"},\"hover_glyph\":null,\"muted_glyph\":null,\"nonselection_glyph\":{\"id\":\"1505\"},\"view\":{\"id\":\"1507\"}},\"id\":\"1506\",\"type\":\"GlyphRenderer\"},{\"attributes\":{},\"id\":\"1949\",\"type\":\"Selection\"},{\"attributes\":{\"data_source\":{\"id\":\"1538\"},\"glyph\":{\"id\":\"1539\"},\"hover_glyph\":null,\"muted_glyph\":null,\"nonselection_glyph\":{\"id\":\"1540\"},\"view\":{\"id\":\"1542\"}},\"id\":\"1541\",\"type\":\"GlyphRenderer\"},{\"attributes\":{\"data\":{\"x\":[1.0,1.0],\"y\":[0,0.10028335935934937]},\"selected\":{\"id\":\"2021\"},\"selection_policy\":{\"id\":\"2022\"}},\"id\":\"1538\",\"type\":\"ColumnDataSource\"},{\"attributes\":{\"line_color\":\"orange\",\"x\":{\"field\":\"x\"},\"y\":{\"field\":\"y\"}},\"id\":\"1544\",\"type\":\"Line\"},{\"attributes\":{\"background_fill_color\":\"#fafafa\",\"below\":[{\"id\":\"1654\"}],\"center\":[{\"id\":\"1657\"},{\"id\":\"1661\"}],\"frame_height\":200,\"frame_width\":200,\"left\":[{\"id\":\"1658\"}],\"renderers\":[{\"id\":\"1666\"},{\"id\":\"1671\"},{\"id\":\"1676\"},{\"id\":\"1681\"},{\"id\":\"1686\"},{\"id\":\"1691\"},{\"id\":\"1696\"},{\"id\":\"1701\"},{\"id\":\"1706\"},{\"id\":\"1711\"},{\"id\":\"1716\"},{\"id\":\"1721\"},{\"id\":\"1726\"},{\"id\":\"1731\"},{\"id\":\"1736\"},{\"id\":\"1741\"},{\"id\":\"1746\"},{\"id\":\"1751\"},{\"id\":\"1756\"},{\"id\":\"1761\"},{\"id\":\"1766\"},{\"id\":\"1771\"},{\"id\":\"1776\"},{\"id\":\"1781\"},{\"id\":\"1786\"},{\"id\":\"1791\"},{\"id\":\"1796\"},{\"id\":\"1801\"}],\"title\":{\"id\":\"1644\"},\"toolbar\":{\"id\":\"1662\"},\"x_range\":{\"id\":\"1646\"},\"x_scale\":{\"id\":\"1650\"},\"y_range\":{\"id\":\"1648\"},\"y_scale\":{\"id\":\"1652\"}},\"id\":\"1643\",\"subtype\":\"Figure\",\"type\":\"Plot\"},{\"attributes\":{},\"id\":\"1987\",\"type\":\"Selection\"},{\"attributes\":{\"data_source\":{\"id\":\"1518\"},\"glyph\":{\"id\":\"1519\"},\"hover_glyph\":null,\"muted_glyph\":null,\"nonselection_glyph\":{\"id\":\"1520\"},\"view\":{\"id\":\"1522\"}},\"id\":\"1521\",\"type\":\"GlyphRenderer\"},{\"attributes\":{\"data\":{\"left\":{\"__ndarray__\":\"WpNVrkO38r8QUO0NL1Hsv2x5L7/WM+O/kEXj4Pws1L+AhHk2xCSfvwAVFFpkSNA/JOHHe4pB4T/It4XK4l7qPzbHoYwdvvE/iLIAtMlM9j/anV/bddv6PyyJvgIiav8/P7oOFWf8AUDoL74ovUMEQJGlbTwTiwZAOxsdUGnSCEDjkMxjvxkLQIsGfHcVYQ1ANXwri2uoD0DweG3P4PcQQMQzRdmLGxJAmO4c4zY/E0BsqfTs4WIUQEJkzPaMhhVAFh+kADiqFkDq2XsK480XQL6UUxSO8RhAlE8rHjkVGkBoCgMo5DgbQDzF2jGPXBxAEoCyOzqAHUDmOopF5aMeQLr1YU+Qxx9AR9icrJ11IECxtYgxcwchQByTdLZImSFAhnBgOx4rIkDwTUzA87wiQFsrOEXJTiNAxQgkyp7gI0Av5g9PdHIkQJnD+9NJBCVAA6HnWB+WJUBuftPd9CcmQNhbv2LKuSZAQjmr559LJ0CtFpdsdd0nQBf0gvFKbyhAgdFudiABKUDrrlr79ZIpQA==\",\"dtype\":\"float64\",\"order\":\"little\",\"shape\":[50]},\"right\":{\"__ndarray__\":\"EFDtDS9R7L9seS+/1jPjv5BF4+D8LNS/gIR5NsQkn78AFRRaZEjQPyThx3uKQeE/yLeFyuJe6j82x6GMHb7xP4iyALTJTPY/2p1f23Xb+j8sib4CImr/Pz+6DhVn/AFA6C++KL1DBECRpW08E4sGQDsbHVBp0ghA45DMY78ZC0CLBnx3FWENQDV8K4trqA9A8Hhtz+D3EEDEM0XZixsSQJjuHOM2PxNAbKn07OFiFEBCZMz2jIYVQBYfpAA4qhZA6tl7CuPNF0C+lFMUjvEYQJRPKx45FRpAaAoDKOQ4G0A8xdoxj1wcQBKAsjs6gB1A5jqKReWjHkC69WFPkMcfQEfYnKyddSBAsbWIMXMHIUAck3S2SJkhQIZwYDseKyJA8E1MwPO8IkBbKzhFyU4jQMUIJMqe4CNAL+YPT3RyJECZw/vTSQQlQAOh51gfliVAbn7T3fQnJkDYW79iyrkmQEI5q+efSydArRaXbHXdJ0AX9ILxSm8oQIHRbnYgASlA665a+/WSKUBWjEaAyyQqQA==\",\"dtype\":\"float64\",\"order\":\"little\",\"shape\":[50]},\"top\":{\"__ndarray__\":\"GleinY0Fgz9TNSm9dtOGP8TxNvxIb44/xPE2/Ehvjj8aV6KdjQWjP3Aw/cUeK7A//aFWUT9mtT/iMpPBSn+zP3DqdAnFcrQ/qMj7KK5AuD8beuZ7uuHAP3Aw/cUeK8A/jJ/AVRMSwj/9fhJzEorHP/bEmi9sQsM/sQ6E5Qf5wz97XmSQEQK9P0SpGETDYr8/CleinY0Fwz/R8Tb8SG++P3gNuefxTsI/Inrme7rhwD8+nvVX/WfAP1/voAAdG7s/JREa4TNNtz/tpoJIlw68P5ExyMM01cE/z31HdfzftT/tpoJIlw68P44OhOUH+bM/eqTsTGu6uD9DOlW0znutP3qk7Exruqg/QzpVtM57rT81NSm9dtOmPz/GZS2C7KQ/I1einY0Fkz81NSm9dtOWP3cw/cUeK6A/P8ZlLYLslD/R8Tb8SG9+Pwbo3g2ZHpE/nPE2/Ehvjj/R8Tb8SG9+P101Kb1203Y/nPE2/Ehvfj9dNSm9dtN2PwAAAAAAAAAA0fE2/EhvXj81NSm9dtN2Pw==\",\"dtype\":\"float64\",\"order\":\"little\",\"shape\":[50]}},\"selected\":{\"id\":\"1839\"},\"selection_policy\":{\"id\":\"1840\"}},\"id\":\"1023\",\"type\":\"ColumnDataSource\"},{\"attributes\":{\"background_fill_color\":\"#fafafa\",\"below\":[{\"id\":\"1174\"}],\"center\":[{\"id\":\"1177\"},{\"id\":\"1181\"}],\"frame_height\":200,\"frame_width\":200,\"left\":[{\"id\":\"1178\"}],\"renderers\":[{\"id\":\"1186\"},{\"id\":\"1191\"},{\"id\":\"1196\"},{\"id\":\"1201\"},{\"id\":\"1206\"},{\"id\":\"1211\"},{\"id\":\"1216\"},{\"id\":\"1221\"},{\"id\":\"1226\"},{\"id\":\"1231\"},{\"id\":\"1236\"},{\"id\":\"1241\"},{\"id\":\"1246\"},{\"id\":\"1251\"},{\"id\":\"1256\"},{\"id\":\"1261\"},{\"id\":\"1266\"},{\"id\":\"1271\"},{\"id\":\"1276\"},{\"id\":\"1281\"},{\"id\":\"1286\"},{\"id\":\"1291\"},{\"id\":\"1296\"},{\"id\":\"1301\"},{\"id\":\"1306\"},{\"id\":\"1311\"},{\"id\":\"1316\"},{\"id\":\"1321\"}],\"title\":{\"id\":\"1164\"},\"toolbar\":{\"id\":\"1182\"},\"x_range\":{\"id\":\"1166\"},\"x_scale\":{\"id\":\"1170\"},\"y_range\":{\"id\":\"1168\"},\"y_scale\":{\"id\":\"1172\"}},\"id\":\"1163\",\"subtype\":\"Figure\",\"type\":\"Plot\"},{\"attributes\":{},\"id\":\"2068\",\"type\":\"UnionRenderers\"},{\"attributes\":{\"data\":{\"x\":[0.0,0.0],\"y\":[0,0.18390112513315407]},\"selected\":{\"id\":\"1847\"},\"selection_policy\":{\"id\":\"1848\"}},\"id\":\"1043\",\"type\":\"ColumnDataSource\"},{\"attributes\":{},\"id\":\"1967\",\"type\":\"Selection\"},{\"attributes\":{\"source\":{\"id\":\"1023\"}},\"id\":\"1027\",\"type\":\"CDSView\"},{\"attributes\":{\"data\":{\"x\":[6.0,6.0],\"y\":[0,0.18390112513315407]},\"selected\":{\"id\":\"1879\"},\"selection_policy\":{\"id\":\"1880\"}},\"id\":\"1123\",\"type\":\"ColumnDataSource\"},{\"attributes\":{},\"id\":\"1960\",\"type\":\"UnionRenderers\"},{\"attributes\":{\"active_multi\":null},\"id\":\"1022\",\"type\":\"Toolbar\"},{\"attributes\":{\"source\":{\"id\":\"1128\"}},\"id\":\"1132\",\"type\":\"CDSView\"},{\"attributes\":{\"line_alpha\":0.1,\"line_color\":\"orange\",\"x\":{\"field\":\"x\"},\"y\":{\"field\":\"y\"}},\"id\":\"1045\",\"type\":\"Line\"},{\"attributes\":{\"line_alpha\":0.1,\"line_color\":\"orange\",\"x\":{\"field\":\"x\"},\"y\":{\"field\":\"y\"}},\"id\":\"1120\",\"type\":\"Line\"},{\"attributes\":{\"fill_alpha\":0.2,\"fill_color\":\"orange\",\"x\":{\"field\":\"x\"},\"y1\":{\"field\":\"y1\"},\"y2\":{\"field\":\"y2\"}},\"id\":\"1129\",\"type\":\"VArea\"},{\"attributes\":{\"data_source\":{\"id\":\"1138\"},\"glyph\":{\"id\":\"1139\"},\"hover_glyph\":null,\"muted_glyph\":null,\"nonselection_glyph\":{\"id\":\"1140\"},\"view\":{\"id\":\"1142\"}},\"id\":\"1141\",\"type\":\"GlyphRenderer\"},{\"attributes\":{\"data\":{\"x\":[0.0,0.0],\"y\":[0,0.18390112513315407]},\"selected\":{\"id\":\"1843\"},\"selection_policy\":{\"id\":\"1844\"}},\"id\":\"1033\",\"type\":\"ColumnDataSource\"},{\"attributes\":{\"data\":{\"x\":[4.0,4.0],\"y\":[0,0.18390112513315407]},\"selected\":{\"id\":\"1867\"},\"selection_policy\":{\"id\":\"1868\"}},\"id\":\"1093\",\"type\":\"ColumnDataSource\"},{\"attributes\":{\"fill_alpha\":0.1,\"fill_color\":\"orange\",\"x\":{\"field\":\"x\"},\"y1\":{\"field\":\"y1\"},\"y2\":{\"field\":\"y2\"}},\"id\":\"1040\",\"type\":\"VArea\"},{\"attributes\":{\"line_alpha\":0.1,\"line_color\":\"orange\",\"x\":{\"field\":\"x\"},\"y\":{\"field\":\"y\"}},\"id\":\"1095\",\"type\":\"Line\"},{\"attributes\":{\"fill_alpha\":0.2,\"fill_color\":\"orange\",\"x\":{\"field\":\"x\"},\"y1\":{\"field\":\"y1\"},\"y2\":{\"field\":\"y2\"}},\"id\":\"1144\",\"type\":\"VArea\"},{\"attributes\":{\"data_source\":{\"id\":\"1028\"},\"glyph\":{\"id\":\"1029\"},\"hover_glyph\":null,\"muted_glyph\":null,\"nonselection_glyph\":{\"id\":\"1030\"},\"view\":{\"id\":\"1032\"}},\"id\":\"1031\",\"type\":\"GlyphRenderer\"},{\"attributes\":{\"source\":{\"id\":\"1133\"}},\"id\":\"1137\",\"type\":\"CDSView\"},{\"attributes\":{\"line_alpha\":0.1,\"line_color\":\"orange\",\"x\":{\"field\":\"x\"},\"y\":{\"field\":\"y\"}},\"id\":\"1090\",\"type\":\"Line\"},{\"attributes\":{\"line_color\":\"orange\",\"x\":{\"field\":\"x\"},\"y\":{\"field\":\"y\"}},\"id\":\"1134\",\"type\":\"Line\"},{\"attributes\":{\"fill_alpha\":0.1,\"fill_color\":\"orange\",\"x\":{\"field\":\"x\"},\"y1\":{\"field\":\"y1\"},\"y2\":{\"field\":\"y2\"}},\"id\":\"1100\",\"type\":\"VArea\"},{\"attributes\":{\"fill_alpha\":0.1,\"fill_color\":\"orange\",\"x\":{\"field\":\"x\"},\"y1\":{\"field\":\"y1\"},\"y2\":{\"field\":\"y2\"}},\"id\":\"1130\",\"type\":\"VArea\"},{\"attributes\":{\"data\":{\"x\":[6.0,7.0],\"y1\":[0,0],\"y2\":[0.18390112513315407,0.18390112513315407]},\"selected\":{\"id\":\"1887\"},\"selection_policy\":{\"id\":\"1888\"}},\"id\":\"1143\",\"type\":\"ColumnDataSource\"},{\"attributes\":{\"line_alpha\":0.1,\"line_color\":\"orange\",\"x\":{\"field\":\"x\"},\"y\":{\"field\":\"y\"}},\"id\":\"1135\",\"type\":\"Line\"},{\"attributes\":{},\"id\":\"1959\",\"type\":\"Selection\"},{\"attributes\":{\"source\":{\"id\":\"1083\"}},\"id\":\"1087\",\"type\":\"CDSView\"},{\"attributes\":{\"line_color\":\"orange\",\"x\":{\"field\":\"x\"},\"y\":{\"field\":\"y\"}},\"id\":\"1139\",\"type\":\"Line\"},{\"attributes\":{},\"id\":\"2064\",\"type\":\"UnionRenderers\"},{\"attributes\":{\"data_source\":{\"id\":\"1113\"},\"glyph\":{\"id\":\"1114\"},\"hover_glyph\":null,\"muted_glyph\":null,\"nonselection_glyph\":{\"id\":\"1115\"},\"view\":{\"id\":\"1117\"}},\"id\":\"1116\",\"type\":\"GlyphRenderer\"},{\"attributes\":{\"data\":{\"x\":[5.0,5.0],\"y\":[0,0.18390112513315407]},\"selected\":{\"id\":\"1877\"},\"selection_policy\":{\"id\":\"1878\"}},\"id\":\"1118\",\"type\":\"ColumnDataSource\"},{\"attributes\":{\"line_color\":\"orange\",\"x\":{\"field\":\"x\"},\"y\":{\"field\":\"y\"}},\"id\":\"1149\",\"type\":\"Line\"},{\"attributes\":{},\"id\":\"2063\",\"type\":\"Selection\"},{\"attributes\":{\"line_alpha\":0.1,\"line_color\":\"orange\",\"x\":{\"field\":\"x\"},\"y\":{\"field\":\"y\"}},\"id\":\"1150\",\"type\":\"Line\"},{\"attributes\":{\"data_source\":{\"id\":\"1108\"},\"glyph\":{\"id\":\"1109\"},\"hover_glyph\":null,\"muted_glyph\":null,\"nonselection_glyph\":{\"id\":\"1110\"},\"view\":{\"id\":\"1112\"}},\"id\":\"1111\",\"type\":\"GlyphRenderer\"},{\"attributes\":{\"data_source\":{\"id\":\"1158\"},\"glyph\":{\"id\":\"1159\"},\"hover_glyph\":null,\"muted_glyph\":null,\"nonselection_glyph\":{\"id\":\"1160\"},\"view\":{\"id\":\"1162\"}},\"id\":\"1161\",\"type\":\"GlyphRenderer\"},{\"attributes\":{\"line_alpha\":0.1,\"line_color\":\"orange\",\"x\":{\"field\":\"x\"},\"y\":{\"field\":\"y\"}},\"id\":\"1030\",\"type\":\"Line\"},{\"attributes\":{\"data_source\":{\"id\":\"1038\"},\"glyph\":{\"id\":\"1039\"},\"hover_glyph\":null,\"muted_glyph\":null,\"nonselection_glyph\":{\"id\":\"1040\"},\"view\":{\"id\":\"1042\"}},\"id\":\"1041\",\"type\":\"GlyphRenderer\"},{\"attributes\":{\"fill_alpha\":0.2,\"fill_color\":\"orange\",\"x\":{\"field\":\"x\"},\"y1\":{\"field\":\"y1\"},\"y2\":{\"field\":\"y2\"}},\"id\":\"1099\",\"type\":\"VArea\"},{\"attributes\":{\"data\":{\"x\":[7.0,7.0],\"y\":[0,0.18390112513315407]},\"selected\":{\"id\":\"1889\"},\"selection_policy\":{\"id\":\"1890\"}},\"id\":\"1148\",\"type\":\"ColumnDataSource\"},{\"attributes\":{},\"id\":\"1961\",\"type\":\"Selection\"},{\"attributes\":{\"line_color\":\"orange\",\"x\":{\"field\":\"x\"},\"y\":{\"field\":\"y\"}},\"id\":\"1049\",\"type\":\"Line\"},{\"attributes\":{\"data\":{\"x\":[1.0,1.0],\"y\":[0,0.18390112513315407]},\"selected\":{\"id\":\"1849\"},\"selection_policy\":{\"id\":\"1850\"}},\"id\":\"1048\",\"type\":\"ColumnDataSource\"},{\"attributes\":{\"line_color\":\"orange\",\"x\":{\"field\":\"x\"},\"y\":{\"field\":\"y\"}},\"id\":\"1044\",\"type\":\"Line\"},{\"attributes\":{\"line_color\":\"orange\",\"x\":{\"field\":\"x\"},\"y\":{\"field\":\"y\"}},\"id\":\"1029\",\"type\":\"Line\"},{\"attributes\":{},\"id\":\"1966\",\"type\":\"UnionRenderers\"},{\"attributes\":{\"source\":{\"id\":\"1028\"}},\"id\":\"1032\",\"type\":\"CDSView\"},{\"attributes\":{},\"id\":\"2066\",\"type\":\"UnionRenderers\"},{\"attributes\":{\"data_source\":{\"id\":\"1043\"},\"glyph\":{\"id\":\"1044\"},\"hover_glyph\":null,\"muted_glyph\":null,\"nonselection_glyph\":{\"id\":\"1045\"},\"view\":{\"id\":\"1047\"}},\"id\":\"1046\",\"type\":\"GlyphRenderer\"},{\"attributes\":{\"data_source\":{\"id\":\"1048\"},\"glyph\":{\"id\":\"1049\"},\"hover_glyph\":null,\"muted_glyph\":null,\"nonselection_glyph\":{\"id\":\"1050\"},\"view\":{\"id\":\"1052\"}},\"id\":\"1051\",\"type\":\"GlyphRenderer\"},{\"attributes\":{\"data_source\":{\"id\":\"1133\"},\"glyph\":{\"id\":\"1134\"},\"hover_glyph\":null,\"muted_glyph\":null,\"nonselection_glyph\":{\"id\":\"1135\"},\"view\":{\"id\":\"1137\"}},\"id\":\"1136\",\"type\":\"GlyphRenderer\"},{\"attributes\":{\"source\":{\"id\":\"1038\"}},\"id\":\"1042\",\"type\":\"CDSView\"},{\"attributes\":{\"data\":{\"x\":[3.0,4.0],\"y1\":[0,0],\"y2\":[0.18390112513315407,0.18390112513315407]},\"selected\":{\"id\":\"1869\"},\"selection_policy\":{\"id\":\"1870\"}},\"id\":\"1098\",\"type\":\"ColumnDataSource\"},{\"attributes\":{\"line_alpha\":0.1,\"line_color\":\"orange\",\"x\":{\"field\":\"x\"},\"y\":{\"field\":\"y\"}},\"id\":\"1110\",\"type\":\"Line\"},{\"attributes\":{\"fill_alpha\":0.2,\"fill_color\":\"orange\",\"x\":{\"field\":\"x\"},\"y1\":{\"field\":\"y1\"},\"y2\":{\"field\":\"y2\"}},\"id\":\"1039\",\"type\":\"VArea\"},{\"attributes\":{\"data_source\":{\"id\":\"1033\"},\"glyph\":{\"id\":\"1034\"},\"hover_glyph\":null,\"muted_glyph\":null,\"nonselection_glyph\":{\"id\":\"1035\"},\"view\":{\"id\":\"1037\"}},\"id\":\"1036\",\"type\":\"GlyphRenderer\"},{\"attributes\":{},\"id\":\"1963\",\"type\":\"Selection\"},{\"attributes\":{\"source\":{\"id\":\"1043\"}},\"id\":\"1047\",\"type\":\"CDSView\"},{\"attributes\":{\"line_color\":\"orange\",\"x\":{\"field\":\"x\"},\"y\":{\"field\":\"y\"}},\"id\":\"1094\",\"type\":\"Line\"},{\"attributes\":{\"line_color\":\"orange\",\"x\":{\"field\":\"x\"},\"y\":{\"field\":\"y\"}},\"id\":\"1119\",\"type\":\"Line\"},{\"attributes\":{\"data\":{\"x\":[7.0,7.0],\"y\":[0,0.18390112513315407]},\"selected\":{\"id\":\"1885\"},\"selection_policy\":{\"id\":\"1886\"}},\"id\":\"1138\",\"type\":\"ColumnDataSource\"},{\"attributes\":{\"data_source\":{\"id\":\"1053\"},\"glyph\":{\"id\":\"1054\"},\"hover_glyph\":null,\"muted_glyph\":null,\"nonselection_glyph\":{\"id\":\"1055\"},\"view\":{\"id\":\"1057\"}},\"id\":\"1056\",\"type\":\"GlyphRenderer\"},{\"attributes\":{\"source\":{\"id\":\"1033\"}},\"id\":\"1037\",\"type\":\"CDSView\"},{\"attributes\":{\"source\":{\"id\":\"1088\"}},\"id\":\"1092\",\"type\":\"CDSView\"},{\"attributes\":{\"data_source\":{\"id\":\"1023\"},\"glyph\":{\"id\":\"1024\"},\"hover_glyph\":null,\"muted_glyph\":null,\"nonselection_glyph\":{\"id\":\"1025\"},\"view\":{\"id\":\"1027\"}},\"id\":\"1026\",\"type\":\"GlyphRenderer\"},{\"attributes\":{\"data_source\":{\"id\":\"1093\"},\"glyph\":{\"id\":\"1094\"},\"hover_glyph\":null,\"muted_glyph\":null,\"nonselection_glyph\":{\"id\":\"1095\"},\"view\":{\"id\":\"1097\"}},\"id\":\"1096\",\"type\":\"GlyphRenderer\"},{\"attributes\":{\"data\":{\"x\":[-1.0,-1.0],\"y\":[0,0.18390112513315407]},\"selected\":{\"id\":\"1841\"},\"selection_policy\":{\"id\":\"1842\"}},\"id\":\"1028\",\"type\":\"ColumnDataSource\"},{\"attributes\":{\"data_source\":{\"id\":\"1098\"},\"glyph\":{\"id\":\"1099\"},\"hover_glyph\":null,\"muted_glyph\":null,\"nonselection_glyph\":{\"id\":\"1100\"},\"view\":{\"id\":\"1102\"}},\"id\":\"1101\",\"type\":\"GlyphRenderer\"},{\"attributes\":{\"line_color\":\"orange\",\"x\":{\"field\":\"x\"},\"y\":{\"field\":\"y\"}},\"id\":\"1034\",\"type\":\"Line\"},{\"attributes\":{\"data\":{\"x\":[3.0,3.0],\"y\":[0,0.18390112513315407]},\"selected\":{\"id\":\"1865\"},\"selection_policy\":{\"id\":\"1866\"}},\"id\":\"1088\",\"type\":\"ColumnDataSource\"},{\"attributes\":{},\"id\":\"1964\",\"type\":\"UnionRenderers\"},{\"attributes\":{\"line_alpha\":0.1,\"line_color\":\"orange\",\"x\":{\"field\":\"x\"},\"y\":{\"field\":\"y\"}},\"id\":\"1035\",\"type\":\"Line\"},{\"attributes\":{\"fill_alpha\":0.1,\"fill_color\":\"orange\",\"x\":{\"field\":\"x\"},\"y1\":{\"field\":\"y1\"},\"y2\":{\"field\":\"y2\"}},\"id\":\"1115\",\"type\":\"VArea\"},{\"attributes\":{\"source\":{\"id\":\"1108\"}},\"id\":\"1112\",\"type\":\"CDSView\"},{\"attributes\":{\"data\":{\"x\":[-1.0,0.0],\"y1\":[0,0],\"y2\":[0.18390112513315407,0.18390112513315407]},\"selected\":{\"id\":\"1845\"},\"selection_policy\":{\"id\":\"1846\"}},\"id\":\"1038\",\"type\":\"ColumnDataSource\"},{\"attributes\":{\"data\":{\"x\":[4.0,5.0],\"y1\":[0,0],\"y2\":[0.18390112513315407,0.18390112513315407]},\"selected\":{\"id\":\"1875\"},\"selection_policy\":{\"id\":\"1876\"}},\"id\":\"1113\",\"type\":\"ColumnDataSource\"},{\"attributes\":{\"bottom\":{\"value\":0},\"fill_alpha\":{\"value\":0.1},\"fill_color\":{\"value\":\"navy\"},\"left\":{\"field\":\"left\"},\"line_alpha\":{\"value\":0.1},\"line_color\":{\"value\":\"white\"},\"right\":{\"field\":\"right\"},\"top\":{\"field\":\"top\"}},\"id\":\"1025\",\"type\":\"Quad\"},{\"attributes\":{\"source\":{\"id\":\"1098\"}},\"id\":\"1102\",\"type\":\"CDSView\"},{\"attributes\":{},\"id\":\"1927\",\"type\":\"Selection\"},{\"attributes\":{\"data\":{\"x\":[5.0,5.0],\"y\":[0,0.18390112513315407]},\"selected\":{\"id\":\"1873\"},\"selection_policy\":{\"id\":\"1874\"}},\"id\":\"1108\",\"type\":\"ColumnDataSource\"},{\"attributes\":{},\"id\":\"2065\",\"type\":\"Selection\"},{\"attributes\":{\"data_source\":{\"id\":\"1128\"},\"glyph\":{\"id\":\"1129\"},\"hover_glyph\":null,\"muted_glyph\":null,\"nonselection_glyph\":{\"id\":\"1130\"},\"view\":{\"id\":\"1132\"}},\"id\":\"1131\",\"type\":\"GlyphRenderer\"},{\"attributes\":{\"data\":{\"x\":[5.0,6.0],\"y1\":[0,0],\"y2\":[0.18390112513315407,0.18390112513315407]},\"selected\":{\"id\":\"1881\"},\"selection_policy\":{\"id\":\"1882\"}},\"id\":\"1128\",\"type\":\"ColumnDataSource\"},{\"attributes\":{\"data_source\":{\"id\":\"1103\"},\"glyph\":{\"id\":\"1104\"},\"hover_glyph\":null,\"muted_glyph\":null,\"nonselection_glyph\":{\"id\":\"1105\"},\"view\":{\"id\":\"1107\"}},\"id\":\"1106\",\"type\":\"GlyphRenderer\"},{\"attributes\":{\"source\":{\"id\":\"1123\"}},\"id\":\"1127\",\"type\":\"CDSView\"},{\"attributes\":{\"data_source\":{\"id\":\"1148\"},\"glyph\":{\"id\":\"1149\"},\"hover_glyph\":null,\"muted_glyph\":null,\"nonselection_glyph\":{\"id\":\"1150\"},\"view\":{\"id\":\"1152\"}},\"id\":\"1151\",\"type\":\"GlyphRenderer\"},{\"attributes\":{\"line_alpha\":0.1,\"line_color\":\"orange\",\"x\":{\"field\":\"x\"},\"y\":{\"field\":\"y\"}},\"id\":\"1105\",\"type\":\"Line\"},{\"attributes\":{\"data_source\":{\"id\":\"1153\"},\"glyph\":{\"id\":\"1154\"},\"hover_glyph\":null,\"muted_glyph\":null,\"nonselection_glyph\":{\"id\":\"1155\"},\"view\":{\"id\":\"1157\"}},\"id\":\"1156\",\"type\":\"GlyphRenderer\"},{\"attributes\":{\"data\":{\"x\":[2.0,3.0],\"y1\":[0,0],\"y2\":[0.18390112513315407,0.18390112513315407]},\"selected\":{\"id\":\"1863\"},\"selection_policy\":{\"id\":\"1864\"}},\"id\":\"1083\",\"type\":\"ColumnDataSource\"},{\"attributes\":{\"data_source\":{\"id\":\"1123\"},\"glyph\":{\"id\":\"1124\"},\"hover_glyph\":null,\"muted_glyph\":null,\"nonselection_glyph\":{\"id\":\"1125\"},\"view\":{\"id\":\"1127\"}},\"id\":\"1126\",\"type\":\"GlyphRenderer\"},{\"attributes\":{\"data\":{\"x\":[4.0,4.0],\"y\":[0,0.18390112513315407]},\"selected\":{\"id\":\"1871\"},\"selection_policy\":{\"id\":\"1872\"}},\"id\":\"1103\",\"type\":\"ColumnDataSource\"},{\"attributes\":{},\"id\":\"2067\",\"type\":\"Selection\"},{\"attributes\":{\"line_color\":\"orange\",\"x\":{\"field\":\"x\"},\"y\":{\"field\":\"y\"}},\"id\":\"1104\",\"type\":\"Line\"},{\"attributes\":{\"source\":{\"id\":\"1138\"}},\"id\":\"1142\",\"type\":\"CDSView\"},{\"attributes\":{\"data_source\":{\"id\":\"1088\"},\"glyph\":{\"id\":\"1089\"},\"hover_glyph\":null,\"muted_glyph\":null,\"nonselection_glyph\":{\"id\":\"1090\"},\"view\":{\"id\":\"1092\"}},\"id\":\"1091\",\"type\":\"GlyphRenderer\"},{\"attributes\":{\"line_alpha\":0.1,\"line_color\":\"orange\",\"x\":{\"field\":\"x\"},\"y\":{\"field\":\"y\"}},\"id\":\"1125\",\"type\":\"Line\"},{\"attributes\":{\"fill_alpha\":0.1,\"fill_color\":\"orange\",\"x\":{\"field\":\"x\"},\"y1\":{\"field\":\"y1\"},\"y2\":{\"field\":\"y2\"}},\"id\":\"1085\",\"type\":\"VArea\"},{\"attributes\":{\"fill_alpha\":0.2,\"fill_color\":\"orange\",\"x\":{\"field\":\"x\"},\"y1\":{\"field\":\"y1\"},\"y2\":{\"field\":\"y2\"}},\"id\":\"1084\",\"type\":\"VArea\"},{\"attributes\":{\"source\":{\"id\":\"1148\"}},\"id\":\"1152\",\"type\":\"CDSView\"},{\"attributes\":{\"source\":{\"id\":\"1093\"}},\"id\":\"1097\",\"type\":\"CDSView\"},{\"attributes\":{\"source\":{\"id\":\"1143\"}},\"id\":\"1147\",\"type\":\"CDSView\"},{\"attributes\":{\"line_color\":\"orange\",\"x\":{\"field\":\"x\"},\"y\":{\"field\":\"y\"}},\"id\":\"1109\",\"type\":\"Line\"},{\"attributes\":{\"line_alpha\":0.1,\"line_color\":\"orange\",\"x\":{\"field\":\"x\"},\"y\":{\"field\":\"y\"}},\"id\":\"1140\",\"type\":\"Line\"},{\"attributes\":{\"source\":{\"id\":\"1103\"}},\"id\":\"1107\",\"type\":\"CDSView\"},{\"attributes\":{},\"id\":\"1962\",\"type\":\"UnionRenderers\"},{\"attributes\":{},\"id\":\"2070\",\"type\":\"UnionRenderers\"},{\"attributes\":{\"fill_alpha\":0.2,\"fill_color\":\"orange\",\"x\":{\"field\":\"x\"},\"y1\":{\"field\":\"y1\"},\"y2\":{\"field\":\"y2\"}},\"id\":\"1114\",\"type\":\"VArea\"},{\"attributes\":{},\"id\":\"1968\",\"type\":\"UnionRenderers\"},{\"attributes\":{\"fill_alpha\":0.1,\"fill_color\":\"orange\",\"x\":{\"field\":\"x\"},\"y1\":{\"field\":\"y1\"},\"y2\":{\"field\":\"y2\"}},\"id\":\"1145\",\"type\":\"VArea\"},{\"attributes\":{\"source\":{\"id\":\"1118\"}},\"id\":\"1122\",\"type\":\"CDSView\"},{\"attributes\":{},\"id\":\"2069\",\"type\":\"Selection\"},{\"attributes\":{\"data_source\":{\"id\":\"1143\"},\"glyph\":{\"id\":\"1144\"},\"hover_glyph\":null,\"muted_glyph\":null,\"nonselection_glyph\":{\"id\":\"1145\"},\"view\":{\"id\":\"1147\"}},\"id\":\"1146\",\"type\":\"GlyphRenderer\"},{\"attributes\":{\"data_source\":{\"id\":\"1118\"},\"glyph\":{\"id\":\"1119\"},\"hover_glyph\":null,\"muted_glyph\":null,\"nonselection_glyph\":{\"id\":\"1120\"},\"view\":{\"id\":\"1122\"}},\"id\":\"1121\",\"type\":\"GlyphRenderer\"},{\"attributes\":{\"line_color\":\"orange\",\"x\":{\"field\":\"x\"},\"y\":{\"field\":\"y\"}},\"id\":\"1089\",\"type\":\"Line\"},{\"attributes\":{\"source\":{\"id\":\"1113\"}},\"id\":\"1117\",\"type\":\"CDSView\"},{\"attributes\":{\"line_color\":\"orange\",\"x\":{\"field\":\"x\"},\"y\":{\"field\":\"y\"}},\"id\":\"1124\",\"type\":\"Line\"},{\"attributes\":{\"data\":{\"x\":[6.0,6.0],\"y\":[0,0.18390112513315407]},\"selected\":{\"id\":\"1883\"},\"selection_policy\":{\"id\":\"1884\"}},\"id\":\"1133\",\"type\":\"ColumnDataSource\"},{\"attributes\":{},\"id\":\"1965\",\"type\":\"Selection\"},{\"attributes\":{\"source\":{\"id\":\"1213\"}},\"id\":\"1217\",\"type\":\"CDSView\"},{\"attributes\":{},\"id\":\"1822\",\"type\":\"AllLabels\"},{\"attributes\":{\"data_source\":{\"id\":\"1218\"},\"glyph\":{\"id\":\"1219\"},\"hover_glyph\":null,\"muted_glyph\":null,\"nonselection_glyph\":{\"id\":\"1220\"},\"view\":{\"id\":\"1222\"}},\"id\":\"1221\",\"type\":\"GlyphRenderer\"},{\"attributes\":{\"data\":{\"x\":[1.0,1.0],\"y\":[0,0.09809796312312793]},\"selected\":{\"id\":\"2077\"},\"selection_policy\":{\"id\":\"2078\"}},\"id\":\"1698\",\"type\":\"ColumnDataSource\"},{\"attributes\":{\"data_source\":{\"id\":\"1238\"},\"glyph\":{\"id\":\"1239\"},\"hover_glyph\":null,\"muted_glyph\":null,\"nonselection_glyph\":{\"id\":\"1240\"},\"view\":{\"id\":\"1242\"}},\"id\":\"1241\",\"type\":\"GlyphRenderer\"},{\"attributes\":{\"line_color\":\"orange\",\"x\":{\"field\":\"x\"},\"y\":{\"field\":\"y\"}},\"id\":\"1704\",\"type\":\"Line\"},{\"attributes\":{\"line_color\":\"orange\",\"x\":{\"field\":\"x\"},\"y\":{\"field\":\"y\"}},\"id\":\"1209\",\"type\":\"Line\"},{\"attributes\":{\"source\":{\"id\":\"1708\"}},\"id\":\"1712\",\"type\":\"CDSView\"},{\"attributes\":{\"data_source\":{\"id\":\"1698\"},\"glyph\":{\"id\":\"1699\"},\"hover_glyph\":null,\"muted_glyph\":null,\"nonselection_glyph\":{\"id\":\"1700\"},\"view\":{\"id\":\"1702\"}},\"id\":\"1701\",\"type\":\"GlyphRenderer\"},{\"attributes\":{\"source\":{\"id\":\"1218\"}},\"id\":\"1222\",\"type\":\"CDSView\"},{\"attributes\":{\"fill_alpha\":0.1,\"fill_color\":\"orange\",\"x\":{\"field\":\"x\"},\"y1\":{\"field\":\"y1\"},\"y2\":{\"field\":\"y2\"}},\"id\":\"1230\",\"type\":\"VArea\"},{\"attributes\":{\"data_source\":{\"id\":\"1703\"},\"glyph\":{\"id\":\"1704\"},\"hover_glyph\":null,\"muted_glyph\":null,\"nonselection_glyph\":{\"id\":\"1705\"},\"view\":{\"id\":\"1707\"}},\"id\":\"1706\",\"type\":\"GlyphRenderer\"},{\"attributes\":{},\"id\":\"1823\",\"type\":\"BasicTickFormatter\"},{\"attributes\":{\"data_source\":{\"id\":\"1223\"},\"glyph\":{\"id\":\"1224\"},\"hover_glyph\":null,\"muted_glyph\":null,\"nonselection_glyph\":{\"id\":\"1225\"},\"view\":{\"id\":\"1227\"}},\"id\":\"1226\",\"type\":\"GlyphRenderer\"},{\"attributes\":{\"data_source\":{\"id\":\"1738\"},\"glyph\":{\"id\":\"1739\"},\"hover_glyph\":null,\"muted_glyph\":null,\"nonselection_glyph\":{\"id\":\"1740\"},\"view\":{\"id\":\"1742\"}},\"id\":\"1741\",\"type\":\"GlyphRenderer\"},{\"attributes\":{\"line_color\":\"orange\",\"x\":{\"field\":\"x\"},\"y\":{\"field\":\"y\"}},\"id\":\"1219\",\"type\":\"Line\"},{\"attributes\":{\"line_color\":\"orange\",\"x\":{\"field\":\"x\"},\"y\":{\"field\":\"y\"}},\"id\":\"1719\",\"type\":\"Line\"},{\"attributes\":{\"line_alpha\":0.1,\"line_color\":\"orange\",\"x\":{\"field\":\"x\"},\"y\":{\"field\":\"y\"}},\"id\":\"1240\",\"type\":\"Line\"},{\"attributes\":{\"data\":{\"x\":[2.0,2.0],\"y\":[0,0.09809796312312793]},\"selected\":{\"id\":\"2079\"},\"selection_policy\":{\"id\":\"2080\"}},\"id\":\"1703\",\"type\":\"ColumnDataSource\"},{\"attributes\":{\"line_color\":\"orange\",\"x\":{\"field\":\"x\"},\"y\":{\"field\":\"y\"}},\"id\":\"1239\",\"type\":\"Line\"},{\"attributes\":{\"data_source\":{\"id\":\"1768\"},\"glyph\":{\"id\":\"1769\"},\"hover_glyph\":null,\"muted_glyph\":null,\"nonselection_glyph\":{\"id\":\"1770\"},\"view\":{\"id\":\"1772\"}},\"id\":\"1771\",\"type\":\"GlyphRenderer\"},{\"attributes\":{\"source\":{\"id\":\"1248\"}},\"id\":\"1252\",\"type\":\"CDSView\"},{\"attributes\":{},\"id\":\"2109\",\"type\":\"Selection\"},{\"attributes\":{\"line_alpha\":0.1,\"line_color\":\"orange\",\"x\":{\"field\":\"x\"},\"y\":{\"field\":\"y\"}},\"id\":\"1205\",\"type\":\"Line\"},{\"attributes\":{\"source\":{\"id\":\"1758\"}},\"id\":\"1762\",\"type\":\"CDSView\"},{\"attributes\":{\"data_source\":{\"id\":\"1213\"},\"glyph\":{\"id\":\"1214\"},\"hover_glyph\":null,\"muted_glyph\":null,\"nonselection_glyph\":{\"id\":\"1215\"},\"view\":{\"id\":\"1217\"}},\"id\":\"1216\",\"type\":\"GlyphRenderer\"},{\"attributes\":{\"data\":{\"x\":[5.0,5.0],\"y\":[0,0.09809796312312793]},\"selected\":{\"id\":\"2101\"},\"selection_policy\":{\"id\":\"2102\"}},\"id\":\"1758\",\"type\":\"ColumnDataSource\"},{\"attributes\":{\"data_source\":{\"id\":\"1743\"},\"glyph\":{\"id\":\"1744\"},\"hover_glyph\":null,\"muted_glyph\":null,\"nonselection_glyph\":{\"id\":\"1745\"},\"view\":{\"id\":\"1747\"}},\"id\":\"1746\",\"type\":\"GlyphRenderer\"},{\"attributes\":{\"data\":{\"x\":[4.0,4.0],\"y\":[0,0.1204523954086467]},\"selected\":{\"id\":\"1923\"},\"selection_policy\":{\"id\":\"1924\"}},\"id\":\"1253\",\"type\":\"ColumnDataSource\"},{\"attributes\":{\"line_color\":\"orange\",\"x\":{\"field\":\"x\"},\"y\":{\"field\":\"y\"}},\"id\":\"1194\",\"type\":\"Line\"},{\"attributes\":{\"line_alpha\":0.1,\"line_color\":\"orange\",\"x\":{\"field\":\"x\"},\"y\":{\"field\":\"y\"}},\"id\":\"1750\",\"type\":\"Line\"},{\"attributes\":{\"data_source\":{\"id\":\"1748\"},\"glyph\":{\"id\":\"1749\"},\"hover_glyph\":null,\"muted_glyph\":null,\"nonselection_glyph\":{\"id\":\"1750\"},\"view\":{\"id\":\"1752\"}},\"id\":\"1751\",\"type\":\"GlyphRenderer\"},{\"attributes\":{\"line_alpha\":0.1,\"line_color\":\"orange\",\"x\":{\"field\":\"x\"},\"y\":{\"field\":\"y\"}},\"id\":\"1225\",\"type\":\"Line\"},{\"attributes\":{\"source\":{\"id\":\"1748\"}},\"id\":\"1752\",\"type\":\"CDSView\"},{\"attributes\":{\"data\":{\"x\":[2.0,2.0],\"y\":[0,0.1204523954086467]},\"selected\":{\"id\":\"1911\"},\"selection_policy\":{\"id\":\"1912\"}},\"id\":\"1223\",\"type\":\"ColumnDataSource\"},{\"attributes\":{\"line_color\":\"orange\",\"x\":{\"field\":\"x\"},\"y\":{\"field\":\"y\"}},\"id\":\"1699\",\"type\":\"Line\"},{\"attributes\":{\"line_alpha\":0.1,\"line_color\":\"orange\",\"x\":{\"field\":\"x\"},\"y\":{\"field\":\"y\"}},\"id\":\"1250\",\"type\":\"Line\"},{\"attributes\":{\"source\":{\"id\":\"1723\"}},\"id\":\"1727\",\"type\":\"CDSView\"},{\"attributes\":{\"bottom\":{\"value\":0},\"fill_alpha\":{\"value\":0.5},\"fill_color\":{\"value\":\"navy\"},\"left\":{\"field\":\"left\"},\"line_alpha\":{\"value\":0.5},\"line_color\":{\"value\":\"white\"},\"right\":{\"field\":\"right\"},\"top\":{\"field\":\"top\"}},\"id\":\"1024\",\"type\":\"Quad\"},{\"attributes\":{\"data\":{\"x\":[3.0,3.0],\"y\":[0,0.1204523954086467]},\"selected\":{\"id\":\"1917\"},\"selection_policy\":{\"id\":\"1918\"}},\"id\":\"1238\",\"type\":\"ColumnDataSource\"},{\"attributes\":{\"fill_alpha\":0.2,\"fill_color\":\"orange\",\"x\":{\"field\":\"x\"},\"y1\":{\"field\":\"y1\"},\"y2\":{\"field\":\"y2\"}},\"id\":\"1709\",\"type\":\"VArea\"},{\"attributes\":{\"line_alpha\":0.1,\"line_color\":\"orange\",\"x\":{\"field\":\"x\"},\"y\":{\"field\":\"y\"}},\"id\":\"1235\",\"type\":\"Line\"},{\"attributes\":{\"data\":{\"x\":[2.0,2.0],\"y\":[0,0.09809796312312793]},\"selected\":{\"id\":\"2083\"},\"selection_policy\":{\"id\":\"2084\"}},\"id\":\"1713\",\"type\":\"ColumnDataSource\"},{\"attributes\":{},\"id\":\"1946\",\"type\":\"UnionRenderers\"},{\"attributes\":{\"line_color\":\"orange\",\"x\":{\"field\":\"x\"},\"y\":{\"field\":\"y\"}},\"id\":\"1254\",\"type\":\"Line\"},{\"attributes\":{},\"id\":\"2110\",\"type\":\"UnionRenderers\"},{\"attributes\":{\"data_source\":{\"id\":\"1183\"},\"glyph\":{\"id\":\"1184\"},\"hover_glyph\":null,\"muted_glyph\":null,\"nonselection_glyph\":{\"id\":\"1185\"},\"view\":{\"id\":\"1187\"}},\"id\":\"1186\",\"type\":\"GlyphRenderer\"},{\"attributes\":{\"data_source\":{\"id\":\"1713\"},\"glyph\":{\"id\":\"1714\"},\"hover_glyph\":null,\"muted_glyph\":null,\"nonselection_glyph\":{\"id\":\"1715\"},\"view\":{\"id\":\"1717\"}},\"id\":\"1716\",\"type\":\"GlyphRenderer\"},{\"attributes\":{},\"id\":\"1948\",\"type\":\"UnionRenderers\"},{\"attributes\":{\"data_source\":{\"id\":\"1203\"},\"glyph\":{\"id\":\"1204\"},\"hover_glyph\":null,\"muted_glyph\":null,\"nonselection_glyph\":{\"id\":\"1205\"},\"view\":{\"id\":\"1207\"}},\"id\":\"1206\",\"type\":\"GlyphRenderer\"},{\"attributes\":{},\"id\":\"1942\",\"type\":\"UnionRenderers\"},{\"attributes\":{\"fill_alpha\":0.2,\"fill_color\":\"orange\",\"x\":{\"field\":\"x\"},\"y1\":{\"field\":\"y1\"},\"y2\":{\"field\":\"y2\"}},\"id\":\"1214\",\"type\":\"VArea\"},{\"attributes\":{\"line_alpha\":0.1,\"line_color\":\"orange\",\"x\":{\"field\":\"x\"},\"y\":{\"field\":\"y\"}},\"id\":\"1745\",\"type\":\"Line\"},{\"attributes\":{},\"id\":\"2103\",\"type\":\"Selection\"},{\"attributes\":{\"data\":{\"x\":[2.0,2.0],\"y\":[0,0.1204523954086467]},\"selected\":{\"id\":\"1915\"},\"selection_policy\":{\"id\":\"1916\"}},\"id\":\"1233\",\"type\":\"ColumnDataSource\"},{\"attributes\":{\"source\":{\"id\":\"1743\"}},\"id\":\"1747\",\"type\":\"CDSView\"},{\"attributes\":{\"data\":{\"x\":[1.0,2.0],\"y1\":[0,0],\"y2\":[0.09809796312312793,0.09809796312312793]},\"selected\":{\"id\":\"2081\"},\"selection_policy\":{\"id\":\"2082\"}},\"id\":\"1708\",\"type\":\"ColumnDataSource\"},{\"attributes\":{\"line_color\":\"orange\",\"x\":{\"field\":\"x\"},\"y\":{\"field\":\"y\"}},\"id\":\"1224\",\"type\":\"Line\"},{\"attributes\":{\"data\":{\"x\":[-1.0,0.0],\"y1\":[0,0],\"y2\":[0.1204523954086467,0.1204523954086467]},\"selected\":{\"id\":\"1901\"},\"selection_policy\":{\"id\":\"1902\"}},\"id\":\"1198\",\"type\":\"ColumnDataSource\"},{\"attributes\":{\"source\":{\"id\":\"1738\"}},\"id\":\"1742\",\"type\":\"CDSView\"},{\"attributes\":{\"data_source\":{\"id\":\"1253\"},\"glyph\":{\"id\":\"1254\"},\"hover_glyph\":null,\"muted_glyph\":null,\"nonselection_glyph\":{\"id\":\"1255\"},\"view\":{\"id\":\"1257\"}},\"id\":\"1256\",\"type\":\"GlyphRenderer\"},{\"attributes\":{\"data\":{\"x\":[4.0,5.0],\"y1\":[0,0],\"y2\":[0.09809796312312793,0.09809796312312793]},\"selected\":{\"id\":\"2099\"},\"selection_policy\":{\"id\":\"2100\"}},\"id\":\"1753\",\"type\":\"ColumnDataSource\"},{\"attributes\":{\"fill_alpha\":0.2,\"fill_color\":\"orange\",\"x\":{\"field\":\"x\"},\"y1\":{\"field\":\"y1\"},\"y2\":{\"field\":\"y2\"}},\"id\":\"1229\",\"type\":\"VArea\"},{\"attributes\":{\"fill_alpha\":0.2,\"fill_color\":\"orange\",\"x\":{\"field\":\"x\"},\"y1\":{\"field\":\"y1\"},\"y2\":{\"field\":\"y2\"}},\"id\":\"1754\",\"type\":\"VArea\"},{\"attributes\":{\"data_source\":{\"id\":\"1198\"},\"glyph\":{\"id\":\"1199\"},\"hover_glyph\":null,\"muted_glyph\":null,\"nonselection_glyph\":{\"id\":\"1200\"},\"view\":{\"id\":\"1202\"}},\"id\":\"1201\",\"type\":\"GlyphRenderer\"},{\"attributes\":{},\"id\":\"2061\",\"type\":\"Selection\"},{\"attributes\":{},\"id\":\"2105\",\"type\":\"Selection\"},{\"attributes\":{\"data\":{\"x\":[0.0,0.0],\"y\":[0,0.1204523954086467]},\"selected\":{\"id\":\"1899\"},\"selection_policy\":{\"id\":\"1900\"}},\"id\":\"1193\",\"type\":\"ColumnDataSource\"},{\"attributes\":{\"line_color\":\"orange\",\"x\":{\"field\":\"x\"},\"y\":{\"field\":\"y\"}},\"id\":\"1759\",\"type\":\"Line\"},{\"attributes\":{\"fill_alpha\":0.1,\"fill_color\":\"orange\",\"x\":{\"field\":\"x\"},\"y1\":{\"field\":\"y1\"},\"y2\":{\"field\":\"y2\"}},\"id\":\"1755\",\"type\":\"VArea\"},{\"attributes\":{\"data\":{\"x\":[0.0,0.0],\"y\":[0,0.1204523954086467]},\"selected\":{\"id\":\"1903\"},\"selection_policy\":{\"id\":\"1904\"}},\"id\":\"1203\",\"type\":\"ColumnDataSource\"},{\"attributes\":{\"data_source\":{\"id\":\"1233\"},\"glyph\":{\"id\":\"1234\"},\"hover_glyph\":null,\"muted_glyph\":null,\"nonselection_glyph\":{\"id\":\"1235\"},\"view\":{\"id\":\"1237\"}},\"id\":\"1236\",\"type\":\"GlyphRenderer\"},{\"attributes\":{},\"id\":\"2062\",\"type\":\"UnionRenderers\"},{\"attributes\":{},\"id\":\"2102\",\"type\":\"UnionRenderers\"},{\"attributes\":{\"line_alpha\":0.1,\"line_color\":\"orange\",\"x\":{\"field\":\"x\"},\"y\":{\"field\":\"y\"}},\"id\":\"1705\",\"type\":\"Line\"},{\"attributes\":{\"source\":{\"id\":\"1703\"}},\"id\":\"1707\",\"type\":\"CDSView\"},{\"attributes\":{\"source\":{\"id\":\"1198\"}},\"id\":\"1202\",\"type\":\"CDSView\"},{\"attributes\":{\"line_color\":\"orange\",\"x\":{\"field\":\"x\"},\"y\":{\"field\":\"y\"}},\"id\":\"1714\",\"type\":\"Line\"},{\"attributes\":{\"data\":{\"x\":[1.0,1.0],\"y\":[0,0.1204523954086467]},\"selected\":{\"id\":\"1909\"},\"selection_policy\":{\"id\":\"1910\"}},\"id\":\"1218\",\"type\":\"ColumnDataSource\"},{\"attributes\":{\"source\":{\"id\":\"1713\"}},\"id\":\"1717\",\"type\":\"CDSView\"},{\"attributes\":{\"line_color\":\"orange\",\"x\":{\"field\":\"x\"},\"y\":{\"field\":\"y\"}},\"id\":\"1234\",\"type\":\"Line\"},{\"attributes\":{\"fill_alpha\":0.1,\"fill_color\":\"orange\",\"x\":{\"field\":\"x\"},\"y1\":{\"field\":\"y1\"},\"y2\":{\"field\":\"y2\"}},\"id\":\"1710\",\"type\":\"VArea\"},{\"attributes\":{\"data_source\":{\"id\":\"1728\"},\"glyph\":{\"id\":\"1729\"},\"hover_glyph\":null,\"muted_glyph\":null,\"nonselection_glyph\":{\"id\":\"1730\"},\"view\":{\"id\":\"1732\"}},\"id\":\"1731\",\"type\":\"GlyphRenderer\"},{\"attributes\":{\"data\":{\"x\":[1.0,2.0],\"y1\":[0,0],\"y2\":[0.1204523954086467,0.1204523954086467]},\"selected\":{\"id\":\"1913\"},\"selection_policy\":{\"id\":\"1914\"}},\"id\":\"1228\",\"type\":\"ColumnDataSource\"},{\"attributes\":{\"source\":{\"id\":\"1223\"}},\"id\":\"1227\",\"type\":\"CDSView\"},{\"attributes\":{\"line_alpha\":0.1,\"line_color\":\"orange\",\"x\":{\"field\":\"x\"},\"y\":{\"field\":\"y\"}},\"id\":\"1715\",\"type\":\"Line\"},{\"attributes\":{\"source\":{\"id\":\"1228\"}},\"id\":\"1232\",\"type\":\"CDSView\"},{\"attributes\":{\"data\":{\"x\":[5.0,5.0],\"y\":[0,0.09809796312312793]},\"selected\":{\"id\":\"2097\"},\"selection_policy\":{\"id\":\"2098\"}},\"id\":\"1748\",\"type\":\"ColumnDataSource\"},{\"attributes\":{\"data_source\":{\"id\":\"1723\"},\"glyph\":{\"id\":\"1724\"},\"hover_glyph\":null,\"muted_glyph\":null,\"nonselection_glyph\":{\"id\":\"1725\"},\"view\":{\"id\":\"1727\"}},\"id\":\"1726\",\"type\":\"GlyphRenderer\"},{\"attributes\":{},\"id\":\"1945\",\"type\":\"Selection\"},{\"attributes\":{\"data\":{\"x\":[3.0,3.0],\"y\":[0,0.1204523954086467]},\"selected\":{\"id\":\"1921\"},\"selection_policy\":{\"id\":\"1922\"}},\"id\":\"1248\",\"type\":\"ColumnDataSource\"},{\"attributes\":{\"line_color\":\"orange\",\"x\":{\"field\":\"x\"},\"y\":{\"field\":\"y\"}},\"id\":\"1744\",\"type\":\"Line\"},{\"attributes\":{\"data\":{\"x\":[-1.0,-1.0],\"y\":[0,0.1204523954086467]},\"selected\":{\"id\":\"1897\"},\"selection_policy\":{\"id\":\"1898\"}},\"id\":\"1188\",\"type\":\"ColumnDataSource\"},{\"attributes\":{\"line_color\":\"orange\",\"x\":{\"field\":\"x\"},\"y\":{\"field\":\"y\"}},\"id\":\"1749\",\"type\":\"Line\"},{\"attributes\":{\"data_source\":{\"id\":\"1248\"},\"glyph\":{\"id\":\"1249\"},\"hover_glyph\":null,\"muted_glyph\":null,\"nonselection_glyph\":{\"id\":\"1250\"},\"view\":{\"id\":\"1252\"}},\"id\":\"1251\",\"type\":\"GlyphRenderer\"},{\"attributes\":{\"data_source\":{\"id\":\"1708\"},\"glyph\":{\"id\":\"1709\"},\"hover_glyph\":null,\"muted_glyph\":null,\"nonselection_glyph\":{\"id\":\"1710\"},\"view\":{\"id\":\"1712\"}},\"id\":\"1711\",\"type\":\"GlyphRenderer\"},{\"attributes\":{\"source\":{\"id\":\"1203\"}},\"id\":\"1207\",\"type\":\"CDSView\"},{\"attributes\":{},\"id\":\"1850\",\"type\":\"UnionRenderers\"},{\"attributes\":{\"data\":{\"x\":[1.0,1.0],\"y\":[0,0.1204523954086467]},\"selected\":{\"id\":\"1905\"},\"selection_policy\":{\"id\":\"1906\"}},\"id\":\"1208\",\"type\":\"ColumnDataSource\"},{\"attributes\":{\"data\":{\"x\":[3.0,4.0],\"y1\":[0,0],\"y2\":[0.09809796312312793,0.09809796312312793]},\"selected\":{\"id\":\"2093\"},\"selection_policy\":{\"id\":\"2094\"}},\"id\":\"1738\",\"type\":\"ColumnDataSource\"},{\"attributes\":{},\"id\":\"1943\",\"type\":\"Selection\"},{\"attributes\":{\"source\":{\"id\":\"1188\"}},\"id\":\"1192\",\"type\":\"CDSView\"},{\"attributes\":{\"fill_alpha\":0.2,\"fill_color\":\"orange\",\"x\":{\"field\":\"x\"},\"y1\":{\"field\":\"y1\"},\"y2\":{\"field\":\"y2\"}},\"id\":\"1739\",\"type\":\"VArea\"},{\"attributes\":{},\"id\":\"2040\",\"type\":\"UnionRenderers\"},{\"attributes\":{\"data_source\":{\"id\":\"1758\"},\"glyph\":{\"id\":\"1759\"},\"hover_glyph\":null,\"muted_glyph\":null,\"nonselection_glyph\":{\"id\":\"1760\"},\"view\":{\"id\":\"1762\"}},\"id\":\"1761\",\"type\":\"GlyphRenderer\"},{\"attributes\":{\"line_alpha\":0.1,\"line_color\":\"orange\",\"x\":{\"field\":\"x\"},\"y\":{\"field\":\"y\"}},\"id\":\"1195\",\"type\":\"Line\"},{\"attributes\":{\"line_alpha\":0.1,\"line_color\":\"orange\",\"x\":{\"field\":\"x\"},\"y\":{\"field\":\"y\"}},\"id\":\"1210\",\"type\":\"Line\"},{\"attributes\":{\"source\":{\"id\":\"1733\"}},\"id\":\"1737\",\"type\":\"CDSView\"},{\"attributes\":{},\"id\":\"2106\",\"type\":\"UnionRenderers\"},{\"attributes\":{\"source\":{\"id\":\"1208\"}},\"id\":\"1212\",\"type\":\"CDSView\"},{\"attributes\":{\"line_alpha\":0.1,\"line_color\":\"orange\",\"x\":{\"field\":\"x\"},\"y\":{\"field\":\"y\"}},\"id\":\"1735\",\"type\":\"Line\"},{\"attributes\":{\"data_source\":{\"id\":\"1753\"},\"glyph\":{\"id\":\"1754\"},\"hover_glyph\":null,\"muted_glyph\":null,\"nonselection_glyph\":{\"id\":\"1755\"},\"view\":{\"id\":\"1757\"}},\"id\":\"1756\",\"type\":\"GlyphRenderer\"},{\"attributes\":{\"source\":{\"id\":\"1193\"}},\"id\":\"1197\",\"type\":\"CDSView\"},{\"attributes\":{},\"id\":\"1941\",\"type\":\"Selection\"},{\"attributes\":{\"line_color\":\"orange\",\"x\":{\"field\":\"x\"},\"y\":{\"field\":\"y\"}},\"id\":\"1204\",\"type\":\"Line\"},{\"attributes\":{\"line_alpha\":0.1,\"line_color\":\"orange\",\"x\":{\"field\":\"x\"},\"y\":{\"field\":\"y\"}},\"id\":\"1730\",\"type\":\"Line\"},{\"attributes\":{\"fill_alpha\":0.2,\"fill_color\":\"orange\",\"x\":{\"field\":\"x\"},\"y1\":{\"field\":\"y1\"},\"y2\":{\"field\":\"y2\"}},\"id\":\"1199\",\"type\":\"VArea\"},{\"attributes\":{\"source\":{\"id\":\"1728\"}},\"id\":\"1732\",\"type\":\"CDSView\"},{\"attributes\":{\"fill_alpha\":0.1,\"fill_color\":\"orange\",\"x\":{\"field\":\"x\"},\"y1\":{\"field\":\"y1\"},\"y2\":{\"field\":\"y2\"}},\"id\":\"1740\",\"type\":\"VArea\"},{\"attributes\":{},\"id\":\"1944\",\"type\":\"UnionRenderers\"},{\"attributes\":{\"data_source\":{\"id\":\"1733\"},\"glyph\":{\"id\":\"1734\"},\"hover_glyph\":null,\"muted_glyph\":null,\"nonselection_glyph\":{\"id\":\"1735\"},\"view\":{\"id\":\"1737\"}},\"id\":\"1736\",\"type\":\"GlyphRenderer\"},{\"attributes\":{\"data\":{\"x\":[0.0,1.0],\"y1\":[0,0],\"y2\":[0.1204523954086467,0.1204523954086467]},\"selected\":{\"id\":\"1907\"},\"selection_policy\":{\"id\":\"1908\"}},\"id\":\"1213\",\"type\":\"ColumnDataSource\"},{\"attributes\":{\"data\":{\"x\":[4.0,4.0],\"y\":[0,0.09809796312312793]},\"selected\":{\"id\":\"2091\"},\"selection_policy\":{\"id\":\"2092\"}},\"id\":\"1733\",\"type\":\"ColumnDataSource\"},{\"attributes\":{\"line_alpha\":0.1,\"line_color\":\"orange\",\"x\":{\"field\":\"x\"},\"y\":{\"field\":\"y\"}},\"id\":\"1220\",\"type\":\"Line\"},{\"attributes\":{\"data\":{\"x\":[4.0,4.0],\"y\":[0,0.09809796312312793]},\"selected\":{\"id\":\"2095\"},\"selection_policy\":{\"id\":\"2096\"}},\"id\":\"1743\",\"type\":\"ColumnDataSource\"},{\"attributes\":{\"data_source\":{\"id\":\"1208\"},\"glyph\":{\"id\":\"1209\"},\"hover_glyph\":null,\"muted_glyph\":null,\"nonselection_glyph\":{\"id\":\"1210\"},\"view\":{\"id\":\"1212\"}},\"id\":\"1211\",\"type\":\"GlyphRenderer\"},{\"attributes\":{\"data\":{\"x\":[2.0,3.0],\"y1\":[0,0],\"y2\":[0.1204523954086467,0.1204523954086467]},\"selected\":{\"id\":\"1919\"},\"selection_policy\":{\"id\":\"1920\"}},\"id\":\"1243\",\"type\":\"ColumnDataSource\"},{\"attributes\":{\"data_source\":{\"id\":\"1228\"},\"glyph\":{\"id\":\"1229\"},\"hover_glyph\":null,\"muted_glyph\":null,\"nonselection_glyph\":{\"id\":\"1230\"},\"view\":{\"id\":\"1232\"}},\"id\":\"1231\",\"type\":\"GlyphRenderer\"},{\"attributes\":{\"fill_alpha\":0.1,\"fill_color\":\"orange\",\"x\":{\"field\":\"x\"},\"y1\":{\"field\":\"y1\"},\"y2\":{\"field\":\"y2\"}},\"id\":\"1215\",\"type\":\"VArea\"},{\"attributes\":{\"source\":{\"id\":\"1698\"}},\"id\":\"1702\",\"type\":\"CDSView\"},{\"attributes\":{\"background_fill_color\":\"#fafafa\",\"below\":[{\"id\":\"1334\"}],\"center\":[{\"id\":\"1337\"},{\"id\":\"1341\"}],\"frame_height\":200,\"frame_width\":200,\"left\":[{\"id\":\"1338\"}],\"renderers\":[{\"id\":\"1346\"},{\"id\":\"1351\"},{\"id\":\"1356\"},{\"id\":\"1361\"},{\"id\":\"1366\"},{\"id\":\"1371\"},{\"id\":\"1376\"},{\"id\":\"1381\"},{\"id\":\"1386\"},{\"id\":\"1391\"},{\"id\":\"1396\"},{\"id\":\"1401\"},{\"id\":\"1406\"},{\"id\":\"1411\"},{\"id\":\"1416\"},{\"id\":\"1421\"},{\"id\":\"1426\"},{\"id\":\"1431\"},{\"id\":\"1436\"},{\"id\":\"1441\"},{\"id\":\"1446\"},{\"id\":\"1451\"},{\"id\":\"1456\"},{\"id\":\"1461\"},{\"id\":\"1466\"},{\"id\":\"1471\"},{\"id\":\"1476\"},{\"id\":\"1481\"}],\"title\":{\"id\":\"1324\"},\"toolbar\":{\"id\":\"1342\"},\"x_range\":{\"id\":\"1326\"},\"x_scale\":{\"id\":\"1330\"},\"y_range\":{\"id\":\"1328\"},\"y_scale\":{\"id\":\"1332\"}},\"id\":\"1323\",\"subtype\":\"Figure\",\"type\":\"Plot\"},{\"attributes\":{\"line_alpha\":0.1,\"line_color\":\"orange\",\"x\":{\"field\":\"x\"},\"y\":{\"field\":\"y\"}},\"id\":\"1760\",\"type\":\"Line\"},{\"attributes\":{\"fill_alpha\":0.1,\"fill_color\":\"orange\",\"x\":{\"field\":\"x\"},\"y1\":{\"field\":\"y1\"},\"y2\":{\"field\":\"y2\"}},\"id\":\"1200\",\"type\":\"VArea\"},{\"attributes\":{\"line_color\":\"orange\",\"x\":{\"field\":\"x\"},\"y\":{\"field\":\"y\"}},\"id\":\"1729\",\"type\":\"Line\"},{\"attributes\":{\"data_source\":{\"id\":\"1193\"},\"glyph\":{\"id\":\"1194\"},\"hover_glyph\":null,\"muted_glyph\":null,\"nonselection_glyph\":{\"id\":\"1195\"},\"view\":{\"id\":\"1197\"}},\"id\":\"1196\",\"type\":\"GlyphRenderer\"},{\"attributes\":{},\"id\":\"1819\",\"type\":\"AllLabels\"},{\"attributes\":{\"source\":{\"id\":\"1753\"}},\"id\":\"1757\",\"type\":\"CDSView\"},{\"attributes\":{\"source\":{\"id\":\"1183\"}},\"id\":\"1187\",\"type\":\"CDSView\"},{\"attributes\":{},\"id\":\"1820\",\"type\":\"BasicTickFormatter\"},{\"attributes\":{\"line_color\":\"orange\",\"x\":{\"field\":\"x\"},\"y\":{\"field\":\"y\"}},\"id\":\"1734\",\"type\":\"Line\"},{\"attributes\":{\"data\":{\"x\":[0.0,0.0],\"y\":[0,0.09809796312312793]},\"selected\":{\"id\":\"2071\"},\"selection_policy\":{\"id\":\"2072\"}},\"id\":\"1683\",\"type\":\"ColumnDataSource\"},{\"attributes\":{},\"id\":\"1947\",\"type\":\"Selection\"},{\"attributes\":{},\"id\":\"2107\",\"type\":\"Selection\"},{\"attributes\":{\"line_color\":\"orange\",\"x\":{\"field\":\"x\"},\"y\":{\"field\":\"y\"}},\"id\":\"1189\",\"type\":\"Line\"},{\"attributes\":{\"line_alpha\":0.1,\"line_color\":\"orange\",\"x\":{\"field\":\"x\"},\"y\":{\"field\":\"y\"}},\"id\":\"1700\",\"type\":\"Line\"},{\"attributes\":{\"source\":{\"id\":\"1233\"}},\"id\":\"1237\",\"type\":\"CDSView\"},{\"attributes\":{\"data\":{\"x\":[2.0,3.0],\"y1\":[0,0],\"y2\":[0.09809796312312793,0.09809796312312793]},\"selected\":{\"id\":\"2087\"},\"selection_policy\":{\"id\":\"2088\"}},\"id\":\"1723\",\"type\":\"ColumnDataSource\"},{\"attributes\":{\"fill_alpha\":0.2,\"fill_color\":\"orange\",\"x\":{\"field\":\"x\"},\"y1\":{\"field\":\"y1\"},\"y2\":{\"field\":\"y2\"}},\"id\":\"1724\",\"type\":\"VArea\"},{\"attributes\":{\"line_color\":\"orange\",\"x\":{\"field\":\"x\"},\"y\":{\"field\":\"y\"}},\"id\":\"1249\",\"type\":\"Line\"},{\"attributes\":{\"line_alpha\":0.1,\"line_color\":\"orange\",\"x\":{\"field\":\"x\"},\"y\":{\"field\":\"y\"}},\"id\":\"1720\",\"type\":\"Line\"},{\"attributes\":{},\"id\":\"2108\",\"type\":\"UnionRenderers\"},{\"attributes\":{\"source\":{\"id\":\"1238\"}},\"id\":\"1242\",\"type\":\"CDSView\"},{\"attributes\":{\"source\":{\"id\":\"1718\"}},\"id\":\"1722\",\"type\":\"CDSView\"},{\"attributes\":{\"data\":{\"x\":[3.0,3.0],\"y\":[0,0.09809796312312793]},\"selected\":{\"id\":\"2089\"},\"selection_policy\":{\"id\":\"2090\"}},\"id\":\"1728\",\"type\":\"ColumnDataSource\"},{\"attributes\":{\"data_source\":{\"id\":\"1188\"},\"glyph\":{\"id\":\"1189\"},\"hover_glyph\":null,\"muted_glyph\":null,\"nonselection_glyph\":{\"id\":\"1190\"},\"view\":{\"id\":\"1192\"}},\"id\":\"1191\",\"type\":\"GlyphRenderer\"},{\"attributes\":{\"data_source\":{\"id\":\"1718\"},\"glyph\":{\"id\":\"1719\"},\"hover_glyph\":null,\"muted_glyph\":null,\"nonselection_glyph\":{\"id\":\"1720\"},\"view\":{\"id\":\"1722\"}},\"id\":\"1721\",\"type\":\"GlyphRenderer\"},{\"attributes\":{\"data\":{\"x\":[3.0,3.0],\"y\":[0,0.09809796312312793]},\"selected\":{\"id\":\"2085\"},\"selection_policy\":{\"id\":\"2086\"}},\"id\":\"1718\",\"type\":\"ColumnDataSource\"}],\"root_ids\":[\"1803\"]},\"title\":\"Bokeh Application\",\"version\":\"2.3.3\"}};\n",
       "  var render_items = [{\"docid\":\"a6cf9f92-197f-44bd-9407-c860434c6f09\",\"root_ids\":[\"1803\"],\"roots\":{\"1803\":\"3c922323-2b04-4fb1-b300-e928fe45bb8e\"}}];\n",
       "  root.Bokeh.embed.embed_items_notebook(docs_json, render_items);\n",
       "\n",
       "  }\n",
       "  if (root.Bokeh !== undefined) {\n",
       "    embed_document(root);\n",
       "  } else {\n",
       "    var attempts = 0;\n",
       "    var timer = setInterval(function(root) {\n",
       "      if (root.Bokeh !== undefined) {\n",
       "        clearInterval(timer);\n",
       "        embed_document(root);\n",
       "      } else {\n",
       "        attempts++;\n",
       "        if (attempts > 100) {\n",
       "          clearInterval(timer);\n",
       "          console.log(\"Bokeh: ERROR: Unable to run BokehJS code because BokehJS library is missing\");\n",
       "        }\n",
       "      }\n",
       "    }, 10, root)\n",
       "  }\n",
       "})(window);"
      ],
      "application/vnd.bokehjs_exec.v0+json": ""
     },
     "metadata": {
      "application/vnd.bokehjs_exec.v0+json": {
       "id": "1803"
      }
     },
     "output_type": "display_data"
    }
   ],
   "source": [
    "p_list = []\n",
    "for i in range(2, 7):\n",
    "    p = figure(title=\"mutations = {}\".format(i), frame_height=200, frame_width=200,\n",
    "               tools='', background_fill_color=\"#fafafa\", y_axis_label=\"density\",\n",
    "              x_axis_label=\"ΔE [k_BT]\")\n",
    "    energies = df.loc[df.mutations == i, \"energy\"].values\n",
    "    hist, edges = np.histogram(energies, density=True, bins=50)\n",
    "    p.quad(top=hist, bottom=0, left=edges[:-1], right=edges[1:],\n",
    "          fill_color=\"navy\", line_color=\"white\", alpha=0.5)\n",
    "    for (b1, b2) in bins:\n",
    "        p.line(x=[b1, b1], y=[0, np.max(hist)], color=\"orange\")\n",
    "        p.line(x=[b2, b2], y=[0, np.max(hist)], color=\"orange\")\n",
    "        p.varea(x=[b1, b2], y1=[0, 0], y2=[np.max(hist), np.max(hist)], alpha=0.2, color=\"orange\")\n",
    "        \n",
    "    p_list.append(p)\n",
    "    \n",
    "bokeh.io.show(\n",
    "    grid(p_list, nrows=1)\n",
    ")\n",
    "    "
   ]
  },
  {
   "cell_type": "markdown",
   "metadata": {},
   "source": [
    "Now we need to filter the sequences for the bins"
   ]
  },
  {
   "cell_type": "code",
   "execution_count": 14,
   "metadata": {},
   "outputs": [
    {
     "data": {
      "text/html": [
       "<div>\n",
       "<style scoped>\n",
       "    .dataframe tbody tr th:only-of-type {\n",
       "        vertical-align: middle;\n",
       "    }\n",
       "\n",
       "    .dataframe tbody tr th {\n",
       "        vertical-align: top;\n",
       "    }\n",
       "\n",
       "    .dataframe thead th {\n",
       "        text-align: right;\n",
       "    }\n",
       "</style>\n",
       "<table border=\"1\" class=\"dataframe\">\n",
       "  <thead>\n",
       "    <tr style=\"text-align: right;\">\n",
       "      <th></th>\n",
       "      <th>seq</th>\n",
       "      <th>mutations</th>\n",
       "      <th>energy</th>\n",
       "      <th>bin</th>\n",
       "    </tr>\n",
       "  </thead>\n",
       "  <tbody>\n",
       "    <tr>\n",
       "      <th>92796</th>\n",
       "      <td>ttcTGaGAcCGGATAcCAATT</td>\n",
       "      <td>6</td>\n",
       "      <td>7.071048</td>\n",
       "      <td>8</td>\n",
       "    </tr>\n",
       "    <tr>\n",
       "      <th>92797</th>\n",
       "      <td>ttcgGTGAGCGGATtACAcTT</td>\n",
       "      <td>6</td>\n",
       "      <td>7.557970</td>\n",
       "      <td>8</td>\n",
       "    </tr>\n",
       "    <tr>\n",
       "      <th>92798</th>\n",
       "      <td>ttgTGTGAGCcGATccCAATT</td>\n",
       "      <td>6</td>\n",
       "      <td>7.031437</td>\n",
       "      <td>8</td>\n",
       "    </tr>\n",
       "    <tr>\n",
       "      <th>92799</th>\n",
       "      <td>ttgTGTGAGCcGgTgACAATT</td>\n",
       "      <td>6</td>\n",
       "      <td>7.998127</td>\n",
       "      <td>8</td>\n",
       "    </tr>\n",
       "    <tr>\n",
       "      <th>92800</th>\n",
       "      <td>ttgTGTGAaCGGAgAACAtTT</td>\n",
       "      <td>6</td>\n",
       "      <td>7.364072</td>\n",
       "      <td>8</td>\n",
       "    </tr>\n",
       "    <tr>\n",
       "      <th>92801</th>\n",
       "      <td>ttgTGTGgGCGGgTAACAATa</td>\n",
       "      <td>6</td>\n",
       "      <td>7.214062</td>\n",
       "      <td>8</td>\n",
       "    </tr>\n",
       "    <tr>\n",
       "      <th>92802</th>\n",
       "      <td>ttgTGaGAGCGGATAAgAAgT</td>\n",
       "      <td>6</td>\n",
       "      <td>7.666160</td>\n",
       "      <td>8</td>\n",
       "    </tr>\n",
       "    <tr>\n",
       "      <th>92803</th>\n",
       "      <td>ttgTGgGAGCGGATAgCAgTT</td>\n",
       "      <td>6</td>\n",
       "      <td>7.033200</td>\n",
       "      <td>8</td>\n",
       "    </tr>\n",
       "    <tr>\n",
       "      <th>92804</th>\n",
       "      <td>ttgcGTGAGCGGAcAtCAATT</td>\n",
       "      <td>6</td>\n",
       "      <td>7.003734</td>\n",
       "      <td>8</td>\n",
       "    </tr>\n",
       "    <tr>\n",
       "      <th>92805</th>\n",
       "      <td>ttgcGTcAGCGGATAACAATg</td>\n",
       "      <td>6</td>\n",
       "      <td>7.429142</td>\n",
       "      <td>8</td>\n",
       "    </tr>\n",
       "  </tbody>\n",
       "</table>\n",
       "</div>"
      ],
      "text/plain": [
       "                         seq  mutations    energy  bin\n",
       "92796  ttcTGaGAcCGGATAcCAATT          6  7.071048    8\n",
       "92797  ttcgGTGAGCGGATtACAcTT          6  7.557970    8\n",
       "92798  ttgTGTGAGCcGATccCAATT          6  7.031437    8\n",
       "92799  ttgTGTGAGCcGgTgACAATT          6  7.998127    8\n",
       "92800  ttgTGTGAaCGGAgAACAtTT          6  7.364072    8\n",
       "92801  ttgTGTGgGCGGgTAACAATa          6  7.214062    8\n",
       "92802  ttgTGaGAGCGGATAAgAAgT          6  7.666160    8\n",
       "92803  ttgTGgGAGCGGATAgCAgTT          6  7.033200    8\n",
       "92804  ttgcGTGAGCGGAcAtCAATT          6  7.003734    8\n",
       "92805  ttgcGTcAGCGGATAACAATg          6  7.429142    8"
      ]
     },
     "execution_count": 14,
     "metadata": {},
     "output_type": "execute_result"
    }
   ],
   "source": [
    "# Temporary list of sub data frames\n",
    "df_list = []\n",
    "\n",
    "# Iterate through bins\n",
    "for i, (x,y) in enumerate(bins):\n",
    "    # Copy data frame with sequnces within the bin\n",
    "    temp_df = copy.deepcopy(df.loc[[x < E < y for E in df[\"energy\"] ], :])\n",
    "    \n",
    "    # Append column with bin number\n",
    "    temp_df[\"bin\"] = np.ones(len(temp_df), dtype=int) * i\n",
    "    \n",
    "    # Append to temporary list\n",
    "    df_list.append(temp_df)\n",
    "\n",
    "# Combine data frames again\n",
    "binned_df = pd.concat(df_list, ignore_index=True)\n",
    "\n",
    "# Show first 10 rows\n",
    "binned_df.tail(10)"
   ]
  },
  {
   "cell_type": "markdown",
   "metadata": {},
   "source": [
    "Now we need to select mutants from the bins. We want to try to get an equal number of sequences for each number of mutations per bin. However, some bins are sparsely populated by some type of mutants. Therefore we choose a maximal number of sequences per mutation type per bin. If there are more sequences in a bin, we randomly select sequences."
   ]
  },
  {
   "cell_type": "code",
   "execution_count": 15,
   "metadata": {},
   "outputs": [],
   "source": [
    "def select_seqs(df, ind_bin, num_seqs):\n",
    "    # Compute number of sequences per mutant\n",
    "    seqs_per_mut = np.floor(num_seqs / len(df.mutations.unique()))\n",
    "    \n",
    "    # Count number of sequences per number of mutations\n",
    "    count_df = df.groupby([\"mutations\", \"bin\"]).size().to_frame(name=\"num_mutants\").reset_index()\n",
    "    count_df = count_df.loc[count_df[\"bin\"] == ind_bin, :]\n",
    "    \n",
    "    # Prepare data frame to return\n",
    "    ret_df = pd.DataFrame(columns=[\"seq\", \"mutations\", \"energy\", \"bin\"])\n",
    "    \n",
    "    # Iterate through mutants\n",
    "    for i in df.mutations.unique():\n",
    "        # If there are not enough sequences, take all\n",
    "        if i in count_df.mutations.values:\n",
    "            if count_df.loc[count_df[\"mutations\"] == i, \"num_mutants\"].values < seqs_per_mut:\n",
    "                ret_df = pd.concat([ret_df, df.loc[(df[\"mutations\"] == i) & (df[\"bin\"] == ind_bin), :]], ignore_index=True)\n",
    "            else:\n",
    "                # Randomly choose mutants\n",
    "                indices = df.loc[(df[\"mutations\"] == i) & (df[\"bin\"] == ind_bin), :].index.to_numpy(dtype=int)\n",
    "                selected_indices = np.random.choice(indices, size=int(seqs_per_mut), replace=False)\n",
    "                ret_df = pd.concat([ret_df, df.iloc[selected_indices]])\n",
    "    return ret_df"
   ]
  },
  {
   "cell_type": "markdown",
   "metadata": {},
   "source": [
    "Now we only need to apply the function to each bin and collect sequences. "
   ]
  },
  {
   "cell_type": "code",
   "execution_count": 16,
   "metadata": {},
   "outputs": [
    {
     "data": {
      "text/html": [
       "<div>\n",
       "<style scoped>\n",
       "    .dataframe tbody tr th:only-of-type {\n",
       "        vertical-align: middle;\n",
       "    }\n",
       "\n",
       "    .dataframe tbody tr th {\n",
       "        vertical-align: top;\n",
       "    }\n",
       "\n",
       "    .dataframe thead th {\n",
       "        text-align: right;\n",
       "    }\n",
       "</style>\n",
       "<table border=\"1\" class=\"dataframe\">\n",
       "  <thead>\n",
       "    <tr style=\"text-align: right;\">\n",
       "      <th></th>\n",
       "      <th>seq</th>\n",
       "      <th>mutations</th>\n",
       "      <th>energy</th>\n",
       "      <th>bin</th>\n",
       "    </tr>\n",
       "  </thead>\n",
       "  <tbody>\n",
       "    <tr>\n",
       "      <th>0</th>\n",
       "      <td>cATTGTGAGCGGATcACAATT</td>\n",
       "      <td>2</td>\n",
       "      <td>-0.069192</td>\n",
       "      <td>0</td>\n",
       "    </tr>\n",
       "    <tr>\n",
       "      <th>1</th>\n",
       "      <td>cATTGTGAGCGGATAACAAaT</td>\n",
       "      <td>2</td>\n",
       "      <td>-0.028948</td>\n",
       "      <td>0</td>\n",
       "    </tr>\n",
       "    <tr>\n",
       "      <th>2</th>\n",
       "      <td>cATTGTGAGCGGATAACAATg</td>\n",
       "      <td>2</td>\n",
       "      <td>-0.621844</td>\n",
       "      <td>0</td>\n",
       "    </tr>\n",
       "    <tr>\n",
       "      <th>3</th>\n",
       "      <td>AcTTGTGAGCGGATAACAATc</td>\n",
       "      <td>2</td>\n",
       "      <td>-0.520312</td>\n",
       "      <td>0</td>\n",
       "    </tr>\n",
       "    <tr>\n",
       "      <th>4</th>\n",
       "      <td>AAaTGTGAGCGGATAACAATc</td>\n",
       "      <td>2</td>\n",
       "      <td>-0.637571</td>\n",
       "      <td>0</td>\n",
       "    </tr>\n",
       "  </tbody>\n",
       "</table>\n",
       "</div>"
      ],
      "text/plain": [
       "                     seq mutations    energy bin\n",
       "0  cATTGTGAGCGGATcACAATT         2 -0.069192   0\n",
       "1  cATTGTGAGCGGATAACAAaT         2 -0.028948   0\n",
       "2  cATTGTGAGCGGATAACAATg         2 -0.621844   0\n",
       "3  AcTTGTGAGCGGATAACAATc         2 -0.520312   0\n",
       "4  AAaTGTGAGCGGATAACAATc         2 -0.637571   0"
      ]
     },
     "execution_count": 16,
     "metadata": {},
     "output_type": "execute_result"
    }
   ],
   "source": [
    "O1_mutants_df_list = []\n",
    "for Bin in range(len(bins)):\n",
    "    O1_mutants_df_list.append(select_seqs(binned_df, Bin, 400))\n",
    "O1_mutants_df = pd.concat(O1_mutants_df_list, ignore_index=True)\n",
    "O1_mutants_df.head()"
   ]
  },
  {
   "cell_type": "markdown",
   "metadata": {},
   "source": [
    "Let's see how many sequences we have."
   ]
  },
  {
   "cell_type": "code",
   "execution_count": 17,
   "metadata": {},
   "outputs": [
    {
     "data": {
      "text/plain": [
       "3210"
      ]
     },
     "execution_count": 17,
     "metadata": {},
     "output_type": "execute_result"
    }
   ],
   "source": [
    "len(O1_mutants_df.seq.values)"
   ]
  },
  {
   "cell_type": "markdown",
   "metadata": {},
   "source": [
    "Finally, we add all single mutants back to the oligo pool."
   ]
  },
  {
   "cell_type": "code",
   "execution_count": 18,
   "metadata": {},
   "outputs": [],
   "source": [
    "df_1[\"energy\"] = df_1['seq'].apply(energy_from_sequence, args= (O1_matrix, ))\n",
    "df_1[\"bin\"] = \"x\"\n",
    "O1_mutants_df = pd.concat([O1_mutants_df, df_1], ignore_index=True)"
   ]
  },
  {
   "cell_type": "markdown",
   "metadata": {},
   "source": [
    "Now we only need to add the lacUV5 sequence to each mutant to get the final constructs. We also add the wildtype operator sequences, and add the energy predicted by Hernan's paper."
   ]
  },
  {
   "cell_type": "code",
   "execution_count": 19,
   "metadata": {},
   "outputs": [
    {
     "data": {
      "text/html": [
       "<div>\n",
       "<style scoped>\n",
       "    .dataframe tbody tr th:only-of-type {\n",
       "        vertical-align: middle;\n",
       "    }\n",
       "\n",
       "    .dataframe tbody tr th {\n",
       "        vertical-align: top;\n",
       "    }\n",
       "\n",
       "    .dataframe thead th {\n",
       "        text-align: right;\n",
       "    }\n",
       "</style>\n",
       "<table border=\"1\" class=\"dataframe\">\n",
       "  <thead>\n",
       "    <tr style=\"text-align: right;\">\n",
       "      <th></th>\n",
       "      <th>seq</th>\n",
       "      <th>mutations</th>\n",
       "      <th>energy</th>\n",
       "      <th>bin</th>\n",
       "      <th>construct</th>\n",
       "      <th>primer_added</th>\n",
       "    </tr>\n",
       "  </thead>\n",
       "  <tbody>\n",
       "    <tr>\n",
       "      <th>0</th>\n",
       "      <td>TCGAGTTTACACTTTATGCTTCCGGCTCGTATAATGTGTGGcATTG...</td>\n",
       "      <td>2</td>\n",
       "      <td>-0.069192</td>\n",
       "      <td>0</td>\n",
       "      <td>lacUV5+O1_mutant</td>\n",
       "      <td>False</td>\n",
       "    </tr>\n",
       "    <tr>\n",
       "      <th>1</th>\n",
       "      <td>TCGAGTTTACACTTTATGCTTCCGGCTCGTATAATGTGTGGcATTG...</td>\n",
       "      <td>2</td>\n",
       "      <td>-0.028948</td>\n",
       "      <td>0</td>\n",
       "      <td>lacUV5+O1_mutant</td>\n",
       "      <td>False</td>\n",
       "    </tr>\n",
       "    <tr>\n",
       "      <th>2</th>\n",
       "      <td>TCGAGTTTACACTTTATGCTTCCGGCTCGTATAATGTGTGGcATTG...</td>\n",
       "      <td>2</td>\n",
       "      <td>-0.621844</td>\n",
       "      <td>0</td>\n",
       "      <td>lacUV5+O1_mutant</td>\n",
       "      <td>False</td>\n",
       "    </tr>\n",
       "    <tr>\n",
       "      <th>3</th>\n",
       "      <td>TCGAGTTTACACTTTATGCTTCCGGCTCGTATAATGTGTGGAcTTG...</td>\n",
       "      <td>2</td>\n",
       "      <td>-0.520312</td>\n",
       "      <td>0</td>\n",
       "      <td>lacUV5+O1_mutant</td>\n",
       "      <td>False</td>\n",
       "    </tr>\n",
       "    <tr>\n",
       "      <th>4</th>\n",
       "      <td>TCGAGTTTACACTTTATGCTTCCGGCTCGTATAATGTGTGGAAaTG...</td>\n",
       "      <td>2</td>\n",
       "      <td>-0.637571</td>\n",
       "      <td>0</td>\n",
       "      <td>lacUV5+O1_mutant</td>\n",
       "      <td>False</td>\n",
       "    </tr>\n",
       "  </tbody>\n",
       "</table>\n",
       "</div>"
      ],
      "text/plain": [
       "                                                 seq mutations    energy bin  \\\n",
       "0  TCGAGTTTACACTTTATGCTTCCGGCTCGTATAATGTGTGGcATTG...         2 -0.069192   0   \n",
       "1  TCGAGTTTACACTTTATGCTTCCGGCTCGTATAATGTGTGGcATTG...         2 -0.028948   0   \n",
       "2  TCGAGTTTACACTTTATGCTTCCGGCTCGTATAATGTGTGGcATTG...         2 -0.621844   0   \n",
       "3  TCGAGTTTACACTTTATGCTTCCGGCTCGTATAATGTGTGGAcTTG...         2 -0.520312   0   \n",
       "4  TCGAGTTTACACTTTATGCTTCCGGCTCGTATAATGTGTGGAAaTG...         2 -0.637571   0   \n",
       "\n",
       "          construct  primer_added  \n",
       "0  lacUV5+O1_mutant         False  \n",
       "1  lacUV5+O1_mutant         False  \n",
       "2  lacUV5+O1_mutant         False  \n",
       "3  lacUV5+O1_mutant         False  \n",
       "4  lacUV5+O1_mutant         False  "
      ]
     },
     "execution_count": 19,
     "metadata": {},
     "output_type": "execute_result"
    }
   ],
   "source": [
    "oligos = copy.deepcopy(O1_mutants_df)\n",
    "oligos['construct'] = \"lacUV5+O1_mutant\"\n",
    "oligos.seq = [lacUV5 + seq for seq in oligos.seq]\n",
    "for i in range(10):\n",
    "    oligos = oligos.append(\n",
    "        pd.DataFrame(\n",
    "            [[lacUV5_O1, 0, 0, \"x\", \"lacUV5+O1\"],\n",
    "             [lacUV5_O2, 0, 1.4, \"x\", \"lacUV5+O2\"],\n",
    "             [lacUV5_O3, 0, 5.6, \"x\", \"lacUV5+O3\"]\n",
    "            ], \n",
    "            columns=['seq', 'mutations', 'energy', 'bin', 'construct']), \n",
    "        ignore_index=True\n",
    "    )\n",
    "oligos['primer_added'] = False\n",
    "oligos.head()"
   ]
  },
  {
   "cell_type": "markdown",
   "metadata": {},
   "source": [
    "Finally store the dataframe in the data folder."
   ]
  },
  {
   "cell_type": "code",
   "execution_count": 20,
   "metadata": {},
   "outputs": [
    {
     "data": {
      "text/html": [
       "<div>\n",
       "<style scoped>\n",
       "    .dataframe tbody tr th:only-of-type {\n",
       "        vertical-align: middle;\n",
       "    }\n",
       "\n",
       "    .dataframe tbody tr th {\n",
       "        vertical-align: top;\n",
       "    }\n",
       "\n",
       "    .dataframe thead th {\n",
       "        text-align: right;\n",
       "    }\n",
       "</style>\n",
       "<table border=\"1\" class=\"dataframe\">\n",
       "  <thead>\n",
       "    <tr style=\"text-align: right;\">\n",
       "      <th></th>\n",
       "      <th>seq</th>\n",
       "      <th>mutations</th>\n",
       "      <th>energy</th>\n",
       "      <th>bin</th>\n",
       "      <th>construct</th>\n",
       "      <th>primer_added</th>\n",
       "    </tr>\n",
       "  </thead>\n",
       "  <tbody>\n",
       "    <tr>\n",
       "      <th>0</th>\n",
       "      <td>TCGAGTTTACACTTTATGCTTCCGGCTCGTATAATGTGTGGcATTG...</td>\n",
       "      <td>2</td>\n",
       "      <td>-0.069192</td>\n",
       "      <td>0</td>\n",
       "      <td>lacUV5+O1_mutant</td>\n",
       "      <td>False</td>\n",
       "    </tr>\n",
       "    <tr>\n",
       "      <th>1</th>\n",
       "      <td>TCGAGTTTACACTTTATGCTTCCGGCTCGTATAATGTGTGGcATTG...</td>\n",
       "      <td>2</td>\n",
       "      <td>-0.028948</td>\n",
       "      <td>0</td>\n",
       "      <td>lacUV5+O1_mutant</td>\n",
       "      <td>False</td>\n",
       "    </tr>\n",
       "    <tr>\n",
       "      <th>2</th>\n",
       "      <td>TCGAGTTTACACTTTATGCTTCCGGCTCGTATAATGTGTGGcATTG...</td>\n",
       "      <td>2</td>\n",
       "      <td>-0.621844</td>\n",
       "      <td>0</td>\n",
       "      <td>lacUV5+O1_mutant</td>\n",
       "      <td>False</td>\n",
       "    </tr>\n",
       "    <tr>\n",
       "      <th>3</th>\n",
       "      <td>TCGAGTTTACACTTTATGCTTCCGGCTCGTATAATGTGTGGAcTTG...</td>\n",
       "      <td>2</td>\n",
       "      <td>-0.520312</td>\n",
       "      <td>0</td>\n",
       "      <td>lacUV5+O1_mutant</td>\n",
       "      <td>False</td>\n",
       "    </tr>\n",
       "    <tr>\n",
       "      <th>4</th>\n",
       "      <td>TCGAGTTTACACTTTATGCTTCCGGCTCGTATAATGTGTGGAAaTG...</td>\n",
       "      <td>2</td>\n",
       "      <td>-0.637571</td>\n",
       "      <td>0</td>\n",
       "      <td>lacUV5+O1_mutant</td>\n",
       "      <td>False</td>\n",
       "    </tr>\n",
       "    <tr>\n",
       "      <th>...</th>\n",
       "      <td>...</td>\n",
       "      <td>...</td>\n",
       "      <td>...</td>\n",
       "      <td>...</td>\n",
       "      <td>...</td>\n",
       "      <td>...</td>\n",
       "    </tr>\n",
       "    <tr>\n",
       "      <th>3298</th>\n",
       "      <td>TCGAGTTTACACTTTATGCTTCCGGCTCGTATAATGTGTGGAAATG...</td>\n",
       "      <td>0</td>\n",
       "      <td>1.400000</td>\n",
       "      <td>x</td>\n",
       "      <td>lacUV5+O2</td>\n",
       "      <td>False</td>\n",
       "    </tr>\n",
       "    <tr>\n",
       "      <th>3299</th>\n",
       "      <td>TCGAGTTTACACTTTATGCTTCCGGCTCGTATAATGTGTGGGGCAG...</td>\n",
       "      <td>0</td>\n",
       "      <td>5.600000</td>\n",
       "      <td>x</td>\n",
       "      <td>lacUV5+O3</td>\n",
       "      <td>False</td>\n",
       "    </tr>\n",
       "    <tr>\n",
       "      <th>3300</th>\n",
       "      <td>TCGAGTTTACACTTTATGCTTCCGGCTCGTATAATGTGTGGAATTG...</td>\n",
       "      <td>0</td>\n",
       "      <td>0.000000</td>\n",
       "      <td>x</td>\n",
       "      <td>lacUV5+O1</td>\n",
       "      <td>False</td>\n",
       "    </tr>\n",
       "    <tr>\n",
       "      <th>3301</th>\n",
       "      <td>TCGAGTTTACACTTTATGCTTCCGGCTCGTATAATGTGTGGAAATG...</td>\n",
       "      <td>0</td>\n",
       "      <td>1.400000</td>\n",
       "      <td>x</td>\n",
       "      <td>lacUV5+O2</td>\n",
       "      <td>False</td>\n",
       "    </tr>\n",
       "    <tr>\n",
       "      <th>3302</th>\n",
       "      <td>TCGAGTTTACACTTTATGCTTCCGGCTCGTATAATGTGTGGGGCAG...</td>\n",
       "      <td>0</td>\n",
       "      <td>5.600000</td>\n",
       "      <td>x</td>\n",
       "      <td>lacUV5+O3</td>\n",
       "      <td>False</td>\n",
       "    </tr>\n",
       "  </tbody>\n",
       "</table>\n",
       "<p>3303 rows × 6 columns</p>\n",
       "</div>"
      ],
      "text/plain": [
       "                                                    seq mutations    energy  \\\n",
       "0     TCGAGTTTACACTTTATGCTTCCGGCTCGTATAATGTGTGGcATTG...         2 -0.069192   \n",
       "1     TCGAGTTTACACTTTATGCTTCCGGCTCGTATAATGTGTGGcATTG...         2 -0.028948   \n",
       "2     TCGAGTTTACACTTTATGCTTCCGGCTCGTATAATGTGTGGcATTG...         2 -0.621844   \n",
       "3     TCGAGTTTACACTTTATGCTTCCGGCTCGTATAATGTGTGGAcTTG...         2 -0.520312   \n",
       "4     TCGAGTTTACACTTTATGCTTCCGGCTCGTATAATGTGTGGAAaTG...         2 -0.637571   \n",
       "...                                                 ...       ...       ...   \n",
       "3298  TCGAGTTTACACTTTATGCTTCCGGCTCGTATAATGTGTGGAAATG...         0  1.400000   \n",
       "3299  TCGAGTTTACACTTTATGCTTCCGGCTCGTATAATGTGTGGGGCAG...         0  5.600000   \n",
       "3300  TCGAGTTTACACTTTATGCTTCCGGCTCGTATAATGTGTGGAATTG...         0  0.000000   \n",
       "3301  TCGAGTTTACACTTTATGCTTCCGGCTCGTATAATGTGTGGAAATG...         0  1.400000   \n",
       "3302  TCGAGTTTACACTTTATGCTTCCGGCTCGTATAATGTGTGGGGCAG...         0  5.600000   \n",
       "\n",
       "     bin         construct  primer_added  \n",
       "0      0  lacUV5+O1_mutant         False  \n",
       "1      0  lacUV5+O1_mutant         False  \n",
       "2      0  lacUV5+O1_mutant         False  \n",
       "3      0  lacUV5+O1_mutant         False  \n",
       "4      0  lacUV5+O1_mutant         False  \n",
       "...   ..               ...           ...  \n",
       "3298   x         lacUV5+O2         False  \n",
       "3299   x         lacUV5+O3         False  \n",
       "3300   x         lacUV5+O1         False  \n",
       "3301   x         lacUV5+O2         False  \n",
       "3302   x         lacUV5+O3         False  \n",
       "\n",
       "[3303 rows x 6 columns]"
      ]
     },
     "execution_count": 20,
     "metadata": {},
     "output_type": "execute_result"
    }
   ],
   "source": [
    "oligos"
   ]
  },
  {
   "cell_type": "code",
   "execution_count": 22,
   "metadata": {},
   "outputs": [],
   "source": [
    "#oligos.to_csv(\"../../../../data/twist_order/lacI_sequences.csv\")"
   ]
  },
  {
   "cell_type": "markdown",
   "metadata": {},
   "source": [
    "## Computational environment"
   ]
  },
  {
   "cell_type": "code",
   "execution_count": 23,
   "metadata": {},
   "outputs": [
    {
     "name": "stdout",
     "output_type": "stream",
     "text": [
      "CPython 3.8.5\n",
      "IPython 7.19.0\n",
      "\n",
      "numpy 1.18.1\n",
      "pandas 1.2.0\n",
      "wgregseq 0.0.1\n",
      "bokeh 2.0.2\n"
     ]
    }
   ],
   "source": [
    "%load_ext watermark\n",
    "%watermark -v -p numpy,pandas,wgregseq,bokeh"
   ]
  },
  {
   "cell_type": "code",
   "execution_count": null,
   "metadata": {},
   "outputs": [],
   "source": []
  }
 ],
 "metadata": {
  "kernelspec": {
   "display_name": "Python 3",
   "language": "python",
   "name": "python3"
  },
  "language_info": {
   "codemirror_mode": {
    "name": "ipython",
    "version": 3
   },
   "file_extension": ".py",
   "mimetype": "text/x-python",
   "name": "python",
   "nbconvert_exporter": "python",
   "pygments_lexer": "ipython3",
   "version": "3.8.10"
  }
 },
 "nbformat": 4,
 "nbformat_minor": 4
}
