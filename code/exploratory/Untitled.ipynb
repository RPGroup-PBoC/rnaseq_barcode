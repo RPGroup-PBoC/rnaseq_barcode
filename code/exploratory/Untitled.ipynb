{
 "cells": [
  {
   "cell_type": "code",
   "execution_count": 1,
   "id": "9607bcdc-697b-4119-bc9a-69615b538610",
   "metadata": {},
   "outputs": [],
   "source": [
    "import numpy as np\n",
    "import pandas as pd"
   ]
  },
  {
   "cell_type": "code",
   "execution_count": 7,
   "id": "c24ec622-1859-4873-979b-a0721dc56b93",
   "metadata": {},
   "outputs": [
    {
     "data": {
      "text/html": [
       "<div>\n",
       "<style scoped>\n",
       "    .dataframe tbody tr th:only-of-type {\n",
       "        vertical-align: middle;\n",
       "    }\n",
       "\n",
       "    .dataframe tbody tr th {\n",
       "        vertical-align: top;\n",
       "    }\n",
       "\n",
       "    .dataframe thead th {\n",
       "        text-align: right;\n",
       "    }\n",
       "</style>\n",
       "<table border=\"1\" class=\"dataframe\">\n",
       "  <thead>\n",
       "    <tr style=\"text-align: right;\">\n",
       "      <th></th>\n",
       "      <th>name,sequence</th>\n",
       "    </tr>\n",
       "  </thead>\n",
       "  <tbody>\n",
       "    <tr>\n",
       "      <th>0</th>\n",
       "      <td>acrA_0,CCATTGATAGATTCGCTCGCTCGAGGATGTGTTGGCGCG...</td>\n",
       "    </tr>\n",
       "    <tr>\n",
       "      <th>1</th>\n",
       "      <td>acrA_1,CCATTGATAGATTCGCTCGCTCGAGGATGTAATTGCTCG...</td>\n",
       "    </tr>\n",
       "    <tr>\n",
       "      <th>2</th>\n",
       "      <td>acrA_2,CCATTGATAGATTCGCTCGCTCGAGGATGTAGAGGCGCG...</td>\n",
       "    </tr>\n",
       "    <tr>\n",
       "      <th>3</th>\n",
       "      <td>acrA_3,CCATTGATAGATTCGCTCGCTCGAGGATGTAGAGGCGTG...</td>\n",
       "    </tr>\n",
       "    <tr>\n",
       "      <th>4</th>\n",
       "      <td>acrA_4,CCATTGATAGATTCGCTCGCTCGAGGATGTAGTAGCGCG...</td>\n",
       "    </tr>\n",
       "    <tr>\n",
       "      <th>...</th>\n",
       "      <td>...</td>\n",
       "    </tr>\n",
       "    <tr>\n",
       "      <th>29982</th>\n",
       "      <td>neg_variant_29982,GCTTATTCGTGCCGTGTTATCTTTTCAT...</td>\n",
       "    </tr>\n",
       "    <tr>\n",
       "      <th>29983</th>\n",
       "      <td>neg_variant_29983,GCTTATTCGTGCCGTGTTATCCGACTGG...</td>\n",
       "    </tr>\n",
       "    <tr>\n",
       "      <th>29984</th>\n",
       "      <td>neg_variant_29984,GCTTATTCGTGCCGTGTTATTCAACTTG...</td>\n",
       "    </tr>\n",
       "    <tr>\n",
       "      <th>29985</th>\n",
       "      <td>neg_variant_29985,GCTTATTCGTGCCGTGTTATAACAGTTC...</td>\n",
       "    </tr>\n",
       "    <tr>\n",
       "      <th>29986</th>\n",
       "      <td>neg_variant_29986,GCTTATTCGTGCCGTGTTATGGATATTG...</td>\n",
       "    </tr>\n",
       "  </tbody>\n",
       "</table>\n",
       "<p>29987 rows × 1 columns</p>\n",
       "</div>"
      ],
      "text/plain": [
       "                                           name,sequence\n",
       "0      acrA_0,CCATTGATAGATTCGCTCGCTCGAGGATGTGTTGGCGCG...\n",
       "1      acrA_1,CCATTGATAGATTCGCTCGCTCGAGGATGTAATTGCTCG...\n",
       "2      acrA_2,CCATTGATAGATTCGCTCGCTCGAGGATGTAGAGGCGCG...\n",
       "3      acrA_3,CCATTGATAGATTCGCTCGCTCGAGGATGTAGAGGCGTG...\n",
       "4      acrA_4,CCATTGATAGATTCGCTCGCTCGAGGATGTAGTAGCGCG...\n",
       "...                                                  ...\n",
       "29982  neg_variant_29982,GCTTATTCGTGCCGTGTTATCTTTTCAT...\n",
       "29983  neg_variant_29983,GCTTATTCGTGCCGTGTTATCCGACTGG...\n",
       "29984  neg_variant_29984,GCTTATTCGTGCCGTGTTATTCAACTTG...\n",
       "29985  neg_variant_29985,GCTTATTCGTGCCGTGTTATAACAGTTC...\n",
       "29986  neg_variant_29986,GCTTATTCGTGCCGTGTTATGGATATTG...\n",
       "\n",
       "[29987 rows x 1 columns]"
      ]
     },
     "execution_count": 7,
     "metadata": {},
     "output_type": "execute_result"
    }
   ],
   "source": [
    "df = pd.read_csv('../../data/extra/TWIST_sequences_niko_30000.csv', sep=\",\")\n",
    "df"
   ]
  },
  {
   "cell_type": "code",
   "execution_count": 9,
   "id": "2574d76f-775d-4e27-be79-50d69fb8b214",
   "metadata": {},
   "outputs": [
    {
     "data": {
      "text/plain": [
       "206"
      ]
     },
     "execution_count": 9,
     "metadata": {},
     "output_type": "execute_result"
    }
   ],
   "source": [
    "site = \"GTCGAC\"\n",
    "\n",
    "np.sum([site in x.split(\",\")[1] for x in df['name,sequence']])"
   ]
  },
  {
   "cell_type": "code",
   "execution_count": null,
   "id": "8b80d4e7-05f7-49da-85e4-6c80b12d7069",
   "metadata": {},
   "outputs": [],
   "source": []
  }
 ],
 "metadata": {
  "kernelspec": {
   "display_name": "Python 3",
   "language": "python",
   "name": "python3"
  },
  "language_info": {
   "codemirror_mode": {
    "name": "ipython",
    "version": 3
   },
   "file_extension": ".py",
   "mimetype": "text/x-python",
   "name": "python",
   "nbconvert_exporter": "python",
   "pygments_lexer": "ipython3",
   "version": "3.8.11"
  }
 },
 "nbformat": 4,
 "nbformat_minor": 5
}
